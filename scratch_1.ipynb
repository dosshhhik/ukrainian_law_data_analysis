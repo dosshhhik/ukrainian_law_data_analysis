{
 "cells": [
  {
   "cell_type": "code",
   "execution_count": 3,
   "outputs": [],
   "source": [
    "\n",
    "import pandas as pd\n",
    "import requests\n",
    "import json\n",
    "\n",
    "import magic\n",
    "import os"
   ],
   "metadata": {
    "collapsed": false
   }
  },
  {
   "cell_type": "markdown",
   "source": [
    "### Аналіз структури даних. Розподілення на датафрейми"
   ],
   "metadata": {
    "collapsed": false
   }
  },
  {
   "cell_type": "markdown",
   "source": [
    "**виділення назв в дф**"
   ],
   "metadata": {
    "collapsed": false
   }
  },
  {
   "cell_type": "code",
   "execution_count": 4,
   "outputs": [],
   "source": [
    "data = pd.read_json(\"data/billinfo-skl9.json\")\n"
   ],
   "metadata": {
    "collapsed": false
   }
  },
  {
   "cell_type": "code",
   "execution_count": 37,
   "outputs": [],
   "source": [
    "names = data[['id', 'name', 'registrationNumber',  ]]\n",
    "names.to_csv('data/names.csv')"
   ],
   "metadata": {
    "collapsed": false
   }
  },
  {
   "cell_type": "code",
   "execution_count": 12,
   "outputs": [
    {
     "data": {
      "text/plain": "         id       type                                               name  \\\n0     41797  Звичайний  Проект Закону про внесення змін до деяких зако...   \n1     41791  Звичайний  Проект Закону про внесення змін до деяких зако...   \n2     41790  Звичайний  Проект Закону про внесення зміни до Кримінальн...   \n3     41787  Звичайний  Проект Закону про внесення змін до деяких зако...   \n4     41786  Звичайний  Проект Закону про внесення змін до Закону Укра...   \n...     ...        ...                                                ...   \n8672      5  Звичайний  Проект Закону про внесення змін до деяких зако...   \n8673      4  Звичайний  Проект Закону про внесення змін до деяких зако...   \n8674      3  Звичайний  Проект Закону про внесення змін до розділу X \"...   \n8675      2  Звичайний  Проект Закону громадянами України - засновника...   \n8676      1  Звичайний  Проект Закону про внесення змін до деяких зако...   \n\n                                                    url registrationNumber  \\\n0     https://itd.rada.gov.ua/billInfo/Bills/Card/41797               9219   \n1     https://itd.rada.gov.ua/billInfo/Bills/Card/41791               9217   \n2     https://itd.rada.gov.ua/billInfo/Bills/Card/41790               9215   \n3     https://itd.rada.gov.ua/billInfo/Bills/Card/41787               9213   \n4     https://itd.rada.gov.ua/billInfo/Bills/Card/41786               9214   \n...                                                 ...                ...   \n8672      https://itd.rada.gov.ua/billInfo/Bills/Card/5               2071   \n8673      https://itd.rada.gov.ua/billInfo/Bills/Card/4               2067   \n8674      https://itd.rada.gov.ua/billInfo/Bills/Card/3               1101   \n8675      https://itd.rada.gov.ua/billInfo/Bills/Card/2               2065   \n8676      https://itd.rada.gov.ua/billInfo/Bills/Card/1               2064   \n\n         registrationDate registrationSession registrationConvocation  \\\n0     2023-04-18T00:00:00             9 сесія            IX скликання   \n1     2023-04-18T00:00:00             9 сесія            IX скликання   \n2     2023-04-17T00:00:00             9 сесія            IX скликання   \n3     2023-04-17T00:00:00             9 сесія            IX скликання   \n4     2023-04-17T00:00:00             9 сесія            IX скликання   \n...                   ...                 ...                     ...   \n8672  2019-09-05T00:00:00             2 сесія            IX скликання   \n8673  2019-09-05T00:00:00             2 сесія            IX скликання   \n8674  2020-01-14T00:00:00             2 сесія            IX скликання   \n8675  2019-09-05T00:00:00             2 сесія            IX скликання   \n8676  2019-09-05T00:00:00             2 сесія            IX скликання   \n\n     redaction              rubric  ...  \\\n0     Основний  Галузевий розвиток  ...   \n1     Основний  Галузевий розвиток  ...   \n2     Основний    Правова політика  ...   \n3     Основний  Галузевий розвиток  ...   \n4     Основний  Соціальна політика  ...   \n...        ...                 ...  ...   \n8672  Основний  Галузевий розвиток  ...   \n8673  Основний  Галузевий розвиток  ...   \n8674  Основний  Галузевий розвиток  ...   \n8675  Основний  Галузевий розвиток  ...   \n8676  Основний  Галузевий розвиток  ...   \n\n                                         mainExecutives  \\\n0                                                    []   \n1     [{'department': 'Комітет Верховної Ради Україн...   \n2     [{'department': 'Комітет Верховної Ради Україн...   \n3     [{'department': 'Комітет Верховної Ради Україн...   \n4     [{'department': 'Комітет Верховної Ради Україн...   \n...                                                 ...   \n8672  [{'department': 'Комітет Верховної Ради Україн...   \n8673  [{'department': 'Комітет Верховної Ради Україн...   \n8674  [{'department': 'Комітет Верховної Ради Україн...   \n8675  [{'department': 'Комітет Верховної Ради Україн...   \n8676  [{'department': 'Комітет Верховної Ради Україн...   \n\n                                             executives  \\\n0                                                    []   \n1     [{'department': 'Комітет Верховної Ради Україн...   \n2     [{'department': 'Комітет Верховної Ради Україн...   \n3     [{'department': 'Комітет Верховної Ради Україн...   \n4     [{'department': 'Комітет Верховної Ради Україн...   \n...                                                 ...   \n8672  [{'department': 'Комітет Верховної Ради Україн...   \n8673  [{'department': 'Комітет Верховної Ради Україн...   \n8674  [{'department': 'Комітет Верховної Ради Україн...   \n8675  [{'department': 'Комітет Верховної Ради Україн...   \n8676  [{'department': 'Комітет Верховної Ради Україн...   \n\n                                              documents  \\\n0                        {'source': [], 'workflow': []}   \n1     {'source': [{'id': 1166620, 'kindId': 63, 'kin...   \n2     {'source': [{'id': 1166436, 'kindId': 63, 'kin...   \n3     {'source': [{'id': 1165700, 'kindId': 63, 'kin...   \n4     {'source': [{'id': 1165511, 'kindId': 63, 'kin...   \n...                                                 ...   \n8672  {'source': [{'id': 13994, 'kindId': 63, 'kind'...   \n8673  {'source': [{'id': 13990, 'kindId': 63, 'kind'...   \n8674  {'source': [{'id': 13961, 'kindId': 63, 'kind'...   \n8675  {'source': [{'id': 13946, 'kindId': 63, 'kind'...   \n8676  {'source': [{'id': 13800, 'kindId': 63, 'kind'...   \n\n                                           currentPhase  \\\n0     {'date': None, 'title': None, 'status': 'Одерж...   \n1     {'date': None, 'title': None, 'status': 'Опрац...   \n2     {'date': None, 'title': None, 'status': 'Опрац...   \n3     {'date': None, 'title': None, 'status': 'Опрац...   \n4     {'date': None, 'title': None, 'status': 'Опрац...   \n...                                                 ...   \n8672  {'date': None, 'title': None, 'status': 'Знято...   \n8673  {'date': None, 'title': None, 'status': 'Опрац...   \n8674  {'date': None, 'title': None, 'status': 'Знято...   \n8675  {'date': None, 'title': None, 'status': 'Опрац...   \n8676  {'date': None, 'title': None, 'status': 'Закон...   \n\n                                               passings  \\\n0     [{'date': '2023-04-18T17:50:27.597', 'title': ...   \n1     [{'date': '2023-04-18T14:02:34', 'title': 'Нап...   \n2     [{'date': '2023-04-18T14:01:54', 'title': 'Нап...   \n3     [{'date': '2023-04-18T09:58:10.12', 'title': '...   \n4     [{'date': '2023-04-18T09:58:10.12', 'title': '...   \n...                                                 ...   \n8672  [{'date': '2020-02-04T17:11:00', 'title': 'Зня...   \n8673  [{'date': '2020-01-14T17:25:36.153', 'title': ...   \n8674  [{'date': '2020-02-04T17:33:00', 'title': 'Зня...   \n8675  [{'date': '2019-09-06T16:26:00', 'title': 'Над...   \n8676  [{'date': '2022-01-05T14:45:00', 'title': 'Роз...   \n\n                                                 agenda    bind alternative  \\\n0                                                    []      []          []   \n1                                                    []      []          []   \n2                                                    []      []          []   \n3                                                    []      []          []   \n4                                                    []      []          []   \n...                                                 ...     ...         ...   \n8672                                                 []      []          []   \n8673  [{'number': '2911-IX', 'date': '2023-02-07T00:...      []          []   \n8674                                                 []      []  [490, 492]   \n8675  [{'number': '2911-IX', 'date': '2023-02-07T00:...      []          []   \n8676  [{'number': '1708-IX', 'date': '2021-09-07T00:...  [1911]          []   \n\n     isUrgent isEuro  \n0       False    0.0  \n1       False    0.0  \n2       False    0.0  \n3       False    0.0  \n4       False    0.0  \n...       ...    ...  \n8672    False    0.0  \n8673    False    0.0  \n8674    False    0.0  \n8675    False    0.0  \n8676    False    0.0  \n\n[8677 rows x 24 columns]",
      "text/html": "<div>\n<style scoped>\n    .dataframe tbody tr th:only-of-type {\n        vertical-align: middle;\n    }\n\n    .dataframe tbody tr th {\n        vertical-align: top;\n    }\n\n    .dataframe thead th {\n        text-align: right;\n    }\n</style>\n<table border=\"1\" class=\"dataframe\">\n  <thead>\n    <tr style=\"text-align: right;\">\n      <th></th>\n      <th>id</th>\n      <th>type</th>\n      <th>name</th>\n      <th>url</th>\n      <th>registrationNumber</th>\n      <th>registrationDate</th>\n      <th>registrationSession</th>\n      <th>registrationConvocation</th>\n      <th>redaction</th>\n      <th>rubric</th>\n      <th>...</th>\n      <th>mainExecutives</th>\n      <th>executives</th>\n      <th>documents</th>\n      <th>currentPhase</th>\n      <th>passings</th>\n      <th>agenda</th>\n      <th>bind</th>\n      <th>alternative</th>\n      <th>isUrgent</th>\n      <th>isEuro</th>\n    </tr>\n  </thead>\n  <tbody>\n    <tr>\n      <th>0</th>\n      <td>41797</td>\n      <td>Звичайний</td>\n      <td>Проект Закону про внесення змін до деяких зако...</td>\n      <td>https://itd.rada.gov.ua/billInfo/Bills/Card/41797</td>\n      <td>9219</td>\n      <td>2023-04-18T00:00:00</td>\n      <td>9 сесія</td>\n      <td>IX скликання</td>\n      <td>Основний</td>\n      <td>Галузевий розвиток</td>\n      <td>...</td>\n      <td>[]</td>\n      <td>[]</td>\n      <td>{'source': [], 'workflow': []}</td>\n      <td>{'date': None, 'title': None, 'status': 'Одерж...</td>\n      <td>[{'date': '2023-04-18T17:50:27.597', 'title': ...</td>\n      <td>[]</td>\n      <td>[]</td>\n      <td>[]</td>\n      <td>False</td>\n      <td>0.0</td>\n    </tr>\n    <tr>\n      <th>1</th>\n      <td>41791</td>\n      <td>Звичайний</td>\n      <td>Проект Закону про внесення змін до деяких зако...</td>\n      <td>https://itd.rada.gov.ua/billInfo/Bills/Card/41791</td>\n      <td>9217</td>\n      <td>2023-04-18T00:00:00</td>\n      <td>9 сесія</td>\n      <td>IX скликання</td>\n      <td>Основний</td>\n      <td>Галузевий розвиток</td>\n      <td>...</td>\n      <td>[{'department': 'Комітет Верховної Ради Україн...</td>\n      <td>[{'department': 'Комітет Верховної Ради Україн...</td>\n      <td>{'source': [{'id': 1166620, 'kindId': 63, 'kin...</td>\n      <td>{'date': None, 'title': None, 'status': 'Опрац...</td>\n      <td>[{'date': '2023-04-18T14:02:34', 'title': 'Нап...</td>\n      <td>[]</td>\n      <td>[]</td>\n      <td>[]</td>\n      <td>False</td>\n      <td>0.0</td>\n    </tr>\n    <tr>\n      <th>2</th>\n      <td>41790</td>\n      <td>Звичайний</td>\n      <td>Проект Закону про внесення зміни до Кримінальн...</td>\n      <td>https://itd.rada.gov.ua/billInfo/Bills/Card/41790</td>\n      <td>9215</td>\n      <td>2023-04-17T00:00:00</td>\n      <td>9 сесія</td>\n      <td>IX скликання</td>\n      <td>Основний</td>\n      <td>Правова політика</td>\n      <td>...</td>\n      <td>[{'department': 'Комітет Верховної Ради Україн...</td>\n      <td>[{'department': 'Комітет Верховної Ради Україн...</td>\n      <td>{'source': [{'id': 1166436, 'kindId': 63, 'kin...</td>\n      <td>{'date': None, 'title': None, 'status': 'Опрац...</td>\n      <td>[{'date': '2023-04-18T14:01:54', 'title': 'Нап...</td>\n      <td>[]</td>\n      <td>[]</td>\n      <td>[]</td>\n      <td>False</td>\n      <td>0.0</td>\n    </tr>\n    <tr>\n      <th>3</th>\n      <td>41787</td>\n      <td>Звичайний</td>\n      <td>Проект Закону про внесення змін до деяких зако...</td>\n      <td>https://itd.rada.gov.ua/billInfo/Bills/Card/41787</td>\n      <td>9213</td>\n      <td>2023-04-17T00:00:00</td>\n      <td>9 сесія</td>\n      <td>IX скликання</td>\n      <td>Основний</td>\n      <td>Галузевий розвиток</td>\n      <td>...</td>\n      <td>[{'department': 'Комітет Верховної Ради Україн...</td>\n      <td>[{'department': 'Комітет Верховної Ради Україн...</td>\n      <td>{'source': [{'id': 1165700, 'kindId': 63, 'kin...</td>\n      <td>{'date': None, 'title': None, 'status': 'Опрац...</td>\n      <td>[{'date': '2023-04-18T09:58:10.12', 'title': '...</td>\n      <td>[]</td>\n      <td>[]</td>\n      <td>[]</td>\n      <td>False</td>\n      <td>0.0</td>\n    </tr>\n    <tr>\n      <th>4</th>\n      <td>41786</td>\n      <td>Звичайний</td>\n      <td>Проект Закону про внесення змін до Закону Укра...</td>\n      <td>https://itd.rada.gov.ua/billInfo/Bills/Card/41786</td>\n      <td>9214</td>\n      <td>2023-04-17T00:00:00</td>\n      <td>9 сесія</td>\n      <td>IX скликання</td>\n      <td>Основний</td>\n      <td>Соціальна політика</td>\n      <td>...</td>\n      <td>[{'department': 'Комітет Верховної Ради Україн...</td>\n      <td>[{'department': 'Комітет Верховної Ради Україн...</td>\n      <td>{'source': [{'id': 1165511, 'kindId': 63, 'kin...</td>\n      <td>{'date': None, 'title': None, 'status': 'Опрац...</td>\n      <td>[{'date': '2023-04-18T09:58:10.12', 'title': '...</td>\n      <td>[]</td>\n      <td>[]</td>\n      <td>[]</td>\n      <td>False</td>\n      <td>0.0</td>\n    </tr>\n    <tr>\n      <th>...</th>\n      <td>...</td>\n      <td>...</td>\n      <td>...</td>\n      <td>...</td>\n      <td>...</td>\n      <td>...</td>\n      <td>...</td>\n      <td>...</td>\n      <td>...</td>\n      <td>...</td>\n      <td>...</td>\n      <td>...</td>\n      <td>...</td>\n      <td>...</td>\n      <td>...</td>\n      <td>...</td>\n      <td>...</td>\n      <td>...</td>\n      <td>...</td>\n      <td>...</td>\n      <td>...</td>\n    </tr>\n    <tr>\n      <th>8672</th>\n      <td>5</td>\n      <td>Звичайний</td>\n      <td>Проект Закону про внесення змін до деяких зако...</td>\n      <td>https://itd.rada.gov.ua/billInfo/Bills/Card/5</td>\n      <td>2071</td>\n      <td>2019-09-05T00:00:00</td>\n      <td>2 сесія</td>\n      <td>IX скликання</td>\n      <td>Основний</td>\n      <td>Галузевий розвиток</td>\n      <td>...</td>\n      <td>[{'department': 'Комітет Верховної Ради Україн...</td>\n      <td>[{'department': 'Комітет Верховної Ради Україн...</td>\n      <td>{'source': [{'id': 13994, 'kindId': 63, 'kind'...</td>\n      <td>{'date': None, 'title': None, 'status': 'Знято...</td>\n      <td>[{'date': '2020-02-04T17:11:00', 'title': 'Зня...</td>\n      <td>[]</td>\n      <td>[]</td>\n      <td>[]</td>\n      <td>False</td>\n      <td>0.0</td>\n    </tr>\n    <tr>\n      <th>8673</th>\n      <td>4</td>\n      <td>Звичайний</td>\n      <td>Проект Закону про внесення змін до деяких зако...</td>\n      <td>https://itd.rada.gov.ua/billInfo/Bills/Card/4</td>\n      <td>2067</td>\n      <td>2019-09-05T00:00:00</td>\n      <td>2 сесія</td>\n      <td>IX скликання</td>\n      <td>Основний</td>\n      <td>Галузевий розвиток</td>\n      <td>...</td>\n      <td>[{'department': 'Комітет Верховної Ради Україн...</td>\n      <td>[{'department': 'Комітет Верховної Ради Україн...</td>\n      <td>{'source': [{'id': 13990, 'kindId': 63, 'kind'...</td>\n      <td>{'date': None, 'title': None, 'status': 'Опрац...</td>\n      <td>[{'date': '2020-01-14T17:25:36.153', 'title': ...</td>\n      <td>[{'number': '2911-IX', 'date': '2023-02-07T00:...</td>\n      <td>[]</td>\n      <td>[]</td>\n      <td>False</td>\n      <td>0.0</td>\n    </tr>\n    <tr>\n      <th>8674</th>\n      <td>3</td>\n      <td>Звичайний</td>\n      <td>Проект Закону про внесення змін до розділу X \"...</td>\n      <td>https://itd.rada.gov.ua/billInfo/Bills/Card/3</td>\n      <td>1101</td>\n      <td>2020-01-14T00:00:00</td>\n      <td>2 сесія</td>\n      <td>IX скликання</td>\n      <td>Основний</td>\n      <td>Галузевий розвиток</td>\n      <td>...</td>\n      <td>[{'department': 'Комітет Верховної Ради Україн...</td>\n      <td>[{'department': 'Комітет Верховної Ради Україн...</td>\n      <td>{'source': [{'id': 13961, 'kindId': 63, 'kind'...</td>\n      <td>{'date': None, 'title': None, 'status': 'Знято...</td>\n      <td>[{'date': '2020-02-04T17:33:00', 'title': 'Зня...</td>\n      <td>[]</td>\n      <td>[]</td>\n      <td>[490, 492]</td>\n      <td>False</td>\n      <td>0.0</td>\n    </tr>\n    <tr>\n      <th>8675</th>\n      <td>2</td>\n      <td>Звичайний</td>\n      <td>Проект Закону громадянами України - засновника...</td>\n      <td>https://itd.rada.gov.ua/billInfo/Bills/Card/2</td>\n      <td>2065</td>\n      <td>2019-09-05T00:00:00</td>\n      <td>2 сесія</td>\n      <td>IX скликання</td>\n      <td>Основний</td>\n      <td>Галузевий розвиток</td>\n      <td>...</td>\n      <td>[{'department': 'Комітет Верховної Ради Україн...</td>\n      <td>[{'department': 'Комітет Верховної Ради Україн...</td>\n      <td>{'source': [{'id': 13946, 'kindId': 63, 'kind'...</td>\n      <td>{'date': None, 'title': None, 'status': 'Опрац...</td>\n      <td>[{'date': '2019-09-06T16:26:00', 'title': 'Над...</td>\n      <td>[{'number': '2911-IX', 'date': '2023-02-07T00:...</td>\n      <td>[]</td>\n      <td>[]</td>\n      <td>False</td>\n      <td>0.0</td>\n    </tr>\n    <tr>\n      <th>8676</th>\n      <td>1</td>\n      <td>Звичайний</td>\n      <td>Проект Закону про внесення змін до деяких зако...</td>\n      <td>https://itd.rada.gov.ua/billInfo/Bills/Card/1</td>\n      <td>2064</td>\n      <td>2019-09-05T00:00:00</td>\n      <td>2 сесія</td>\n      <td>IX скликання</td>\n      <td>Основний</td>\n      <td>Галузевий розвиток</td>\n      <td>...</td>\n      <td>[{'department': 'Комітет Верховної Ради Україн...</td>\n      <td>[{'department': 'Комітет Верховної Ради Україн...</td>\n      <td>{'source': [{'id': 13800, 'kindId': 63, 'kind'...</td>\n      <td>{'date': None, 'title': None, 'status': 'Закон...</td>\n      <td>[{'date': '2022-01-05T14:45:00', 'title': 'Роз...</td>\n      <td>[{'number': '1708-IX', 'date': '2021-09-07T00:...</td>\n      <td>[1911]</td>\n      <td>[]</td>\n      <td>False</td>\n      <td>0.0</td>\n    </tr>\n  </tbody>\n</table>\n<p>8677 rows × 24 columns</p>\n</div>"
     },
     "execution_count": 12,
     "metadata": {},
     "output_type": "execute_result"
    }
   ],
   "source": [
    "data"
   ],
   "metadata": {
    "collapsed": false
   }
  },
  {
   "cell_type": "code",
   "execution_count": 5,
   "outputs": [
    {
     "data": {
      "text/plain": "         id       type                                               name  \\\n0     41797  Звичайний  Проект Закону про внесення змін до деяких зако...   \n1     41791  Звичайний  Проект Закону про внесення змін до деяких зако...   \n2     41790  Звичайний  Проект Закону про внесення зміни до Кримінальн...   \n3     41787  Звичайний  Проект Закону про внесення змін до деяких зако...   \n4     41786  Звичайний  Проект Закону про внесення змін до Закону Укра...   \n...     ...        ...                                                ...   \n8672      5  Звичайний  Проект Закону про внесення змін до деяких зако...   \n8673      4  Звичайний  Проект Закону про внесення змін до деяких зако...   \n8674      3  Звичайний  Проект Закону про внесення змін до розділу X \"...   \n8675      2  Звичайний  Проект Закону громадянами України - засновника...   \n8676      1  Звичайний  Проект Закону про внесення змін до деяких зако...   \n\n                                                    url registrationNumber  \\\n0     https://itd.rada.gov.ua/billInfo/Bills/Card/41797               9219   \n1     https://itd.rada.gov.ua/billInfo/Bills/Card/41791               9217   \n2     https://itd.rada.gov.ua/billInfo/Bills/Card/41790               9215   \n3     https://itd.rada.gov.ua/billInfo/Bills/Card/41787               9213   \n4     https://itd.rada.gov.ua/billInfo/Bills/Card/41786               9214   \n...                                                 ...                ...   \n8672      https://itd.rada.gov.ua/billInfo/Bills/Card/5               2071   \n8673      https://itd.rada.gov.ua/billInfo/Bills/Card/4               2067   \n8674      https://itd.rada.gov.ua/billInfo/Bills/Card/3               1101   \n8675      https://itd.rada.gov.ua/billInfo/Bills/Card/2               2065   \n8676      https://itd.rada.gov.ua/billInfo/Bills/Card/1               2064   \n\n         registrationDate registrationSession registrationConvocation  \\\n0     2023-04-18T00:00:00             9 сесія            IX скликання   \n1     2023-04-18T00:00:00             9 сесія            IX скликання   \n2     2023-04-17T00:00:00             9 сесія            IX скликання   \n3     2023-04-17T00:00:00             9 сесія            IX скликання   \n4     2023-04-17T00:00:00             9 сесія            IX скликання   \n...                   ...                 ...                     ...   \n8672  2019-09-05T00:00:00             2 сесія            IX скликання   \n8673  2019-09-05T00:00:00             2 сесія            IX скликання   \n8674  2020-01-14T00:00:00             2 сесія            IX скликання   \n8675  2019-09-05T00:00:00             2 сесія            IX скликання   \n8676  2019-09-05T00:00:00             2 сесія            IX скликання   \n\n     redaction              rubric  ...  \\\n0     Основний  Галузевий розвиток  ...   \n1     Основний  Галузевий розвиток  ...   \n2     Основний    Правова політика  ...   \n3     Основний  Галузевий розвиток  ...   \n4     Основний  Соціальна політика  ...   \n...        ...                 ...  ...   \n8672  Основний  Галузевий розвиток  ...   \n8673  Основний  Галузевий розвиток  ...   \n8674  Основний  Галузевий розвиток  ...   \n8675  Основний  Галузевий розвиток  ...   \n8676  Основний  Галузевий розвиток  ...   \n\n                                         mainExecutives  \\\n0                                                    []   \n1     [{'department': 'Комітет Верховної Ради Україн...   \n2     [{'department': 'Комітет Верховної Ради Україн...   \n3     [{'department': 'Комітет Верховної Ради Україн...   \n4     [{'department': 'Комітет Верховної Ради Україн...   \n...                                                 ...   \n8672  [{'department': 'Комітет Верховної Ради Україн...   \n8673  [{'department': 'Комітет Верховної Ради Україн...   \n8674  [{'department': 'Комітет Верховної Ради Україн...   \n8675  [{'department': 'Комітет Верховної Ради Україн...   \n8676  [{'department': 'Комітет Верховної Ради Україн...   \n\n                                             executives  \\\n0                                                    []   \n1     [{'department': 'Комітет Верховної Ради Україн...   \n2     [{'department': 'Комітет Верховної Ради Україн...   \n3     [{'department': 'Комітет Верховної Ради Україн...   \n4     [{'department': 'Комітет Верховної Ради Україн...   \n...                                                 ...   \n8672  [{'department': 'Комітет Верховної Ради Україн...   \n8673  [{'department': 'Комітет Верховної Ради Україн...   \n8674  [{'department': 'Комітет Верховної Ради Україн...   \n8675  [{'department': 'Комітет Верховної Ради Україн...   \n8676  [{'department': 'Комітет Верховної Ради Україн...   \n\n                                              documents  \\\n0                        {'source': [], 'workflow': []}   \n1     {'source': [{'id': 1166620, 'kindId': 63, 'kin...   \n2     {'source': [{'id': 1166436, 'kindId': 63, 'kin...   \n3     {'source': [{'id': 1165700, 'kindId': 63, 'kin...   \n4     {'source': [{'id': 1165511, 'kindId': 63, 'kin...   \n...                                                 ...   \n8672  {'source': [{'id': 13994, 'kindId': 63, 'kind'...   \n8673  {'source': [{'id': 13990, 'kindId': 63, 'kind'...   \n8674  {'source': [{'id': 13961, 'kindId': 63, 'kind'...   \n8675  {'source': [{'id': 13946, 'kindId': 63, 'kind'...   \n8676  {'source': [{'id': 13800, 'kindId': 63, 'kind'...   \n\n                                           currentPhase  \\\n0     {'date': None, 'title': None, 'status': 'Одерж...   \n1     {'date': None, 'title': None, 'status': 'Опрац...   \n2     {'date': None, 'title': None, 'status': 'Опрац...   \n3     {'date': None, 'title': None, 'status': 'Опрац...   \n4     {'date': None, 'title': None, 'status': 'Опрац...   \n...                                                 ...   \n8672  {'date': None, 'title': None, 'status': 'Знято...   \n8673  {'date': None, 'title': None, 'status': 'Опрац...   \n8674  {'date': None, 'title': None, 'status': 'Знято...   \n8675  {'date': None, 'title': None, 'status': 'Опрац...   \n8676  {'date': None, 'title': None, 'status': 'Закон...   \n\n                                               passings  \\\n0     [{'date': '2023-04-18T17:50:27.597', 'title': ...   \n1     [{'date': '2023-04-18T14:02:34', 'title': 'Нап...   \n2     [{'date': '2023-04-18T14:01:54', 'title': 'Нап...   \n3     [{'date': '2023-04-18T09:58:10.12', 'title': '...   \n4     [{'date': '2023-04-18T09:58:10.12', 'title': '...   \n...                                                 ...   \n8672  [{'date': '2020-02-04T17:11:00', 'title': 'Зня...   \n8673  [{'date': '2020-01-14T17:25:36.153', 'title': ...   \n8674  [{'date': '2020-02-04T17:33:00', 'title': 'Зня...   \n8675  [{'date': '2019-09-06T16:26:00', 'title': 'Над...   \n8676  [{'date': '2022-01-05T14:45:00', 'title': 'Роз...   \n\n                                                 agenda    bind alternative  \\\n0                                                    []      []          []   \n1                                                    []      []          []   \n2                                                    []      []          []   \n3                                                    []      []          []   \n4                                                    []      []          []   \n...                                                 ...     ...         ...   \n8672                                                 []      []          []   \n8673  [{'number': '2911-IX', 'date': '2023-02-07T00:...      []          []   \n8674                                                 []      []  [490, 492]   \n8675  [{'number': '2911-IX', 'date': '2023-02-07T00:...      []          []   \n8676  [{'number': '1708-IX', 'date': '2021-09-07T00:...  [1911]          []   \n\n     isUrgent isEuro  \n0       False    0.0  \n1       False    0.0  \n2       False    0.0  \n3       False    0.0  \n4       False    0.0  \n...       ...    ...  \n8672    False    0.0  \n8673    False    0.0  \n8674    False    0.0  \n8675    False    0.0  \n8676    False    0.0  \n\n[8677 rows x 24 columns]",
      "text/html": "<div>\n<style scoped>\n    .dataframe tbody tr th:only-of-type {\n        vertical-align: middle;\n    }\n\n    .dataframe tbody tr th {\n        vertical-align: top;\n    }\n\n    .dataframe thead th {\n        text-align: right;\n    }\n</style>\n<table border=\"1\" class=\"dataframe\">\n  <thead>\n    <tr style=\"text-align: right;\">\n      <th></th>\n      <th>id</th>\n      <th>type</th>\n      <th>name</th>\n      <th>url</th>\n      <th>registrationNumber</th>\n      <th>registrationDate</th>\n      <th>registrationSession</th>\n      <th>registrationConvocation</th>\n      <th>redaction</th>\n      <th>rubric</th>\n      <th>...</th>\n      <th>mainExecutives</th>\n      <th>executives</th>\n      <th>documents</th>\n      <th>currentPhase</th>\n      <th>passings</th>\n      <th>agenda</th>\n      <th>bind</th>\n      <th>alternative</th>\n      <th>isUrgent</th>\n      <th>isEuro</th>\n    </tr>\n  </thead>\n  <tbody>\n    <tr>\n      <th>0</th>\n      <td>41797</td>\n      <td>Звичайний</td>\n      <td>Проект Закону про внесення змін до деяких зако...</td>\n      <td>https://itd.rada.gov.ua/billInfo/Bills/Card/41797</td>\n      <td>9219</td>\n      <td>2023-04-18T00:00:00</td>\n      <td>9 сесія</td>\n      <td>IX скликання</td>\n      <td>Основний</td>\n      <td>Галузевий розвиток</td>\n      <td>...</td>\n      <td>[]</td>\n      <td>[]</td>\n      <td>{'source': [], 'workflow': []}</td>\n      <td>{'date': None, 'title': None, 'status': 'Одерж...</td>\n      <td>[{'date': '2023-04-18T17:50:27.597', 'title': ...</td>\n      <td>[]</td>\n      <td>[]</td>\n      <td>[]</td>\n      <td>False</td>\n      <td>0.0</td>\n    </tr>\n    <tr>\n      <th>1</th>\n      <td>41791</td>\n      <td>Звичайний</td>\n      <td>Проект Закону про внесення змін до деяких зако...</td>\n      <td>https://itd.rada.gov.ua/billInfo/Bills/Card/41791</td>\n      <td>9217</td>\n      <td>2023-04-18T00:00:00</td>\n      <td>9 сесія</td>\n      <td>IX скликання</td>\n      <td>Основний</td>\n      <td>Галузевий розвиток</td>\n      <td>...</td>\n      <td>[{'department': 'Комітет Верховної Ради Україн...</td>\n      <td>[{'department': 'Комітет Верховної Ради Україн...</td>\n      <td>{'source': [{'id': 1166620, 'kindId': 63, 'kin...</td>\n      <td>{'date': None, 'title': None, 'status': 'Опрац...</td>\n      <td>[{'date': '2023-04-18T14:02:34', 'title': 'Нап...</td>\n      <td>[]</td>\n      <td>[]</td>\n      <td>[]</td>\n      <td>False</td>\n      <td>0.0</td>\n    </tr>\n    <tr>\n      <th>2</th>\n      <td>41790</td>\n      <td>Звичайний</td>\n      <td>Проект Закону про внесення зміни до Кримінальн...</td>\n      <td>https://itd.rada.gov.ua/billInfo/Bills/Card/41790</td>\n      <td>9215</td>\n      <td>2023-04-17T00:00:00</td>\n      <td>9 сесія</td>\n      <td>IX скликання</td>\n      <td>Основний</td>\n      <td>Правова політика</td>\n      <td>...</td>\n      <td>[{'department': 'Комітет Верховної Ради Україн...</td>\n      <td>[{'department': 'Комітет Верховної Ради Україн...</td>\n      <td>{'source': [{'id': 1166436, 'kindId': 63, 'kin...</td>\n      <td>{'date': None, 'title': None, 'status': 'Опрац...</td>\n      <td>[{'date': '2023-04-18T14:01:54', 'title': 'Нап...</td>\n      <td>[]</td>\n      <td>[]</td>\n      <td>[]</td>\n      <td>False</td>\n      <td>0.0</td>\n    </tr>\n    <tr>\n      <th>3</th>\n      <td>41787</td>\n      <td>Звичайний</td>\n      <td>Проект Закону про внесення змін до деяких зако...</td>\n      <td>https://itd.rada.gov.ua/billInfo/Bills/Card/41787</td>\n      <td>9213</td>\n      <td>2023-04-17T00:00:00</td>\n      <td>9 сесія</td>\n      <td>IX скликання</td>\n      <td>Основний</td>\n      <td>Галузевий розвиток</td>\n      <td>...</td>\n      <td>[{'department': 'Комітет Верховної Ради Україн...</td>\n      <td>[{'department': 'Комітет Верховної Ради Україн...</td>\n      <td>{'source': [{'id': 1165700, 'kindId': 63, 'kin...</td>\n      <td>{'date': None, 'title': None, 'status': 'Опрац...</td>\n      <td>[{'date': '2023-04-18T09:58:10.12', 'title': '...</td>\n      <td>[]</td>\n      <td>[]</td>\n      <td>[]</td>\n      <td>False</td>\n      <td>0.0</td>\n    </tr>\n    <tr>\n      <th>4</th>\n      <td>41786</td>\n      <td>Звичайний</td>\n      <td>Проект Закону про внесення змін до Закону Укра...</td>\n      <td>https://itd.rada.gov.ua/billInfo/Bills/Card/41786</td>\n      <td>9214</td>\n      <td>2023-04-17T00:00:00</td>\n      <td>9 сесія</td>\n      <td>IX скликання</td>\n      <td>Основний</td>\n      <td>Соціальна політика</td>\n      <td>...</td>\n      <td>[{'department': 'Комітет Верховної Ради Україн...</td>\n      <td>[{'department': 'Комітет Верховної Ради Україн...</td>\n      <td>{'source': [{'id': 1165511, 'kindId': 63, 'kin...</td>\n      <td>{'date': None, 'title': None, 'status': 'Опрац...</td>\n      <td>[{'date': '2023-04-18T09:58:10.12', 'title': '...</td>\n      <td>[]</td>\n      <td>[]</td>\n      <td>[]</td>\n      <td>False</td>\n      <td>0.0</td>\n    </tr>\n    <tr>\n      <th>...</th>\n      <td>...</td>\n      <td>...</td>\n      <td>...</td>\n      <td>...</td>\n      <td>...</td>\n      <td>...</td>\n      <td>...</td>\n      <td>...</td>\n      <td>...</td>\n      <td>...</td>\n      <td>...</td>\n      <td>...</td>\n      <td>...</td>\n      <td>...</td>\n      <td>...</td>\n      <td>...</td>\n      <td>...</td>\n      <td>...</td>\n      <td>...</td>\n      <td>...</td>\n      <td>...</td>\n    </tr>\n    <tr>\n      <th>8672</th>\n      <td>5</td>\n      <td>Звичайний</td>\n      <td>Проект Закону про внесення змін до деяких зако...</td>\n      <td>https://itd.rada.gov.ua/billInfo/Bills/Card/5</td>\n      <td>2071</td>\n      <td>2019-09-05T00:00:00</td>\n      <td>2 сесія</td>\n      <td>IX скликання</td>\n      <td>Основний</td>\n      <td>Галузевий розвиток</td>\n      <td>...</td>\n      <td>[{'department': 'Комітет Верховної Ради Україн...</td>\n      <td>[{'department': 'Комітет Верховної Ради Україн...</td>\n      <td>{'source': [{'id': 13994, 'kindId': 63, 'kind'...</td>\n      <td>{'date': None, 'title': None, 'status': 'Знято...</td>\n      <td>[{'date': '2020-02-04T17:11:00', 'title': 'Зня...</td>\n      <td>[]</td>\n      <td>[]</td>\n      <td>[]</td>\n      <td>False</td>\n      <td>0.0</td>\n    </tr>\n    <tr>\n      <th>8673</th>\n      <td>4</td>\n      <td>Звичайний</td>\n      <td>Проект Закону про внесення змін до деяких зако...</td>\n      <td>https://itd.rada.gov.ua/billInfo/Bills/Card/4</td>\n      <td>2067</td>\n      <td>2019-09-05T00:00:00</td>\n      <td>2 сесія</td>\n      <td>IX скликання</td>\n      <td>Основний</td>\n      <td>Галузевий розвиток</td>\n      <td>...</td>\n      <td>[{'department': 'Комітет Верховної Ради Україн...</td>\n      <td>[{'department': 'Комітет Верховної Ради Україн...</td>\n      <td>{'source': [{'id': 13990, 'kindId': 63, 'kind'...</td>\n      <td>{'date': None, 'title': None, 'status': 'Опрац...</td>\n      <td>[{'date': '2020-01-14T17:25:36.153', 'title': ...</td>\n      <td>[{'number': '2911-IX', 'date': '2023-02-07T00:...</td>\n      <td>[]</td>\n      <td>[]</td>\n      <td>False</td>\n      <td>0.0</td>\n    </tr>\n    <tr>\n      <th>8674</th>\n      <td>3</td>\n      <td>Звичайний</td>\n      <td>Проект Закону про внесення змін до розділу X \"...</td>\n      <td>https://itd.rada.gov.ua/billInfo/Bills/Card/3</td>\n      <td>1101</td>\n      <td>2020-01-14T00:00:00</td>\n      <td>2 сесія</td>\n      <td>IX скликання</td>\n      <td>Основний</td>\n      <td>Галузевий розвиток</td>\n      <td>...</td>\n      <td>[{'department': 'Комітет Верховної Ради Україн...</td>\n      <td>[{'department': 'Комітет Верховної Ради Україн...</td>\n      <td>{'source': [{'id': 13961, 'kindId': 63, 'kind'...</td>\n      <td>{'date': None, 'title': None, 'status': 'Знято...</td>\n      <td>[{'date': '2020-02-04T17:33:00', 'title': 'Зня...</td>\n      <td>[]</td>\n      <td>[]</td>\n      <td>[490, 492]</td>\n      <td>False</td>\n      <td>0.0</td>\n    </tr>\n    <tr>\n      <th>8675</th>\n      <td>2</td>\n      <td>Звичайний</td>\n      <td>Проект Закону громадянами України - засновника...</td>\n      <td>https://itd.rada.gov.ua/billInfo/Bills/Card/2</td>\n      <td>2065</td>\n      <td>2019-09-05T00:00:00</td>\n      <td>2 сесія</td>\n      <td>IX скликання</td>\n      <td>Основний</td>\n      <td>Галузевий розвиток</td>\n      <td>...</td>\n      <td>[{'department': 'Комітет Верховної Ради Україн...</td>\n      <td>[{'department': 'Комітет Верховної Ради Україн...</td>\n      <td>{'source': [{'id': 13946, 'kindId': 63, 'kind'...</td>\n      <td>{'date': None, 'title': None, 'status': 'Опрац...</td>\n      <td>[{'date': '2019-09-06T16:26:00', 'title': 'Над...</td>\n      <td>[{'number': '2911-IX', 'date': '2023-02-07T00:...</td>\n      <td>[]</td>\n      <td>[]</td>\n      <td>False</td>\n      <td>0.0</td>\n    </tr>\n    <tr>\n      <th>8676</th>\n      <td>1</td>\n      <td>Звичайний</td>\n      <td>Проект Закону про внесення змін до деяких зако...</td>\n      <td>https://itd.rada.gov.ua/billInfo/Bills/Card/1</td>\n      <td>2064</td>\n      <td>2019-09-05T00:00:00</td>\n      <td>2 сесія</td>\n      <td>IX скликання</td>\n      <td>Основний</td>\n      <td>Галузевий розвиток</td>\n      <td>...</td>\n      <td>[{'department': 'Комітет Верховної Ради Україн...</td>\n      <td>[{'department': 'Комітет Верховної Ради Україн...</td>\n      <td>{'source': [{'id': 13800, 'kindId': 63, 'kind'...</td>\n      <td>{'date': None, 'title': None, 'status': 'Закон...</td>\n      <td>[{'date': '2022-01-05T14:45:00', 'title': 'Роз...</td>\n      <td>[{'number': '1708-IX', 'date': '2021-09-07T00:...</td>\n      <td>[1911]</td>\n      <td>[]</td>\n      <td>False</td>\n      <td>0.0</td>\n    </tr>\n  </tbody>\n</table>\n<p>8677 rows × 24 columns</p>\n</div>"
     },
     "execution_count": 5,
     "metadata": {},
     "output_type": "execute_result"
    }
   ],
   "source": [
    "data\n"
   ],
   "metadata": {
    "collapsed": false
   }
  },
  {
   "cell_type": "code",
   "execution_count": null,
   "outputs": [],
   "source": [],
   "metadata": {
    "collapsed": false
   }
  },
  {
   "cell_type": "code",
   "execution_count": 11,
   "outputs": [
    {
     "data": {
      "text/plain": "array(['Основний', 'Альтернативний', None], dtype=object)"
     },
     "execution_count": 11,
     "metadata": {},
     "output_type": "execute_result"
    }
   ],
   "source": [
    "data['redaction'].unique()"
   ],
   "metadata": {
    "collapsed": false
   }
  },
  {
   "cell_type": "code",
   "execution_count": 18,
   "outputs": [
    {
     "data": {
      "text/plain": "      date title                     status\n0     None  None            Одержано проект\n1     None  None  Опрацьовується в комітеті\n2     None  None  Опрацьовується в комітеті\n3     None  None  Опрацьовується в комітеті\n4     None  None  Опрацьовується в комітеті\n...    ...   ...                        ...\n8672  None  None           Знято з розгляду\n8673  None  None  Опрацьовується в комітеті\n8674  None  None           Знято з розгляду\n8675  None  None  Опрацьовується в комітеті\n8676  None  None            Закон підписано\n\n[8677 rows x 3 columns]",
      "text/html": "<div>\n<style scoped>\n    .dataframe tbody tr th:only-of-type {\n        vertical-align: middle;\n    }\n\n    .dataframe tbody tr th {\n        vertical-align: top;\n    }\n\n    .dataframe thead th {\n        text-align: right;\n    }\n</style>\n<table border=\"1\" class=\"dataframe\">\n  <thead>\n    <tr style=\"text-align: right;\">\n      <th></th>\n      <th>date</th>\n      <th>title</th>\n      <th>status</th>\n    </tr>\n  </thead>\n  <tbody>\n    <tr>\n      <th>0</th>\n      <td>None</td>\n      <td>None</td>\n      <td>Одержано проект</td>\n    </tr>\n    <tr>\n      <th>1</th>\n      <td>None</td>\n      <td>None</td>\n      <td>Опрацьовується в комітеті</td>\n    </tr>\n    <tr>\n      <th>2</th>\n      <td>None</td>\n      <td>None</td>\n      <td>Опрацьовується в комітеті</td>\n    </tr>\n    <tr>\n      <th>3</th>\n      <td>None</td>\n      <td>None</td>\n      <td>Опрацьовується в комітеті</td>\n    </tr>\n    <tr>\n      <th>4</th>\n      <td>None</td>\n      <td>None</td>\n      <td>Опрацьовується в комітеті</td>\n    </tr>\n    <tr>\n      <th>...</th>\n      <td>...</td>\n      <td>...</td>\n      <td>...</td>\n    </tr>\n    <tr>\n      <th>8672</th>\n      <td>None</td>\n      <td>None</td>\n      <td>Знято з розгляду</td>\n    </tr>\n    <tr>\n      <th>8673</th>\n      <td>None</td>\n      <td>None</td>\n      <td>Опрацьовується в комітеті</td>\n    </tr>\n    <tr>\n      <th>8674</th>\n      <td>None</td>\n      <td>None</td>\n      <td>Знято з розгляду</td>\n    </tr>\n    <tr>\n      <th>8675</th>\n      <td>None</td>\n      <td>None</td>\n      <td>Опрацьовується в комітеті</td>\n    </tr>\n    <tr>\n      <th>8676</th>\n      <td>None</td>\n      <td>None</td>\n      <td>Закон підписано</td>\n    </tr>\n  </tbody>\n</table>\n<p>8677 rows × 3 columns</p>\n</div>"
     },
     "execution_count": 18,
     "metadata": {},
     "output_type": "execute_result"
    }
   ],
   "source": [
    "a = pd.json_normalize(data['currentPhase'])\n",
    "a"
   ],
   "metadata": {
    "collapsed": false
   }
  },
  {
   "cell_type": "code",
   "execution_count": 10,
   "outputs": [
    {
     "data": {
      "text/plain": "array([nan, 'Одержано Верховною Радою України',\n       'Передано на розгляд керівництву',\n       'Передано на підпис Голові Верховної Ради України',\n       'Постанову підписано', 'Надано для ознайомлення',\n       'Визначено Парламентом як невідкладний',\n       'Направлено на розгляд Комітету',\n       'Надано висновок Комітету про розгляд',\n       'Проголосовано скороч. строку на альтерн. законопроект',\n       'Одержано повторну резолюцію', 'Одержано Верховною Радою',\n       'Надано висновок Комітету', 'Направлено до Комітету',\n       'Закон направлено на підпис Президенту України',\n       'Прийнято за основу',\n       'Прийнято за основу із скороч. строку підготовки',\n       'Надано  висновок Комітету про відхилення',\n       'Надано повторний висновок Комітету',\n       'В порядок денний не включено', 'Включено до порядку денного',\n       'Передано на підпис Голові Верховної Ради',\n       'Надано порівняльну таблицю (друге читання)',\n       'Одержано проект на заміну', 'Надано для розгляду',\n       'Передано для візування в головний комітет',\n       'Повернуто з підписом Голови Верховної Ради України',\n       'Надано  доопрацьований Комітетом проект',\n       'Надано висновок Комітету про включення до ПД',\n       'Закон направлено на підпис Президенту України (після вето)',\n       'Одержано Верховною Радою після прийняття',\n       'Закон направлено на підпис Президенту', 'Розміщено на веб-сайті',\n       'Розсилання акта', 'Постанову прийнято',\n       'Передано для опублікування',\n       'Надано висновок Комітету про доопрацювання',\n       'Надано висновок Комітету про невключення до ПД',\n       'Надано висновок Комітету на зняття з розгляду',\n       'Передано на повторне перше читання', 'Надано на заміну',\n       'Передано на візування в головний комітет',\n       'Надано висновок з підтримкою пропоз. Президента',\n       'Одержано для оформлення',\n       'Надано з висновком Комітету про розгляд',\n       'Доручено внести із скороченням строку підготовки',\n       'Одержано заяву про відкликання',\n       'Закон направлено на доопрацювання в Комітет',\n       'Передано на повторне друге читання', 'Передано в тираж',\n       'Повернуто з пропозиціями Президента України',\n       'Направлено на висновок Конституційного Суду',\n       'Надано висновок Конституційного Суду', 'Закон прийнято'],\n      dtype=object)"
     },
     "execution_count": 10,
     "metadata": {},
     "output_type": "execute_result"
    }
   ],
   "source": [
    "a = pd.json_normalize(data['passings'])\n",
    "b = pd.json_normalize(a[2])\n",
    "b['title'].unique()"
   ],
   "metadata": {
    "collapsed": false
   }
  },
  {
   "cell_type": "code",
   "execution_count": 83,
   "outputs": [
    {
     "data": {
      "text/plain": "             id  kindId           kind  registrationNum  \\\n0           NaN     NaN            NaN              NaN   \n1     1166620.0    63.0  Проект Закону          79763.0   \n2     1166436.0    63.0  Проект Закону          79566.0   \n3     1165700.0    63.0  Проект Закону          78803.0   \n4     1165511.0    63.0  Проект Закону          78613.0   \n...         ...     ...            ...              ...   \n8672    13994.0    63.0  Проект Закону           1028.0   \n8673    13990.0    63.0  Проект Закону           1027.0   \n8674    13961.0    63.0  Проект Закону           1019.0   \n8675    13946.0    63.0  Проект Закону           1004.0   \n8676    13800.0    63.0  Проект Закону            881.0   \n\n             registrationDate        outcomingNum            outcomingDate  \\\n0                         NaN                 NaN                      NaN   \n1     2023-04-17T21:29:17.823  185д9/1-2023/79763      2023-04-17T21:29:20   \n2      2023-04-17T15:41:55.07   98д9/1-2023/79566   2023-04-17T17:38:56.95   \n3     2023-04-15T15:47:16.767  106д9/1-2023/78803  2023-04-15T22:00:20.667   \n4      2023-04-14T15:55:10.83  162д9/1-2023/78613      2023-04-17T11:35:10   \n...                       ...                 ...                      ...   \n8672   2020-01-14T17:34:40.14             153192       2019-09-05T00:00:00   \n8673  2020-01-14T17:15:00.887             152396       2019-09-05T00:00:00   \n8674  2020-01-14T15:42:56.407             148641       2019-08-29T00:00:00   \n8675  2020-01-14T12:52:59.603              152346      2019-09-04T00:00:00   \n8676  2020-01-13T15:47:48.597              152322      2019-09-05T00:00:00   \n\n                                               docFiles  \\\n0                                                   NaN   \n1     [{'id': 1739707, 'name': 'Документ_1166620.pdf...   \n2     [{'id': 1739394, 'name': 'Документ_1166436(1)....   \n3     [{'id': 1738043, 'name': 'Документ_1165700.pdf...   \n4     [{'id': 1737708, 'name': 'Документ_1165511.pdf...   \n...                                                 ...   \n8672  [{'id': 18616, 'name': 'Документ_13994.docx', ...   \n8673  [{'id': 18611, 'name': 'Документ_13990.docx', ...   \n8674  [{'id': 18598, 'name': 'Документ_13961.docx', ...   \n8675  [{'id': 18567, 'name': 'Документ_13946.docx', ...   \n8676  [{'id': 18349, 'name': 'Документ_13800.docx', ...   \n\n                  publishDate  meetingDate  short_review  formal_review  \\\n0                         NaN          NaN           NaN            NaN   \n1         2023-04-18T14:02:34          NaN           NaN            NaN   \n2         2023-04-18T14:01:54          NaN           NaN            NaN   \n3         2023-04-17T12:45:03          NaN           NaN            NaN   \n4         2023-04-17T12:45:30          NaN           NaN            NaN   \n...                       ...          ...           ...            ...   \n8672   2020-01-14T17:39:00.73          NaN           NaN            NaN   \n8673  2020-01-14T17:22:09.063          NaN           NaN            NaN   \n8674  2020-02-03T15:56:03.833          NaN           NaN            NaN   \n8675  2020-01-14T16:20:32.077          NaN           NaN            NaN   \n8676  2020-01-13T16:54:48.637          NaN           NaN            NaN   \n\n      mainSpeaker  coSpeakers  billProcedureId procedureName preparation  \n0             NaN         NaN              NaN           NaN         NaN  \n1             NaN         NaN              1.0      Первинна          []  \n2             NaN         NaN              1.0      Первинна          []  \n3             NaN         NaN              1.0      Первинна          []  \n4             NaN         NaN              1.0      Первинна          []  \n...           ...         ...              ...           ...         ...  \n8672          NaN         NaN              1.0      Первинна          []  \n8673          NaN         NaN              1.0      Первинна          []  \n8674          NaN         NaN              1.0      Первинна          []  \n8675          NaN         NaN              1.0      Первинна          []  \n8676          NaN         NaN              1.0      Первинна          []  \n\n[8677 rows x 17 columns]",
      "text/html": "<div>\n<style scoped>\n    .dataframe tbody tr th:only-of-type {\n        vertical-align: middle;\n    }\n\n    .dataframe tbody tr th {\n        vertical-align: top;\n    }\n\n    .dataframe thead th {\n        text-align: right;\n    }\n</style>\n<table border=\"1\" class=\"dataframe\">\n  <thead>\n    <tr style=\"text-align: right;\">\n      <th></th>\n      <th>id</th>\n      <th>kindId</th>\n      <th>kind</th>\n      <th>registrationNum</th>\n      <th>registrationDate</th>\n      <th>outcomingNum</th>\n      <th>outcomingDate</th>\n      <th>docFiles</th>\n      <th>publishDate</th>\n      <th>meetingDate</th>\n      <th>short_review</th>\n      <th>formal_review</th>\n      <th>mainSpeaker</th>\n      <th>coSpeakers</th>\n      <th>billProcedureId</th>\n      <th>procedureName</th>\n      <th>preparation</th>\n    </tr>\n  </thead>\n  <tbody>\n    <tr>\n      <th>0</th>\n      <td>NaN</td>\n      <td>NaN</td>\n      <td>NaN</td>\n      <td>NaN</td>\n      <td>NaN</td>\n      <td>NaN</td>\n      <td>NaN</td>\n      <td>NaN</td>\n      <td>NaN</td>\n      <td>NaN</td>\n      <td>NaN</td>\n      <td>NaN</td>\n      <td>NaN</td>\n      <td>NaN</td>\n      <td>NaN</td>\n      <td>NaN</td>\n      <td>NaN</td>\n    </tr>\n    <tr>\n      <th>1</th>\n      <td>1166620.0</td>\n      <td>63.0</td>\n      <td>Проект Закону</td>\n      <td>79763.0</td>\n      <td>2023-04-17T21:29:17.823</td>\n      <td>185д9/1-2023/79763</td>\n      <td>2023-04-17T21:29:20</td>\n      <td>[{'id': 1739707, 'name': 'Документ_1166620.pdf...</td>\n      <td>2023-04-18T14:02:34</td>\n      <td>NaN</td>\n      <td>NaN</td>\n      <td>NaN</td>\n      <td>NaN</td>\n      <td>NaN</td>\n      <td>1.0</td>\n      <td>Первинна</td>\n      <td>[]</td>\n    </tr>\n    <tr>\n      <th>2</th>\n      <td>1166436.0</td>\n      <td>63.0</td>\n      <td>Проект Закону</td>\n      <td>79566.0</td>\n      <td>2023-04-17T15:41:55.07</td>\n      <td>98д9/1-2023/79566</td>\n      <td>2023-04-17T17:38:56.95</td>\n      <td>[{'id': 1739394, 'name': 'Документ_1166436(1)....</td>\n      <td>2023-04-18T14:01:54</td>\n      <td>NaN</td>\n      <td>NaN</td>\n      <td>NaN</td>\n      <td>NaN</td>\n      <td>NaN</td>\n      <td>1.0</td>\n      <td>Первинна</td>\n      <td>[]</td>\n    </tr>\n    <tr>\n      <th>3</th>\n      <td>1165700.0</td>\n      <td>63.0</td>\n      <td>Проект Закону</td>\n      <td>78803.0</td>\n      <td>2023-04-15T15:47:16.767</td>\n      <td>106д9/1-2023/78803</td>\n      <td>2023-04-15T22:00:20.667</td>\n      <td>[{'id': 1738043, 'name': 'Документ_1165700.pdf...</td>\n      <td>2023-04-17T12:45:03</td>\n      <td>NaN</td>\n      <td>NaN</td>\n      <td>NaN</td>\n      <td>NaN</td>\n      <td>NaN</td>\n      <td>1.0</td>\n      <td>Первинна</td>\n      <td>[]</td>\n    </tr>\n    <tr>\n      <th>4</th>\n      <td>1165511.0</td>\n      <td>63.0</td>\n      <td>Проект Закону</td>\n      <td>78613.0</td>\n      <td>2023-04-14T15:55:10.83</td>\n      <td>162д9/1-2023/78613</td>\n      <td>2023-04-17T11:35:10</td>\n      <td>[{'id': 1737708, 'name': 'Документ_1165511.pdf...</td>\n      <td>2023-04-17T12:45:30</td>\n      <td>NaN</td>\n      <td>NaN</td>\n      <td>NaN</td>\n      <td>NaN</td>\n      <td>NaN</td>\n      <td>1.0</td>\n      <td>Первинна</td>\n      <td>[]</td>\n    </tr>\n    <tr>\n      <th>...</th>\n      <td>...</td>\n      <td>...</td>\n      <td>...</td>\n      <td>...</td>\n      <td>...</td>\n      <td>...</td>\n      <td>...</td>\n      <td>...</td>\n      <td>...</td>\n      <td>...</td>\n      <td>...</td>\n      <td>...</td>\n      <td>...</td>\n      <td>...</td>\n      <td>...</td>\n      <td>...</td>\n      <td>...</td>\n    </tr>\n    <tr>\n      <th>8672</th>\n      <td>13994.0</td>\n      <td>63.0</td>\n      <td>Проект Закону</td>\n      <td>1028.0</td>\n      <td>2020-01-14T17:34:40.14</td>\n      <td>153192</td>\n      <td>2019-09-05T00:00:00</td>\n      <td>[{'id': 18616, 'name': 'Документ_13994.docx', ...</td>\n      <td>2020-01-14T17:39:00.73</td>\n      <td>NaN</td>\n      <td>NaN</td>\n      <td>NaN</td>\n      <td>NaN</td>\n      <td>NaN</td>\n      <td>1.0</td>\n      <td>Первинна</td>\n      <td>[]</td>\n    </tr>\n    <tr>\n      <th>8673</th>\n      <td>13990.0</td>\n      <td>63.0</td>\n      <td>Проект Закону</td>\n      <td>1027.0</td>\n      <td>2020-01-14T17:15:00.887</td>\n      <td>152396</td>\n      <td>2019-09-05T00:00:00</td>\n      <td>[{'id': 18611, 'name': 'Документ_13990.docx', ...</td>\n      <td>2020-01-14T17:22:09.063</td>\n      <td>NaN</td>\n      <td>NaN</td>\n      <td>NaN</td>\n      <td>NaN</td>\n      <td>NaN</td>\n      <td>1.0</td>\n      <td>Первинна</td>\n      <td>[]</td>\n    </tr>\n    <tr>\n      <th>8674</th>\n      <td>13961.0</td>\n      <td>63.0</td>\n      <td>Проект Закону</td>\n      <td>1019.0</td>\n      <td>2020-01-14T15:42:56.407</td>\n      <td>148641</td>\n      <td>2019-08-29T00:00:00</td>\n      <td>[{'id': 18598, 'name': 'Документ_13961.docx', ...</td>\n      <td>2020-02-03T15:56:03.833</td>\n      <td>NaN</td>\n      <td>NaN</td>\n      <td>NaN</td>\n      <td>NaN</td>\n      <td>NaN</td>\n      <td>1.0</td>\n      <td>Первинна</td>\n      <td>[]</td>\n    </tr>\n    <tr>\n      <th>8675</th>\n      <td>13946.0</td>\n      <td>63.0</td>\n      <td>Проект Закону</td>\n      <td>1004.0</td>\n      <td>2020-01-14T12:52:59.603</td>\n      <td>152346</td>\n      <td>2019-09-04T00:00:00</td>\n      <td>[{'id': 18567, 'name': 'Документ_13946.docx', ...</td>\n      <td>2020-01-14T16:20:32.077</td>\n      <td>NaN</td>\n      <td>NaN</td>\n      <td>NaN</td>\n      <td>NaN</td>\n      <td>NaN</td>\n      <td>1.0</td>\n      <td>Первинна</td>\n      <td>[]</td>\n    </tr>\n    <tr>\n      <th>8676</th>\n      <td>13800.0</td>\n      <td>63.0</td>\n      <td>Проект Закону</td>\n      <td>881.0</td>\n      <td>2020-01-13T15:47:48.597</td>\n      <td>152322</td>\n      <td>2019-09-05T00:00:00</td>\n      <td>[{'id': 18349, 'name': 'Документ_13800.docx', ...</td>\n      <td>2020-01-13T16:54:48.637</td>\n      <td>NaN</td>\n      <td>NaN</td>\n      <td>NaN</td>\n      <td>NaN</td>\n      <td>NaN</td>\n      <td>1.0</td>\n      <td>Первинна</td>\n      <td>[]</td>\n    </tr>\n  </tbody>\n</table>\n<p>8677 rows × 17 columns</p>\n</div>"
     },
     "execution_count": 83,
     "metadata": {},
     "output_type": "execute_result"
    }
   ],
   "source": [
    "tt  = pd.json_normalize(data['documents'])\n",
    "t = pd.json_normalize(tt['source'])\n",
    "k = pd.json_normalize(t[0])\n",
    "k"
   ],
   "metadata": {
    "collapsed": false
   }
  },
  {
   "cell_type": "code",
   "execution_count": 7,
   "outputs": [],
   "source": [
    "#зчтування потрібної колонки з nested json\n",
    "def extract_values(obj, key):\n",
    "    arr = []\n",
    "\n",
    "    def extract(obj, arr, key, index):\n",
    "        if isinstance(obj, dict):\n",
    "            for k, v in obj.items():\n",
    "                if isinstance(v, (dict, list)):\n",
    "                    extract(v, arr, key, index=index)\n",
    "                elif k == key:\n",
    "                    arr.append((index, v))\n",
    "        elif isinstance(obj, list):\n",
    "            for item in obj:\n",
    "                extract(item, arr, key, index=index)\n",
    "        return arr\n",
    "    for i, item in obj:\n",
    "        extract(item, arr, key, index= i)\n",
    "\n",
    "\n",
    "    return arr\n"
   ],
   "metadata": {
    "collapsed": false
   }
  },
  {
   "cell_type": "code",
   "execution_count": 6,
   "outputs": [],
   "source": [
    "tuple_list = list(zip(data['id'], data['documents']))\n"
   ],
   "metadata": {
    "collapsed": false
   }
  },
  {
   "cell_type": "code",
   "execution_count": 26,
   "outputs": [
    {
     "data": {
      "text/plain": "8677"
     },
     "execution_count": 26,
     "metadata": {},
     "output_type": "execute_result"
    }
   ],
   "source": [
    "currentPhase = data.currentPhase\n",
    "status = extract_values(currentPhase, 'status')\n",
    "len(status)"
   ],
   "metadata": {
    "collapsed": false
   }
  },
  {
   "cell_type": "code",
   "execution_count": 5,
   "outputs": [],
   "source": [
    "executives = list(zip(data['id'], data['mainExecutives']))"
   ],
   "metadata": {
    "collapsed": false
   }
  },
  {
   "cell_type": "code",
   "execution_count": 10,
   "outputs": [
    {
     "data": {
      "text/plain": "      billid                                        departments\n0      41791  Комітет Верховної Ради України з питань аграрн...\n1      41790  Комітет Верховної Ради України з питань правоо...\n2      41787  Комітет Верховної Ради України з питань енерге...\n3      41786  Комітет Верховної Ради України з питань соціал...\n4      41785  Комітет Верховної Ради України з питань фінанс...\n...      ...                                                ...\n8664       5  Комітет Верховної Ради України з питань аграрн...\n8665       4  Комітет Верховної Ради України з питань аграрн...\n8666       3  Комітет Верховної Ради України з питань аграрн...\n8667       2  Комітет Верховної Ради України з питань аграрн...\n8668       1  Комітет Верховної Ради України з питань аграрн...\n\n[8669 rows x 2 columns]",
      "text/html": "<div>\n<style scoped>\n    .dataframe tbody tr th:only-of-type {\n        vertical-align: middle;\n    }\n\n    .dataframe tbody tr th {\n        vertical-align: top;\n    }\n\n    .dataframe thead th {\n        text-align: right;\n    }\n</style>\n<table border=\"1\" class=\"dataframe\">\n  <thead>\n    <tr style=\"text-align: right;\">\n      <th></th>\n      <th>billid</th>\n      <th>departments</th>\n    </tr>\n  </thead>\n  <tbody>\n    <tr>\n      <th>0</th>\n      <td>41791</td>\n      <td>Комітет Верховної Ради України з питань аграрн...</td>\n    </tr>\n    <tr>\n      <th>1</th>\n      <td>41790</td>\n      <td>Комітет Верховної Ради України з питань правоо...</td>\n    </tr>\n    <tr>\n      <th>2</th>\n      <td>41787</td>\n      <td>Комітет Верховної Ради України з питань енерге...</td>\n    </tr>\n    <tr>\n      <th>3</th>\n      <td>41786</td>\n      <td>Комітет Верховної Ради України з питань соціал...</td>\n    </tr>\n    <tr>\n      <th>4</th>\n      <td>41785</td>\n      <td>Комітет Верховної Ради України з питань фінанс...</td>\n    </tr>\n    <tr>\n      <th>...</th>\n      <td>...</td>\n      <td>...</td>\n    </tr>\n    <tr>\n      <th>8664</th>\n      <td>5</td>\n      <td>Комітет Верховної Ради України з питань аграрн...</td>\n    </tr>\n    <tr>\n      <th>8665</th>\n      <td>4</td>\n      <td>Комітет Верховної Ради України з питань аграрн...</td>\n    </tr>\n    <tr>\n      <th>8666</th>\n      <td>3</td>\n      <td>Комітет Верховної Ради України з питань аграрн...</td>\n    </tr>\n    <tr>\n      <th>8667</th>\n      <td>2</td>\n      <td>Комітет Верховної Ради України з питань аграрн...</td>\n    </tr>\n    <tr>\n      <th>8668</th>\n      <td>1</td>\n      <td>Комітет Верховної Ради України з питань аграрн...</td>\n    </tr>\n  </tbody>\n</table>\n<p>8669 rows × 2 columns</p>\n</div>"
     },
     "execution_count": 10,
     "metadata": {},
     "output_type": "execute_result"
    }
   ],
   "source": [
    "departments = extract_values(executives, 'department')\n",
    "departments = pd.DataFrame(departments, columns=['billid', 'departments'])\n",
    "\n",
    "departments"
   ],
   "metadata": {
    "collapsed": false
   }
  },
  {
   "cell_type": "code",
   "execution_count": 11,
   "outputs": [],
   "source": [
    "departments.to_csv('data/departments')"
   ],
   "metadata": {
    "collapsed": false
   }
  },
  {
   "cell_type": "code",
   "execution_count": 20,
   "outputs": [],
   "source": [
    "currentPhase = list(zip(data['id'], data['currentPhase']))"
   ],
   "metadata": {
    "collapsed": false
   }
  },
  {
   "cell_type": "code",
   "execution_count": 32,
   "outputs": [
    {
     "data": {
      "text/plain": "      billid                     status     registrationDate  \\\n0      41797            Одержано проект  2023-04-18T00:00:00   \n1      41791  Опрацьовується в комітеті  2023-04-18T00:00:00   \n2      41790  Опрацьовується в комітеті  2023-04-17T00:00:00   \n3      41787  Опрацьовується в комітеті  2023-04-17T00:00:00   \n4      41786  Опрацьовується в комітеті  2023-04-17T00:00:00   \n...      ...                        ...                  ...   \n8672       5           Знято з розгляду  2019-09-05T00:00:00   \n8673       4  Опрацьовується в комітеті  2019-09-05T00:00:00   \n8674       3           Знято з розгляду  2020-01-14T00:00:00   \n8675       2  Опрацьовується в комітеті  2019-09-05T00:00:00   \n8676       1            Закон підписано  2019-09-05T00:00:00   \n\n                  rubric  \n0     Галузевий розвиток  \n1     Галузевий розвиток  \n2       Правова політика  \n3     Галузевий розвиток  \n4     Соціальна політика  \n...                  ...  \n8672  Галузевий розвиток  \n8673  Галузевий розвиток  \n8674  Галузевий розвиток  \n8675  Галузевий розвиток  \n8676  Галузевий розвиток  \n\n[8677 rows x 4 columns]",
      "text/html": "<div>\n<style scoped>\n    .dataframe tbody tr th:only-of-type {\n        vertical-align: middle;\n    }\n\n    .dataframe tbody tr th {\n        vertical-align: top;\n    }\n\n    .dataframe thead th {\n        text-align: right;\n    }\n</style>\n<table border=\"1\" class=\"dataframe\">\n  <thead>\n    <tr style=\"text-align: right;\">\n      <th></th>\n      <th>billid</th>\n      <th>status</th>\n      <th>registrationDate</th>\n      <th>rubric</th>\n    </tr>\n  </thead>\n  <tbody>\n    <tr>\n      <th>0</th>\n      <td>41797</td>\n      <td>Одержано проект</td>\n      <td>2023-04-18T00:00:00</td>\n      <td>Галузевий розвиток</td>\n    </tr>\n    <tr>\n      <th>1</th>\n      <td>41791</td>\n      <td>Опрацьовується в комітеті</td>\n      <td>2023-04-18T00:00:00</td>\n      <td>Галузевий розвиток</td>\n    </tr>\n    <tr>\n      <th>2</th>\n      <td>41790</td>\n      <td>Опрацьовується в комітеті</td>\n      <td>2023-04-17T00:00:00</td>\n      <td>Правова політика</td>\n    </tr>\n    <tr>\n      <th>3</th>\n      <td>41787</td>\n      <td>Опрацьовується в комітеті</td>\n      <td>2023-04-17T00:00:00</td>\n      <td>Галузевий розвиток</td>\n    </tr>\n    <tr>\n      <th>4</th>\n      <td>41786</td>\n      <td>Опрацьовується в комітеті</td>\n      <td>2023-04-17T00:00:00</td>\n      <td>Соціальна політика</td>\n    </tr>\n    <tr>\n      <th>...</th>\n      <td>...</td>\n      <td>...</td>\n      <td>...</td>\n      <td>...</td>\n    </tr>\n    <tr>\n      <th>8672</th>\n      <td>5</td>\n      <td>Знято з розгляду</td>\n      <td>2019-09-05T00:00:00</td>\n      <td>Галузевий розвиток</td>\n    </tr>\n    <tr>\n      <th>8673</th>\n      <td>4</td>\n      <td>Опрацьовується в комітеті</td>\n      <td>2019-09-05T00:00:00</td>\n      <td>Галузевий розвиток</td>\n    </tr>\n    <tr>\n      <th>8674</th>\n      <td>3</td>\n      <td>Знято з розгляду</td>\n      <td>2020-01-14T00:00:00</td>\n      <td>Галузевий розвиток</td>\n    </tr>\n    <tr>\n      <th>8675</th>\n      <td>2</td>\n      <td>Опрацьовується в комітеті</td>\n      <td>2019-09-05T00:00:00</td>\n      <td>Галузевий розвиток</td>\n    </tr>\n    <tr>\n      <th>8676</th>\n      <td>1</td>\n      <td>Закон підписано</td>\n      <td>2019-09-05T00:00:00</td>\n      <td>Галузевий розвиток</td>\n    </tr>\n  </tbody>\n</table>\n<p>8677 rows × 4 columns</p>\n</div>"
     },
     "execution_count": 32,
     "metadata": {},
     "output_type": "execute_result"
    }
   ],
   "source": [
    "status = extract_values(currentPhase, 'status')\n",
    "passings = pd.DataFrame(status, columns=['billid', 'status'])\n",
    "passings = pd.concat([passings, data[['registrationDate', 'rubric']]], axis = 1)\n",
    "passings\n"
   ],
   "metadata": {
    "collapsed": false
   }
  },
  {
   "cell_type": "code",
   "execution_count": 33,
   "outputs": [],
   "source": [
    "pas = list(zip(data['id'], data['passings']))\n",
    "date_pass = pd.DataFrame(extract_values(pas, 'date'), columns= ['billid', 'passDate'])\n",
    "title_pass =pd.DataFrame( extract_values(pas, 'title'),   columns= ['billid', 'passTitle'])\n",
    "stat_pass = pd.DataFrame(extract_values(pas, 'status'),  columns= ['billid', 'passStatus'])\n"
   ],
   "metadata": {
    "collapsed": false
   }
  },
  {
   "cell_type": "code",
   "execution_count": 17,
   "outputs": [
    {
     "ename": "KeyError",
     "evalue": "('id', 'registrationNumber')",
     "output_type": "error",
     "traceback": [
      "\u001B[1;31m---------------------------------------------------------------------------\u001B[0m",
      "\u001B[1;31mKeyError\u001B[0m                                  Traceback (most recent call last)",
      "File \u001B[1;32m~\\anaconda3\\lib\\site-packages\\pandas\\core\\indexes\\base.py:3621\u001B[0m, in \u001B[0;36mIndex.get_loc\u001B[1;34m(self, key, method, tolerance)\u001B[0m\n\u001B[0;32m   3620\u001B[0m \u001B[38;5;28;01mtry\u001B[39;00m:\n\u001B[1;32m-> 3621\u001B[0m     \u001B[38;5;28;01mreturn\u001B[39;00m \u001B[38;5;28;43mself\u001B[39;49m\u001B[38;5;241;43m.\u001B[39;49m\u001B[43m_engine\u001B[49m\u001B[38;5;241;43m.\u001B[39;49m\u001B[43mget_loc\u001B[49m\u001B[43m(\u001B[49m\u001B[43mcasted_key\u001B[49m\u001B[43m)\u001B[49m\n\u001B[0;32m   3622\u001B[0m \u001B[38;5;28;01mexcept\u001B[39;00m \u001B[38;5;167;01mKeyError\u001B[39;00m \u001B[38;5;28;01mas\u001B[39;00m err:\n",
      "File \u001B[1;32m~\\anaconda3\\lib\\site-packages\\pandas\\_libs\\index.pyx:136\u001B[0m, in \u001B[0;36mpandas._libs.index.IndexEngine.get_loc\u001B[1;34m()\u001B[0m\n",
      "File \u001B[1;32m~\\anaconda3\\lib\\site-packages\\pandas\\_libs\\index.pyx:163\u001B[0m, in \u001B[0;36mpandas._libs.index.IndexEngine.get_loc\u001B[1;34m()\u001B[0m\n",
      "File \u001B[1;32mpandas\\_libs\\hashtable_class_helper.pxi:5198\u001B[0m, in \u001B[0;36mpandas._libs.hashtable.PyObjectHashTable.get_item\u001B[1;34m()\u001B[0m\n",
      "File \u001B[1;32mpandas\\_libs\\hashtable_class_helper.pxi:5206\u001B[0m, in \u001B[0;36mpandas._libs.hashtable.PyObjectHashTable.get_item\u001B[1;34m()\u001B[0m\n",
      "\u001B[1;31mKeyError\u001B[0m: ('id', 'registrationNumber')",
      "\nThe above exception was the direct cause of the following exception:\n",
      "\u001B[1;31mKeyError\u001B[0m                                  Traceback (most recent call last)",
      "Input \u001B[1;32mIn [17]\u001B[0m, in \u001B[0;36m<cell line: 2>\u001B[1;34m()\u001B[0m\n\u001B[0;32m      1\u001B[0m \u001B[38;5;66;03m#new_pass = pd.concat([date_pass, title_pass['passTitle'], stat_pass['passStatus']], axis =1)\u001B[39;00m\n\u001B[1;32m----> 2\u001B[0m new_pass \u001B[38;5;241m=\u001B[39m \u001B[43mdata\u001B[49m\u001B[43m[\u001B[49m\u001B[38;5;124;43m\"\u001B[39;49m\u001B[38;5;124;43mid\u001B[39;49m\u001B[38;5;124;43m\"\u001B[39;49m\u001B[43m,\u001B[49m\u001B[43m \u001B[49m\u001B[38;5;124;43m'\u001B[39;49m\u001B[38;5;124;43mregistrationNumber\u001B[39;49m\u001B[38;5;124;43m'\u001B[39;49m\u001B[43m]\u001B[49m\u001B[38;5;241m.\u001B[39mmerge(new_pass, on \u001B[38;5;241m=\u001B[39m \u001B[38;5;124m'\u001B[39m\u001B[38;5;124mbillid\u001B[39m\u001B[38;5;124m'\u001B[39m)\n\u001B[0;32m      3\u001B[0m new_pass\n",
      "File \u001B[1;32m~\\anaconda3\\lib\\site-packages\\pandas\\core\\frame.py:3505\u001B[0m, in \u001B[0;36mDataFrame.__getitem__\u001B[1;34m(self, key)\u001B[0m\n\u001B[0;32m   3503\u001B[0m \u001B[38;5;28;01mif\u001B[39;00m \u001B[38;5;28mself\u001B[39m\u001B[38;5;241m.\u001B[39mcolumns\u001B[38;5;241m.\u001B[39mnlevels \u001B[38;5;241m>\u001B[39m \u001B[38;5;241m1\u001B[39m:\n\u001B[0;32m   3504\u001B[0m     \u001B[38;5;28;01mreturn\u001B[39;00m \u001B[38;5;28mself\u001B[39m\u001B[38;5;241m.\u001B[39m_getitem_multilevel(key)\n\u001B[1;32m-> 3505\u001B[0m indexer \u001B[38;5;241m=\u001B[39m \u001B[38;5;28;43mself\u001B[39;49m\u001B[38;5;241;43m.\u001B[39;49m\u001B[43mcolumns\u001B[49m\u001B[38;5;241;43m.\u001B[39;49m\u001B[43mget_loc\u001B[49m\u001B[43m(\u001B[49m\u001B[43mkey\u001B[49m\u001B[43m)\u001B[49m\n\u001B[0;32m   3506\u001B[0m \u001B[38;5;28;01mif\u001B[39;00m is_integer(indexer):\n\u001B[0;32m   3507\u001B[0m     indexer \u001B[38;5;241m=\u001B[39m [indexer]\n",
      "File \u001B[1;32m~\\anaconda3\\lib\\site-packages\\pandas\\core\\indexes\\base.py:3623\u001B[0m, in \u001B[0;36mIndex.get_loc\u001B[1;34m(self, key, method, tolerance)\u001B[0m\n\u001B[0;32m   3621\u001B[0m     \u001B[38;5;28;01mreturn\u001B[39;00m \u001B[38;5;28mself\u001B[39m\u001B[38;5;241m.\u001B[39m_engine\u001B[38;5;241m.\u001B[39mget_loc(casted_key)\n\u001B[0;32m   3622\u001B[0m \u001B[38;5;28;01mexcept\u001B[39;00m \u001B[38;5;167;01mKeyError\u001B[39;00m \u001B[38;5;28;01mas\u001B[39;00m err:\n\u001B[1;32m-> 3623\u001B[0m     \u001B[38;5;28;01mraise\u001B[39;00m \u001B[38;5;167;01mKeyError\u001B[39;00m(key) \u001B[38;5;28;01mfrom\u001B[39;00m \u001B[38;5;21;01merr\u001B[39;00m\n\u001B[0;32m   3624\u001B[0m \u001B[38;5;28;01mexcept\u001B[39;00m \u001B[38;5;167;01mTypeError\u001B[39;00m:\n\u001B[0;32m   3625\u001B[0m     \u001B[38;5;66;03m# If we have a listlike key, _check_indexing_error will raise\u001B[39;00m\n\u001B[0;32m   3626\u001B[0m     \u001B[38;5;66;03m#  InvalidIndexError. Otherwise we fall through and re-raise\u001B[39;00m\n\u001B[0;32m   3627\u001B[0m     \u001B[38;5;66;03m#  the TypeError.\u001B[39;00m\n\u001B[0;32m   3628\u001B[0m     \u001B[38;5;28mself\u001B[39m\u001B[38;5;241m.\u001B[39m_check_indexing_error(key)\n",
      "\u001B[1;31mKeyError\u001B[0m: ('id', 'registrationNumber')"
     ]
    }
   ],
   "source": [
    "new_pass = pd.concat([date_pass, title_pass['passTitle'], stat_pass['passStatus']], axis =1)\n",
    "new_pass = data[\"id\", 'registrationNumber'].merge(new_pass, on = 'billid')\n",
    "new_pass"
   ],
   "metadata": {
    "collapsed": false
   }
  },
  {
   "cell_type": "code",
   "execution_count": 22,
   "outputs": [],
   "source": [
    "df = data[['id', 'registrationNumber']]\n",
    "new_pass = df.merge(new_pass, left_on='id', right_on='billid')"
   ],
   "metadata": {
    "collapsed": false
   }
  },
  {
   "cell_type": "code",
   "execution_count": 29,
   "outputs": [
    {
     "data": {
      "text/plain": "      registrationNumber  billid                     status  \\\n0                   9219   41797            Одержано проект   \n1                   9219   41797            Одержано проект   \n2                   9217   41791  Опрацьовується в комітеті   \n3                   9217   41791  Опрацьовується в комітеті   \n4                   9217   41791  Опрацьовується в комітеті   \n...                  ...     ...                        ...   \n60899               2064       1            Закон підписано   \n60900               2064       1            Закон підписано   \n60901               2064       1            Закон підписано   \n60902               2064       1            Закон підписано   \n60903               2064       1            Закон підписано   \n\n          registrationDate              rubric                 passDate  \\\n0      2023-04-18T00:00:00  Галузевий розвиток  2023-04-18T17:50:27.597   \n1      2023-04-18T00:00:00  Галузевий розвиток  2023-04-18T17:48:52.263   \n2      2023-04-18T00:00:00  Галузевий розвиток      2023-04-18T14:02:34   \n3      2023-04-18T00:00:00  Галузевий розвиток   2023-04-18T10:41:40.47   \n4      2023-04-18T00:00:00  Галузевий розвиток   2023-04-18T10:41:40.47   \n...                    ...                 ...                      ...   \n60899  2019-09-05T00:00:00  Галузевий розвиток   2020-04-16T12:45:08.87   \n60900  2019-09-05T00:00:00  Галузевий розвиток      2019-09-10T17:48:00   \n60901  2019-09-05T00:00:00  Галузевий розвиток      2019-09-09T02:00:00   \n60902  2019-09-05T00:00:00  Галузевий розвиток      2019-09-05T07:00:00   \n60903  2019-09-05T00:00:00  Галузевий розвиток      2019-09-05T06:02:00   \n\n                                  passTitle                 passStatus  \n0           Передано на розгляд керівництву            Одержано проект  \n1          Одержано Верховною Радою України                     Прийом  \n2            Направлено на розгляд Комітету            Одержано проект  \n3           Передано на розгляд керівництву            Одержано проект  \n4          Одержано Верховною Радою України                     Прийом  \n...                                     ...                        ...  \n60899  Надано висновок Комітету про розгляд  Опрацьовується в комітеті  \n60900               Надано для ознайомлення  Опрацьовується в комітеті  \n60901        Направлено на розгляд Комітету            Одержано проект  \n60902       Передано на розгляд керівництву            Одержано проект  \n60903      Одержано Верховною Радою України                     Прийом  \n\n[60904 rows x 8 columns]",
      "text/html": "<div>\n<style scoped>\n    .dataframe tbody tr th:only-of-type {\n        vertical-align: middle;\n    }\n\n    .dataframe tbody tr th {\n        vertical-align: top;\n    }\n\n    .dataframe thead th {\n        text-align: right;\n    }\n</style>\n<table border=\"1\" class=\"dataframe\">\n  <thead>\n    <tr style=\"text-align: right;\">\n      <th></th>\n      <th>registrationNumber</th>\n      <th>billid</th>\n      <th>status</th>\n      <th>registrationDate</th>\n      <th>rubric</th>\n      <th>passDate</th>\n      <th>passTitle</th>\n      <th>passStatus</th>\n    </tr>\n  </thead>\n  <tbody>\n    <tr>\n      <th>0</th>\n      <td>9219</td>\n      <td>41797</td>\n      <td>Одержано проект</td>\n      <td>2023-04-18T00:00:00</td>\n      <td>Галузевий розвиток</td>\n      <td>2023-04-18T17:50:27.597</td>\n      <td>Передано на розгляд керівництву</td>\n      <td>Одержано проект</td>\n    </tr>\n    <tr>\n      <th>1</th>\n      <td>9219</td>\n      <td>41797</td>\n      <td>Одержано проект</td>\n      <td>2023-04-18T00:00:00</td>\n      <td>Галузевий розвиток</td>\n      <td>2023-04-18T17:48:52.263</td>\n      <td>Одержано Верховною Радою України</td>\n      <td>Прийом</td>\n    </tr>\n    <tr>\n      <th>2</th>\n      <td>9217</td>\n      <td>41791</td>\n      <td>Опрацьовується в комітеті</td>\n      <td>2023-04-18T00:00:00</td>\n      <td>Галузевий розвиток</td>\n      <td>2023-04-18T14:02:34</td>\n      <td>Направлено на розгляд Комітету</td>\n      <td>Одержано проект</td>\n    </tr>\n    <tr>\n      <th>3</th>\n      <td>9217</td>\n      <td>41791</td>\n      <td>Опрацьовується в комітеті</td>\n      <td>2023-04-18T00:00:00</td>\n      <td>Галузевий розвиток</td>\n      <td>2023-04-18T10:41:40.47</td>\n      <td>Передано на розгляд керівництву</td>\n      <td>Одержано проект</td>\n    </tr>\n    <tr>\n      <th>4</th>\n      <td>9217</td>\n      <td>41791</td>\n      <td>Опрацьовується в комітеті</td>\n      <td>2023-04-18T00:00:00</td>\n      <td>Галузевий розвиток</td>\n      <td>2023-04-18T10:41:40.47</td>\n      <td>Одержано Верховною Радою України</td>\n      <td>Прийом</td>\n    </tr>\n    <tr>\n      <th>...</th>\n      <td>...</td>\n      <td>...</td>\n      <td>...</td>\n      <td>...</td>\n      <td>...</td>\n      <td>...</td>\n      <td>...</td>\n      <td>...</td>\n    </tr>\n    <tr>\n      <th>60899</th>\n      <td>2064</td>\n      <td>1</td>\n      <td>Закон підписано</td>\n      <td>2019-09-05T00:00:00</td>\n      <td>Галузевий розвиток</td>\n      <td>2020-04-16T12:45:08.87</td>\n      <td>Надано висновок Комітету про розгляд</td>\n      <td>Опрацьовується в комітеті</td>\n    </tr>\n    <tr>\n      <th>60900</th>\n      <td>2064</td>\n      <td>1</td>\n      <td>Закон підписано</td>\n      <td>2019-09-05T00:00:00</td>\n      <td>Галузевий розвиток</td>\n      <td>2019-09-10T17:48:00</td>\n      <td>Надано для ознайомлення</td>\n      <td>Опрацьовується в комітеті</td>\n    </tr>\n    <tr>\n      <th>60901</th>\n      <td>2064</td>\n      <td>1</td>\n      <td>Закон підписано</td>\n      <td>2019-09-05T00:00:00</td>\n      <td>Галузевий розвиток</td>\n      <td>2019-09-09T02:00:00</td>\n      <td>Направлено на розгляд Комітету</td>\n      <td>Одержано проект</td>\n    </tr>\n    <tr>\n      <th>60902</th>\n      <td>2064</td>\n      <td>1</td>\n      <td>Закон підписано</td>\n      <td>2019-09-05T00:00:00</td>\n      <td>Галузевий розвиток</td>\n      <td>2019-09-05T07:00:00</td>\n      <td>Передано на розгляд керівництву</td>\n      <td>Одержано проект</td>\n    </tr>\n    <tr>\n      <th>60903</th>\n      <td>2064</td>\n      <td>1</td>\n      <td>Закон підписано</td>\n      <td>2019-09-05T00:00:00</td>\n      <td>Галузевий розвиток</td>\n      <td>2019-09-05T06:02:00</td>\n      <td>Одержано Верховною Радою України</td>\n      <td>Прийом</td>\n    </tr>\n  </tbody>\n</table>\n<p>60904 rows × 8 columns</p>\n</div>"
     },
     "execution_count": 29,
     "metadata": {},
     "output_type": "execute_result"
    }
   ],
   "source": [
    "new_pass = new_pass.drop(['Unnamed: 0', 'id'], axis=1)\n",
    "new_pass"
   ],
   "metadata": {
    "collapsed": false
   }
  },
  {
   "cell_type": "code",
   "execution_count": 21,
   "outputs": [],
   "source": [
    "new_pass = pd.read_csv('data/passings.csv')"
   ],
   "metadata": {
    "collapsed": false
   }
  },
  {
   "cell_type": "code",
   "execution_count": 28,
   "outputs": [
    {
     "data": {
      "text/plain": "          id registrationNumber  Unnamed: 0  billid  \\\n0      41797               9219           0   41797   \n1      41797               9219           1   41797   \n2      41791               9217           2   41791   \n3      41791               9217           3   41791   \n4      41791               9217           4   41791   \n...      ...                ...         ...     ...   \n60899      1               2064       60899       1   \n60900      1               2064       60900       1   \n60901      1               2064       60901       1   \n60902      1               2064       60902       1   \n60903      1               2064       60903       1   \n\n                          status     registrationDate              rubric  \\\n0                Одержано проект  2023-04-18T00:00:00  Галузевий розвиток   \n1                Одержано проект  2023-04-18T00:00:00  Галузевий розвиток   \n2      Опрацьовується в комітеті  2023-04-18T00:00:00  Галузевий розвиток   \n3      Опрацьовується в комітеті  2023-04-18T00:00:00  Галузевий розвиток   \n4      Опрацьовується в комітеті  2023-04-18T00:00:00  Галузевий розвиток   \n...                          ...                  ...                 ...   \n60899            Закон підписано  2019-09-05T00:00:00  Галузевий розвиток   \n60900            Закон підписано  2019-09-05T00:00:00  Галузевий розвиток   \n60901            Закон підписано  2019-09-05T00:00:00  Галузевий розвиток   \n60902            Закон підписано  2019-09-05T00:00:00  Галузевий розвиток   \n60903            Закон підписано  2019-09-05T00:00:00  Галузевий розвиток   \n\n                      passDate                             passTitle  \\\n0      2023-04-18T17:50:27.597       Передано на розгляд керівництву   \n1      2023-04-18T17:48:52.263      Одержано Верховною Радою України   \n2          2023-04-18T14:02:34        Направлено на розгляд Комітету   \n3       2023-04-18T10:41:40.47       Передано на розгляд керівництву   \n4       2023-04-18T10:41:40.47      Одержано Верховною Радою України   \n...                        ...                                   ...   \n60899   2020-04-16T12:45:08.87  Надано висновок Комітету про розгляд   \n60900      2019-09-10T17:48:00               Надано для ознайомлення   \n60901      2019-09-09T02:00:00        Направлено на розгляд Комітету   \n60902      2019-09-05T07:00:00       Передано на розгляд керівництву   \n60903      2019-09-05T06:02:00      Одержано Верховною Радою України   \n\n                      passStatus  \n0                Одержано проект  \n1                         Прийом  \n2                Одержано проект  \n3                Одержано проект  \n4                         Прийом  \n...                          ...  \n60899  Опрацьовується в комітеті  \n60900  Опрацьовується в комітеті  \n60901            Одержано проект  \n60902            Одержано проект  \n60903                     Прийом  \n\n[60904 rows x 10 columns]",
      "text/html": "<div>\n<style scoped>\n    .dataframe tbody tr th:only-of-type {\n        vertical-align: middle;\n    }\n\n    .dataframe tbody tr th {\n        vertical-align: top;\n    }\n\n    .dataframe thead th {\n        text-align: right;\n    }\n</style>\n<table border=\"1\" class=\"dataframe\">\n  <thead>\n    <tr style=\"text-align: right;\">\n      <th></th>\n      <th>id</th>\n      <th>registrationNumber</th>\n      <th>Unnamed: 0</th>\n      <th>billid</th>\n      <th>status</th>\n      <th>registrationDate</th>\n      <th>rubric</th>\n      <th>passDate</th>\n      <th>passTitle</th>\n      <th>passStatus</th>\n    </tr>\n  </thead>\n  <tbody>\n    <tr>\n      <th>0</th>\n      <td>41797</td>\n      <td>9219</td>\n      <td>0</td>\n      <td>41797</td>\n      <td>Одержано проект</td>\n      <td>2023-04-18T00:00:00</td>\n      <td>Галузевий розвиток</td>\n      <td>2023-04-18T17:50:27.597</td>\n      <td>Передано на розгляд керівництву</td>\n      <td>Одержано проект</td>\n    </tr>\n    <tr>\n      <th>1</th>\n      <td>41797</td>\n      <td>9219</td>\n      <td>1</td>\n      <td>41797</td>\n      <td>Одержано проект</td>\n      <td>2023-04-18T00:00:00</td>\n      <td>Галузевий розвиток</td>\n      <td>2023-04-18T17:48:52.263</td>\n      <td>Одержано Верховною Радою України</td>\n      <td>Прийом</td>\n    </tr>\n    <tr>\n      <th>2</th>\n      <td>41791</td>\n      <td>9217</td>\n      <td>2</td>\n      <td>41791</td>\n      <td>Опрацьовується в комітеті</td>\n      <td>2023-04-18T00:00:00</td>\n      <td>Галузевий розвиток</td>\n      <td>2023-04-18T14:02:34</td>\n      <td>Направлено на розгляд Комітету</td>\n      <td>Одержано проект</td>\n    </tr>\n    <tr>\n      <th>3</th>\n      <td>41791</td>\n      <td>9217</td>\n      <td>3</td>\n      <td>41791</td>\n      <td>Опрацьовується в комітеті</td>\n      <td>2023-04-18T00:00:00</td>\n      <td>Галузевий розвиток</td>\n      <td>2023-04-18T10:41:40.47</td>\n      <td>Передано на розгляд керівництву</td>\n      <td>Одержано проект</td>\n    </tr>\n    <tr>\n      <th>4</th>\n      <td>41791</td>\n      <td>9217</td>\n      <td>4</td>\n      <td>41791</td>\n      <td>Опрацьовується в комітеті</td>\n      <td>2023-04-18T00:00:00</td>\n      <td>Галузевий розвиток</td>\n      <td>2023-04-18T10:41:40.47</td>\n      <td>Одержано Верховною Радою України</td>\n      <td>Прийом</td>\n    </tr>\n    <tr>\n      <th>...</th>\n      <td>...</td>\n      <td>...</td>\n      <td>...</td>\n      <td>...</td>\n      <td>...</td>\n      <td>...</td>\n      <td>...</td>\n      <td>...</td>\n      <td>...</td>\n      <td>...</td>\n    </tr>\n    <tr>\n      <th>60899</th>\n      <td>1</td>\n      <td>2064</td>\n      <td>60899</td>\n      <td>1</td>\n      <td>Закон підписано</td>\n      <td>2019-09-05T00:00:00</td>\n      <td>Галузевий розвиток</td>\n      <td>2020-04-16T12:45:08.87</td>\n      <td>Надано висновок Комітету про розгляд</td>\n      <td>Опрацьовується в комітеті</td>\n    </tr>\n    <tr>\n      <th>60900</th>\n      <td>1</td>\n      <td>2064</td>\n      <td>60900</td>\n      <td>1</td>\n      <td>Закон підписано</td>\n      <td>2019-09-05T00:00:00</td>\n      <td>Галузевий розвиток</td>\n      <td>2019-09-10T17:48:00</td>\n      <td>Надано для ознайомлення</td>\n      <td>Опрацьовується в комітеті</td>\n    </tr>\n    <tr>\n      <th>60901</th>\n      <td>1</td>\n      <td>2064</td>\n      <td>60901</td>\n      <td>1</td>\n      <td>Закон підписано</td>\n      <td>2019-09-05T00:00:00</td>\n      <td>Галузевий розвиток</td>\n      <td>2019-09-09T02:00:00</td>\n      <td>Направлено на розгляд Комітету</td>\n      <td>Одержано проект</td>\n    </tr>\n    <tr>\n      <th>60902</th>\n      <td>1</td>\n      <td>2064</td>\n      <td>60902</td>\n      <td>1</td>\n      <td>Закон підписано</td>\n      <td>2019-09-05T00:00:00</td>\n      <td>Галузевий розвиток</td>\n      <td>2019-09-05T07:00:00</td>\n      <td>Передано на розгляд керівництву</td>\n      <td>Одержано проект</td>\n    </tr>\n    <tr>\n      <th>60903</th>\n      <td>1</td>\n      <td>2064</td>\n      <td>60903</td>\n      <td>1</td>\n      <td>Закон підписано</td>\n      <td>2019-09-05T00:00:00</td>\n      <td>Галузевий розвиток</td>\n      <td>2019-09-05T06:02:00</td>\n      <td>Одержано Верховною Радою України</td>\n      <td>Прийом</td>\n    </tr>\n  </tbody>\n</table>\n<p>60904 rows × 10 columns</p>\n</div>"
     },
     "execution_count": 28,
     "metadata": {},
     "output_type": "execute_result"
    }
   ],
   "source": [
    "new_pass"
   ],
   "metadata": {
    "collapsed": false
   }
  },
  {
   "cell_type": "code",
   "execution_count": 30,
   "outputs": [],
   "source": [
    "new_pass.to_csv('data/passings.csv')"
   ],
   "metadata": {
    "collapsed": false
   }
  },
  {
   "cell_type": "code",
   "execution_count": 43,
   "outputs": [
    {
     "data": {
      "text/plain": "60904"
     },
     "execution_count": 43,
     "metadata": {},
     "output_type": "execute_result"
    }
   ],
   "source": [
    "len(stat_pass)"
   ],
   "metadata": {
    "collapsed": false
   }
  },
  {
   "cell_type": "code",
   "execution_count": 7,
   "outputs": [],
   "source": [
    "doc_id = extract_values(passings, 'id')\n",
    "url = extract_values(tuple_list, 'url')\n",
    "doctype = extract_values(tuple_list, 'type')"
   ],
   "metadata": {
    "collapsed": false
   }
  },
  {
   "cell_type": "code",
   "execution_count": 8,
   "outputs": [
    {
     "data": {
      "text/plain": "57448"
     },
     "execution_count": 8,
     "metadata": {},
     "output_type": "execute_result"
    }
   ],
   "source": [
    "len(doctype)"
   ],
   "metadata": {
    "collapsed": false
   }
  },
  {
   "cell_type": "code",
   "execution_count": 9,
   "outputs": [],
   "source": [
    "df1 = pd.DataFrame(url, columns=['billid', 'url'])\n",
    "df2 = pd.DataFrame(doctype, columns=['billid', 'doctype'])\n",
    "docs_df = pd.concat([df1, df2], axis=1)\n",
    "docs_df = docs_df.loc[:,~docs_df.columns.duplicated()]\n",
    "\n"
   ],
   "metadata": {
    "collapsed": false
   }
  },
  {
   "cell_type": "code",
   "execution_count": 32,
   "outputs": [
    {
     "data": {
      "text/plain": "Подання                                                                            6868\nПояснювальна записка                                                               6523\nПорівняльна таблиця                                                                6137\nПроект Закону                                                                      5579\nПроект Постанови до Закону (іншого Акта)                                           5468\nВисновок Головного комітету                                                        4065\nДодаток                                                                            3994\nНауково-експертний висновок                                                        3788\nВисновок (бюджетна експертиза)                                                     3615\nПроект Постанови                                                                   3404\nВисновок (експертиза щодо європейської інтеграції)                                 2460\nВисновок комітету                                                                  1119\nЛінгвістична експертиза                                                            1061\nЗауваження Головного юридичного управління                                          770\nТекст, підписаний Головою Верховної Ради України                                    739\nВисновок (антикорупційна експертиза)                                                641\nАвторський колектив                                                                 286\nТекст міжнародного договору                                                         199\nФінансово-економічне обгрунтування                                                  104\nІнформація щодо євроінтеграції                                                      104\nВідповідь                                                                            81\nЛист                                                                                 80\nВисновок Головного комітету про повернення законопроекту                             42\nПропозиції                                                                           38\nЛист щодо проекту Закону України                                                     37\nПропозиції Президента України до Закону                                              34\nВисновок                                                                             31\nВисновок додаткова експертиза КМУ                                                    30\nДовідка про погодження                                                               23\nПостанова Верховної Ради України                                                     20\nВисновок (додаткова експертиза щодо європейської інтеграції)                         15\nПропозиція щодо усунення неузгодженостей у прийнятому законі                         12\nРішення комітету                                                                     10\nЗапрошення                                                                            9\nРішення                                                                               7\nДовідка                                                                               7\nІнформаційні матеріали                                                                6\nЗакон України                                                                         5\nТаблиця пропозицій (бюджет)                                                           5\nВисновок (щодо відповідності Регламенту Верховної Ради України)                       5\nТаблиця відповідності                                                                 4\nПроект Кодексу                                                                        4\nДо проекту                                                                            4\nВисновок (експертиза)                                                                 3\nВисновок Головного комітету щодо врахування Бюджетних висновків (друге читання)       2\nВідповідь на депутатськe звернення                                                    2\nДоручення                                                                             2\nПостанова                                                                             2\nВідповідь на звернення громадян                                                       1\nДепутатське звернення                                                                 1\nЗвернення                                                                             1\nЗауваження Головного Юридичного управління                                            1\nName: doctype, dtype: int64"
     },
     "execution_count": 32,
     "metadata": {},
     "output_type": "execute_result"
    }
   ],
   "source": [
    "docs_df['doctype'].value_counts()"
   ],
   "metadata": {
    "collapsed": false
   }
  },
  {
   "cell_type": "code",
   "execution_count": 10,
   "outputs": [],
   "source": [
    "#відділяємо найвпопулярніші документи з важливою інформиацією\n",
    "mask = docs_df['doctype'].isin(['Подання', 'Пояснювальна записка', 'Проект Закону', 'Проект Постанови'])\n",
    "\n",
    "sub_docs_df = docs_df[mask]\n"
   ],
   "metadata": {
    "collapsed": false
   }
  },
  {
   "cell_type": "code",
   "execution_count": 57,
   "outputs": [
    {
     "data": {
      "text/plain": "Int64Index([19182], dtype='int64')"
     },
     "execution_count": 57,
     "metadata": {},
     "output_type": "execute_result"
    }
   ],
   "source": [
    "sub_docs_df= sub_docs_df.reset_index(drop=True)\n",
    "sub_docs_df.index[sub_docs_df['url'].str.contains('46993')]"
   ],
   "metadata": {
    "collapsed": false
   }
  },
  {
   "cell_type": "code",
   "execution_count": 55,
   "outputs": [
    {
     "data": {
      "text/plain": "3220"
     },
     "execution_count": 55,
     "metadata": {},
     "output_type": "execute_result"
    }
   ],
   "source": [
    "\n",
    "urls = sub_docs_df['url'][19154:].to_list()\n",
    "len(urls)\n"
   ],
   "metadata": {
    "collapsed": false
   }
  },
  {
   "cell_type": "code",
   "execution_count": 14,
   "outputs": [],
   "source": [
    "\n",
    "\n",
    "\n"
   ],
   "metadata": {
    "collapsed": false
   }
  },
  {
   "cell_type": "code",
   "execution_count": 53,
   "outputs": [
    {
     "ename": "KeyboardInterrupt",
     "evalue": "",
     "output_type": "error",
     "traceback": [
      "\u001B[1;31m---------------------------------------------------------------------------\u001B[0m",
      "\u001B[1;31mKeyboardInterrupt\u001B[0m                         Traceback (most recent call last)",
      "Input \u001B[1;32mIn [53]\u001B[0m, in \u001B[0;36m<cell line: 2>\u001B[1;34m()\u001B[0m\n\u001B[0;32m      1\u001B[0m \u001B[38;5;66;03m# перебираємо кожне посилання і завантажуємо документ\u001B[39;00m\n\u001B[0;32m      2\u001B[0m \u001B[38;5;28;01mfor\u001B[39;00m url \u001B[38;5;129;01min\u001B[39;00m urls:\n\u001B[1;32m----> 3\u001B[0m     r \u001B[38;5;241m=\u001B[39m \u001B[43mrequests\u001B[49m\u001B[38;5;241;43m.\u001B[39;49m\u001B[43mget\u001B[49m\u001B[43m(\u001B[49m\u001B[43murl\u001B[49m\u001B[43m,\u001B[49m\u001B[43m \u001B[49m\u001B[43mallow_redirects\u001B[49m\u001B[38;5;241;43m=\u001B[39;49m\u001B[38;5;28;43;01mTrue\u001B[39;49;00m\u001B[43m)\u001B[49m\n\u001B[0;32m      4\u001B[0m     filename \u001B[38;5;241m=\u001B[39m url\u001B[38;5;241m.\u001B[39msplit(\u001B[38;5;124m'\u001B[39m\u001B[38;5;124m/\u001B[39m\u001B[38;5;124m'\u001B[39m)[\u001B[38;5;241m-\u001B[39m\u001B[38;5;241m1\u001B[39m]\n\u001B[0;32m      5\u001B[0m     file_type \u001B[38;5;241m=\u001B[39m magic\u001B[38;5;241m.\u001B[39mfrom_buffer(r\u001B[38;5;241m.\u001B[39mcontent, mime\u001B[38;5;241m=\u001B[39m\u001B[38;5;28;01mTrue\u001B[39;00m)\n",
      "File \u001B[1;32m~\\anaconda3\\lib\\site-packages\\requests\\api.py:75\u001B[0m, in \u001B[0;36mget\u001B[1;34m(url, params, **kwargs)\u001B[0m\n\u001B[0;32m     64\u001B[0m \u001B[38;5;28;01mdef\u001B[39;00m \u001B[38;5;21mget\u001B[39m(url, params\u001B[38;5;241m=\u001B[39m\u001B[38;5;28;01mNone\u001B[39;00m, \u001B[38;5;241m*\u001B[39m\u001B[38;5;241m*\u001B[39mkwargs):\n\u001B[0;32m     65\u001B[0m     \u001B[38;5;124mr\u001B[39m\u001B[38;5;124;03m\"\"\"Sends a GET request.\u001B[39;00m\n\u001B[0;32m     66\u001B[0m \n\u001B[0;32m     67\u001B[0m \u001B[38;5;124;03m    :param url: URL for the new :class:`Request` object.\u001B[39;00m\n\u001B[1;32m   (...)\u001B[0m\n\u001B[0;32m     72\u001B[0m \u001B[38;5;124;03m    :rtype: requests.Response\u001B[39;00m\n\u001B[0;32m     73\u001B[0m \u001B[38;5;124;03m    \"\"\"\u001B[39;00m\n\u001B[1;32m---> 75\u001B[0m     \u001B[38;5;28;01mreturn\u001B[39;00m request(\u001B[38;5;124m'\u001B[39m\u001B[38;5;124mget\u001B[39m\u001B[38;5;124m'\u001B[39m, url, params\u001B[38;5;241m=\u001B[39mparams, \u001B[38;5;241m*\u001B[39m\u001B[38;5;241m*\u001B[39mkwargs)\n",
      "File \u001B[1;32m~\\anaconda3\\lib\\site-packages\\requests\\api.py:61\u001B[0m, in \u001B[0;36mrequest\u001B[1;34m(method, url, **kwargs)\u001B[0m\n\u001B[0;32m     57\u001B[0m \u001B[38;5;66;03m# By using the 'with' statement we are sure the session is closed, thus we\u001B[39;00m\n\u001B[0;32m     58\u001B[0m \u001B[38;5;66;03m# avoid leaving sockets open which can trigger a ResourceWarning in some\u001B[39;00m\n\u001B[0;32m     59\u001B[0m \u001B[38;5;66;03m# cases, and look like a memory leak in others.\u001B[39;00m\n\u001B[0;32m     60\u001B[0m \u001B[38;5;28;01mwith\u001B[39;00m sessions\u001B[38;5;241m.\u001B[39mSession() \u001B[38;5;28;01mas\u001B[39;00m session:\n\u001B[1;32m---> 61\u001B[0m     \u001B[38;5;28;01mreturn\u001B[39;00m session\u001B[38;5;241m.\u001B[39mrequest(method\u001B[38;5;241m=\u001B[39mmethod, url\u001B[38;5;241m=\u001B[39murl, \u001B[38;5;241m*\u001B[39m\u001B[38;5;241m*\u001B[39mkwargs)\n",
      "File \u001B[1;32m~\\anaconda3\\lib\\site-packages\\requests\\sessions.py:529\u001B[0m, in \u001B[0;36mSession.request\u001B[1;34m(self, method, url, params, data, headers, cookies, files, auth, timeout, allow_redirects, proxies, hooks, stream, verify, cert, json)\u001B[0m\n\u001B[0;32m    524\u001B[0m send_kwargs \u001B[38;5;241m=\u001B[39m {\n\u001B[0;32m    525\u001B[0m     \u001B[38;5;124m'\u001B[39m\u001B[38;5;124mtimeout\u001B[39m\u001B[38;5;124m'\u001B[39m: timeout,\n\u001B[0;32m    526\u001B[0m     \u001B[38;5;124m'\u001B[39m\u001B[38;5;124mallow_redirects\u001B[39m\u001B[38;5;124m'\u001B[39m: allow_redirects,\n\u001B[0;32m    527\u001B[0m }\n\u001B[0;32m    528\u001B[0m send_kwargs\u001B[38;5;241m.\u001B[39mupdate(settings)\n\u001B[1;32m--> 529\u001B[0m resp \u001B[38;5;241m=\u001B[39m \u001B[38;5;28mself\u001B[39m\u001B[38;5;241m.\u001B[39msend(prep, \u001B[38;5;241m*\u001B[39m\u001B[38;5;241m*\u001B[39msend_kwargs)\n\u001B[0;32m    531\u001B[0m \u001B[38;5;28;01mreturn\u001B[39;00m resp\n",
      "File \u001B[1;32m~\\anaconda3\\lib\\site-packages\\requests\\sessions.py:645\u001B[0m, in \u001B[0;36mSession.send\u001B[1;34m(self, request, **kwargs)\u001B[0m\n\u001B[0;32m    642\u001B[0m start \u001B[38;5;241m=\u001B[39m preferred_clock()\n\u001B[0;32m    644\u001B[0m \u001B[38;5;66;03m# Send the request\u001B[39;00m\n\u001B[1;32m--> 645\u001B[0m r \u001B[38;5;241m=\u001B[39m adapter\u001B[38;5;241m.\u001B[39msend(request, \u001B[38;5;241m*\u001B[39m\u001B[38;5;241m*\u001B[39mkwargs)\n\u001B[0;32m    647\u001B[0m \u001B[38;5;66;03m# Total elapsed time of the request (approximately)\u001B[39;00m\n\u001B[0;32m    648\u001B[0m elapsed \u001B[38;5;241m=\u001B[39m preferred_clock() \u001B[38;5;241m-\u001B[39m start\n",
      "File \u001B[1;32m~\\anaconda3\\lib\\site-packages\\requests\\adapters.py:440\u001B[0m, in \u001B[0;36mHTTPAdapter.send\u001B[1;34m(self, request, stream, timeout, verify, cert, proxies)\u001B[0m\n\u001B[0;32m    438\u001B[0m \u001B[38;5;28;01mtry\u001B[39;00m:\n\u001B[0;32m    439\u001B[0m     \u001B[38;5;28;01mif\u001B[39;00m \u001B[38;5;129;01mnot\u001B[39;00m chunked:\n\u001B[1;32m--> 440\u001B[0m         resp \u001B[38;5;241m=\u001B[39m \u001B[43mconn\u001B[49m\u001B[38;5;241;43m.\u001B[39;49m\u001B[43murlopen\u001B[49m\u001B[43m(\u001B[49m\n\u001B[0;32m    441\u001B[0m \u001B[43m            \u001B[49m\u001B[43mmethod\u001B[49m\u001B[38;5;241;43m=\u001B[39;49m\u001B[43mrequest\u001B[49m\u001B[38;5;241;43m.\u001B[39;49m\u001B[43mmethod\u001B[49m\u001B[43m,\u001B[49m\n\u001B[0;32m    442\u001B[0m \u001B[43m            \u001B[49m\u001B[43murl\u001B[49m\u001B[38;5;241;43m=\u001B[39;49m\u001B[43murl\u001B[49m\u001B[43m,\u001B[49m\n\u001B[0;32m    443\u001B[0m \u001B[43m            \u001B[49m\u001B[43mbody\u001B[49m\u001B[38;5;241;43m=\u001B[39;49m\u001B[43mrequest\u001B[49m\u001B[38;5;241;43m.\u001B[39;49m\u001B[43mbody\u001B[49m\u001B[43m,\u001B[49m\n\u001B[0;32m    444\u001B[0m \u001B[43m            \u001B[49m\u001B[43mheaders\u001B[49m\u001B[38;5;241;43m=\u001B[39;49m\u001B[43mrequest\u001B[49m\u001B[38;5;241;43m.\u001B[39;49m\u001B[43mheaders\u001B[49m\u001B[43m,\u001B[49m\n\u001B[0;32m    445\u001B[0m \u001B[43m            \u001B[49m\u001B[43mredirect\u001B[49m\u001B[38;5;241;43m=\u001B[39;49m\u001B[38;5;28;43;01mFalse\u001B[39;49;00m\u001B[43m,\u001B[49m\n\u001B[0;32m    446\u001B[0m \u001B[43m            \u001B[49m\u001B[43massert_same_host\u001B[49m\u001B[38;5;241;43m=\u001B[39;49m\u001B[38;5;28;43;01mFalse\u001B[39;49;00m\u001B[43m,\u001B[49m\n\u001B[0;32m    447\u001B[0m \u001B[43m            \u001B[49m\u001B[43mpreload_content\u001B[49m\u001B[38;5;241;43m=\u001B[39;49m\u001B[38;5;28;43;01mFalse\u001B[39;49;00m\u001B[43m,\u001B[49m\n\u001B[0;32m    448\u001B[0m \u001B[43m            \u001B[49m\u001B[43mdecode_content\u001B[49m\u001B[38;5;241;43m=\u001B[39;49m\u001B[38;5;28;43;01mFalse\u001B[39;49;00m\u001B[43m,\u001B[49m\n\u001B[0;32m    449\u001B[0m \u001B[43m            \u001B[49m\u001B[43mretries\u001B[49m\u001B[38;5;241;43m=\u001B[39;49m\u001B[38;5;28;43mself\u001B[39;49m\u001B[38;5;241;43m.\u001B[39;49m\u001B[43mmax_retries\u001B[49m\u001B[43m,\u001B[49m\n\u001B[0;32m    450\u001B[0m \u001B[43m            \u001B[49m\u001B[43mtimeout\u001B[49m\u001B[38;5;241;43m=\u001B[39;49m\u001B[43mtimeout\u001B[49m\n\u001B[0;32m    451\u001B[0m \u001B[43m        \u001B[49m\u001B[43m)\u001B[49m\n\u001B[0;32m    453\u001B[0m     \u001B[38;5;66;03m# Send the request.\u001B[39;00m\n\u001B[0;32m    454\u001B[0m     \u001B[38;5;28;01melse\u001B[39;00m:\n\u001B[0;32m    455\u001B[0m         \u001B[38;5;28;01mif\u001B[39;00m \u001B[38;5;28mhasattr\u001B[39m(conn, \u001B[38;5;124m'\u001B[39m\u001B[38;5;124mproxy_pool\u001B[39m\u001B[38;5;124m'\u001B[39m):\n",
      "File \u001B[1;32m~\\anaconda3\\lib\\site-packages\\urllib3\\connectionpool.py:703\u001B[0m, in \u001B[0;36mHTTPConnectionPool.urlopen\u001B[1;34m(self, method, url, body, headers, retries, redirect, assert_same_host, timeout, pool_timeout, release_conn, chunked, body_pos, **response_kw)\u001B[0m\n\u001B[0;32m    700\u001B[0m     \u001B[38;5;28mself\u001B[39m\u001B[38;5;241m.\u001B[39m_prepare_proxy(conn)\n\u001B[0;32m    702\u001B[0m \u001B[38;5;66;03m# Make the request on the httplib connection object.\u001B[39;00m\n\u001B[1;32m--> 703\u001B[0m httplib_response \u001B[38;5;241m=\u001B[39m \u001B[38;5;28;43mself\u001B[39;49m\u001B[38;5;241;43m.\u001B[39;49m\u001B[43m_make_request\u001B[49m\u001B[43m(\u001B[49m\n\u001B[0;32m    704\u001B[0m \u001B[43m    \u001B[49m\u001B[43mconn\u001B[49m\u001B[43m,\u001B[49m\n\u001B[0;32m    705\u001B[0m \u001B[43m    \u001B[49m\u001B[43mmethod\u001B[49m\u001B[43m,\u001B[49m\n\u001B[0;32m    706\u001B[0m \u001B[43m    \u001B[49m\u001B[43murl\u001B[49m\u001B[43m,\u001B[49m\n\u001B[0;32m    707\u001B[0m \u001B[43m    \u001B[49m\u001B[43mtimeout\u001B[49m\u001B[38;5;241;43m=\u001B[39;49m\u001B[43mtimeout_obj\u001B[49m\u001B[43m,\u001B[49m\n\u001B[0;32m    708\u001B[0m \u001B[43m    \u001B[49m\u001B[43mbody\u001B[49m\u001B[38;5;241;43m=\u001B[39;49m\u001B[43mbody\u001B[49m\u001B[43m,\u001B[49m\n\u001B[0;32m    709\u001B[0m \u001B[43m    \u001B[49m\u001B[43mheaders\u001B[49m\u001B[38;5;241;43m=\u001B[39;49m\u001B[43mheaders\u001B[49m\u001B[43m,\u001B[49m\n\u001B[0;32m    710\u001B[0m \u001B[43m    \u001B[49m\u001B[43mchunked\u001B[49m\u001B[38;5;241;43m=\u001B[39;49m\u001B[43mchunked\u001B[49m\u001B[43m,\u001B[49m\n\u001B[0;32m    711\u001B[0m \u001B[43m\u001B[49m\u001B[43m)\u001B[49m\n\u001B[0;32m    713\u001B[0m \u001B[38;5;66;03m# If we're going to release the connection in ``finally:``, then\u001B[39;00m\n\u001B[0;32m    714\u001B[0m \u001B[38;5;66;03m# the response doesn't need to know about the connection. Otherwise\u001B[39;00m\n\u001B[0;32m    715\u001B[0m \u001B[38;5;66;03m# it will also try to release it and we'll have a double-release\u001B[39;00m\n\u001B[0;32m    716\u001B[0m \u001B[38;5;66;03m# mess.\u001B[39;00m\n\u001B[0;32m    717\u001B[0m response_conn \u001B[38;5;241m=\u001B[39m conn \u001B[38;5;28;01mif\u001B[39;00m \u001B[38;5;129;01mnot\u001B[39;00m release_conn \u001B[38;5;28;01melse\u001B[39;00m \u001B[38;5;28;01mNone\u001B[39;00m\n",
      "File \u001B[1;32m~\\anaconda3\\lib\\site-packages\\urllib3\\connectionpool.py:386\u001B[0m, in \u001B[0;36mHTTPConnectionPool._make_request\u001B[1;34m(self, conn, method, url, timeout, chunked, **httplib_request_kw)\u001B[0m\n\u001B[0;32m    384\u001B[0m \u001B[38;5;66;03m# Trigger any extra validation we need to do.\u001B[39;00m\n\u001B[0;32m    385\u001B[0m \u001B[38;5;28;01mtry\u001B[39;00m:\n\u001B[1;32m--> 386\u001B[0m     \u001B[38;5;28;43mself\u001B[39;49m\u001B[38;5;241;43m.\u001B[39;49m\u001B[43m_validate_conn\u001B[49m\u001B[43m(\u001B[49m\u001B[43mconn\u001B[49m\u001B[43m)\u001B[49m\n\u001B[0;32m    387\u001B[0m \u001B[38;5;28;01mexcept\u001B[39;00m (SocketTimeout, BaseSSLError) \u001B[38;5;28;01mas\u001B[39;00m e:\n\u001B[0;32m    388\u001B[0m     \u001B[38;5;66;03m# Py2 raises this as a BaseSSLError, Py3 raises it as socket timeout.\u001B[39;00m\n\u001B[0;32m    389\u001B[0m     \u001B[38;5;28mself\u001B[39m\u001B[38;5;241m.\u001B[39m_raise_timeout(err\u001B[38;5;241m=\u001B[39me, url\u001B[38;5;241m=\u001B[39murl, timeout_value\u001B[38;5;241m=\u001B[39mconn\u001B[38;5;241m.\u001B[39mtimeout)\n",
      "File \u001B[1;32m~\\anaconda3\\lib\\site-packages\\urllib3\\connectionpool.py:1040\u001B[0m, in \u001B[0;36mHTTPSConnectionPool._validate_conn\u001B[1;34m(self, conn)\u001B[0m\n\u001B[0;32m   1038\u001B[0m \u001B[38;5;66;03m# Force connect early to allow us to validate the connection.\u001B[39;00m\n\u001B[0;32m   1039\u001B[0m \u001B[38;5;28;01mif\u001B[39;00m \u001B[38;5;129;01mnot\u001B[39;00m \u001B[38;5;28mgetattr\u001B[39m(conn, \u001B[38;5;124m\"\u001B[39m\u001B[38;5;124msock\u001B[39m\u001B[38;5;124m\"\u001B[39m, \u001B[38;5;28;01mNone\u001B[39;00m):  \u001B[38;5;66;03m# AppEngine might not have  `.sock`\u001B[39;00m\n\u001B[1;32m-> 1040\u001B[0m     \u001B[43mconn\u001B[49m\u001B[38;5;241;43m.\u001B[39;49m\u001B[43mconnect\u001B[49m\u001B[43m(\u001B[49m\u001B[43m)\u001B[49m\n\u001B[0;32m   1042\u001B[0m \u001B[38;5;28;01mif\u001B[39;00m \u001B[38;5;129;01mnot\u001B[39;00m conn\u001B[38;5;241m.\u001B[39mis_verified:\n\u001B[0;32m   1043\u001B[0m     warnings\u001B[38;5;241m.\u001B[39mwarn(\n\u001B[0;32m   1044\u001B[0m         (\n\u001B[0;32m   1045\u001B[0m             \u001B[38;5;124m\"\u001B[39m\u001B[38;5;124mUnverified HTTPS request is being made to host \u001B[39m\u001B[38;5;124m'\u001B[39m\u001B[38;5;132;01m%s\u001B[39;00m\u001B[38;5;124m'\u001B[39m\u001B[38;5;124m. \u001B[39m\u001B[38;5;124m\"\u001B[39m\n\u001B[1;32m   (...)\u001B[0m\n\u001B[0;32m   1050\u001B[0m         InsecureRequestWarning,\n\u001B[0;32m   1051\u001B[0m     )\n",
      "File \u001B[1;32m~\\anaconda3\\lib\\site-packages\\urllib3\\connection.py:358\u001B[0m, in \u001B[0;36mHTTPSConnection.connect\u001B[1;34m(self)\u001B[0m\n\u001B[0;32m    356\u001B[0m \u001B[38;5;28;01mdef\u001B[39;00m \u001B[38;5;21mconnect\u001B[39m(\u001B[38;5;28mself\u001B[39m):\n\u001B[0;32m    357\u001B[0m     \u001B[38;5;66;03m# Add certificate verification\u001B[39;00m\n\u001B[1;32m--> 358\u001B[0m     \u001B[38;5;28mself\u001B[39m\u001B[38;5;241m.\u001B[39msock \u001B[38;5;241m=\u001B[39m conn \u001B[38;5;241m=\u001B[39m \u001B[38;5;28;43mself\u001B[39;49m\u001B[38;5;241;43m.\u001B[39;49m\u001B[43m_new_conn\u001B[49m\u001B[43m(\u001B[49m\u001B[43m)\u001B[49m\n\u001B[0;32m    359\u001B[0m     hostname \u001B[38;5;241m=\u001B[39m \u001B[38;5;28mself\u001B[39m\u001B[38;5;241m.\u001B[39mhost\n\u001B[0;32m    360\u001B[0m     tls_in_tls \u001B[38;5;241m=\u001B[39m \u001B[38;5;28;01mFalse\u001B[39;00m\n",
      "File \u001B[1;32m~\\anaconda3\\lib\\site-packages\\urllib3\\connection.py:174\u001B[0m, in \u001B[0;36mHTTPConnection._new_conn\u001B[1;34m(self)\u001B[0m\n\u001B[0;32m    171\u001B[0m     extra_kw[\u001B[38;5;124m\"\u001B[39m\u001B[38;5;124msocket_options\u001B[39m\u001B[38;5;124m\"\u001B[39m] \u001B[38;5;241m=\u001B[39m \u001B[38;5;28mself\u001B[39m\u001B[38;5;241m.\u001B[39msocket_options\n\u001B[0;32m    173\u001B[0m \u001B[38;5;28;01mtry\u001B[39;00m:\n\u001B[1;32m--> 174\u001B[0m     conn \u001B[38;5;241m=\u001B[39m connection\u001B[38;5;241m.\u001B[39mcreate_connection(\n\u001B[0;32m    175\u001B[0m         (\u001B[38;5;28mself\u001B[39m\u001B[38;5;241m.\u001B[39m_dns_host, \u001B[38;5;28mself\u001B[39m\u001B[38;5;241m.\u001B[39mport), \u001B[38;5;28mself\u001B[39m\u001B[38;5;241m.\u001B[39mtimeout, \u001B[38;5;241m*\u001B[39m\u001B[38;5;241m*\u001B[39mextra_kw\n\u001B[0;32m    176\u001B[0m     )\n\u001B[0;32m    178\u001B[0m \u001B[38;5;28;01mexcept\u001B[39;00m SocketTimeout:\n\u001B[0;32m    179\u001B[0m     \u001B[38;5;28;01mraise\u001B[39;00m ConnectTimeoutError(\n\u001B[0;32m    180\u001B[0m         \u001B[38;5;28mself\u001B[39m,\n\u001B[0;32m    181\u001B[0m         \u001B[38;5;124m\"\u001B[39m\u001B[38;5;124mConnection to \u001B[39m\u001B[38;5;132;01m%s\u001B[39;00m\u001B[38;5;124m timed out. (connect timeout=\u001B[39m\u001B[38;5;132;01m%s\u001B[39;00m\u001B[38;5;124m)\u001B[39m\u001B[38;5;124m\"\u001B[39m\n\u001B[0;32m    182\u001B[0m         \u001B[38;5;241m%\u001B[39m (\u001B[38;5;28mself\u001B[39m\u001B[38;5;241m.\u001B[39mhost, \u001B[38;5;28mself\u001B[39m\u001B[38;5;241m.\u001B[39mtimeout),\n\u001B[0;32m    183\u001B[0m     )\n",
      "File \u001B[1;32m~\\anaconda3\\lib\\site-packages\\urllib3\\util\\connection.py:85\u001B[0m, in \u001B[0;36mcreate_connection\u001B[1;34m(address, timeout, source_address, socket_options)\u001B[0m\n\u001B[0;32m     83\u001B[0m     \u001B[38;5;28;01mif\u001B[39;00m source_address:\n\u001B[0;32m     84\u001B[0m         sock\u001B[38;5;241m.\u001B[39mbind(source_address)\n\u001B[1;32m---> 85\u001B[0m     \u001B[43msock\u001B[49m\u001B[38;5;241;43m.\u001B[39;49m\u001B[43mconnect\u001B[49m\u001B[43m(\u001B[49m\u001B[43msa\u001B[49m\u001B[43m)\u001B[49m\n\u001B[0;32m     86\u001B[0m     \u001B[38;5;28;01mreturn\u001B[39;00m sock\n\u001B[0;32m     88\u001B[0m \u001B[38;5;28;01mexcept\u001B[39;00m socket\u001B[38;5;241m.\u001B[39merror \u001B[38;5;28;01mas\u001B[39;00m e:\n",
      "\u001B[1;31mKeyboardInterrupt\u001B[0m: "
     ]
    }
   ],
   "source": [
    "\n",
    "# перебираємо кожне посилання і завантажуємо документ\n",
    "for url in urls:\n",
    "    r = requests.get(url, allow_redirects=True)\n",
    "    filename = url.split('/')[-1]\n",
    "    file_type = magic.from_buffer(r.content, mime=True)\n",
    "    with open(f\"data\\docs\\\\first\\\\{filename}.{file_type.split('/')[1]}\", 'wb') as f:\n",
    "        f.write(r.content)"
   ],
   "metadata": {
    "collapsed": false
   }
  },
  {
   "cell_type": "code",
   "execution_count": 56,
   "outputs": [
    {
     "ename": "ConnectionError",
     "evalue": "HTTPSConnectionPool(host='itd.rada.gov.ua', port=443): Max retries exceeded with url: /billInfo/Bills/pubFile/46993 (Caused by NewConnectionError('<urllib3.connection.HTTPSConnection object at 0x000001A85443CE20>: Failed to establish a new connection: [WinError 10060] A connection attempt failed because the connected party did not properly respond after a period of time, or established connection failed because connected host has failed to respond'))",
     "output_type": "error",
     "traceback": [
      "\u001B[1;31m---------------------------------------------------------------------------\u001B[0m",
      "\u001B[1;31mTimeoutError\u001B[0m                              Traceback (most recent call last)",
      "File \u001B[1;32m~\\anaconda3\\lib\\site-packages\\urllib3\\connection.py:174\u001B[0m, in \u001B[0;36mHTTPConnection._new_conn\u001B[1;34m(self)\u001B[0m\n\u001B[0;32m    173\u001B[0m \u001B[38;5;28;01mtry\u001B[39;00m:\n\u001B[1;32m--> 174\u001B[0m     conn \u001B[38;5;241m=\u001B[39m connection\u001B[38;5;241m.\u001B[39mcreate_connection(\n\u001B[0;32m    175\u001B[0m         (\u001B[38;5;28mself\u001B[39m\u001B[38;5;241m.\u001B[39m_dns_host, \u001B[38;5;28mself\u001B[39m\u001B[38;5;241m.\u001B[39mport), \u001B[38;5;28mself\u001B[39m\u001B[38;5;241m.\u001B[39mtimeout, \u001B[38;5;241m*\u001B[39m\u001B[38;5;241m*\u001B[39mextra_kw\n\u001B[0;32m    176\u001B[0m     )\n\u001B[0;32m    178\u001B[0m \u001B[38;5;28;01mexcept\u001B[39;00m SocketTimeout:\n",
      "File \u001B[1;32m~\\anaconda3\\lib\\site-packages\\urllib3\\util\\connection.py:95\u001B[0m, in \u001B[0;36mcreate_connection\u001B[1;34m(address, timeout, source_address, socket_options)\u001B[0m\n\u001B[0;32m     94\u001B[0m \u001B[38;5;28;01mif\u001B[39;00m err \u001B[38;5;129;01mis\u001B[39;00m \u001B[38;5;129;01mnot\u001B[39;00m \u001B[38;5;28;01mNone\u001B[39;00m:\n\u001B[1;32m---> 95\u001B[0m     \u001B[38;5;28;01mraise\u001B[39;00m err\n\u001B[0;32m     97\u001B[0m \u001B[38;5;28;01mraise\u001B[39;00m socket\u001B[38;5;241m.\u001B[39merror(\u001B[38;5;124m\"\u001B[39m\u001B[38;5;124mgetaddrinfo returns an empty list\u001B[39m\u001B[38;5;124m\"\u001B[39m)\n",
      "File \u001B[1;32m~\\anaconda3\\lib\\site-packages\\urllib3\\util\\connection.py:85\u001B[0m, in \u001B[0;36mcreate_connection\u001B[1;34m(address, timeout, source_address, socket_options)\u001B[0m\n\u001B[0;32m     84\u001B[0m     sock\u001B[38;5;241m.\u001B[39mbind(source_address)\n\u001B[1;32m---> 85\u001B[0m \u001B[43msock\u001B[49m\u001B[38;5;241;43m.\u001B[39;49m\u001B[43mconnect\u001B[49m\u001B[43m(\u001B[49m\u001B[43msa\u001B[49m\u001B[43m)\u001B[49m\n\u001B[0;32m     86\u001B[0m \u001B[38;5;28;01mreturn\u001B[39;00m sock\n",
      "\u001B[1;31mTimeoutError\u001B[0m: [WinError 10060] A connection attempt failed because the connected party did not properly respond after a period of time, or established connection failed because connected host has failed to respond",
      "\nDuring handling of the above exception, another exception occurred:\n",
      "\u001B[1;31mNewConnectionError\u001B[0m                        Traceback (most recent call last)",
      "File \u001B[1;32m~\\anaconda3\\lib\\site-packages\\urllib3\\connectionpool.py:703\u001B[0m, in \u001B[0;36mHTTPConnectionPool.urlopen\u001B[1;34m(self, method, url, body, headers, retries, redirect, assert_same_host, timeout, pool_timeout, release_conn, chunked, body_pos, **response_kw)\u001B[0m\n\u001B[0;32m    702\u001B[0m \u001B[38;5;66;03m# Make the request on the httplib connection object.\u001B[39;00m\n\u001B[1;32m--> 703\u001B[0m httplib_response \u001B[38;5;241m=\u001B[39m \u001B[38;5;28;43mself\u001B[39;49m\u001B[38;5;241;43m.\u001B[39;49m\u001B[43m_make_request\u001B[49m\u001B[43m(\u001B[49m\n\u001B[0;32m    704\u001B[0m \u001B[43m    \u001B[49m\u001B[43mconn\u001B[49m\u001B[43m,\u001B[49m\n\u001B[0;32m    705\u001B[0m \u001B[43m    \u001B[49m\u001B[43mmethod\u001B[49m\u001B[43m,\u001B[49m\n\u001B[0;32m    706\u001B[0m \u001B[43m    \u001B[49m\u001B[43murl\u001B[49m\u001B[43m,\u001B[49m\n\u001B[0;32m    707\u001B[0m \u001B[43m    \u001B[49m\u001B[43mtimeout\u001B[49m\u001B[38;5;241;43m=\u001B[39;49m\u001B[43mtimeout_obj\u001B[49m\u001B[43m,\u001B[49m\n\u001B[0;32m    708\u001B[0m \u001B[43m    \u001B[49m\u001B[43mbody\u001B[49m\u001B[38;5;241;43m=\u001B[39;49m\u001B[43mbody\u001B[49m\u001B[43m,\u001B[49m\n\u001B[0;32m    709\u001B[0m \u001B[43m    \u001B[49m\u001B[43mheaders\u001B[49m\u001B[38;5;241;43m=\u001B[39;49m\u001B[43mheaders\u001B[49m\u001B[43m,\u001B[49m\n\u001B[0;32m    710\u001B[0m \u001B[43m    \u001B[49m\u001B[43mchunked\u001B[49m\u001B[38;5;241;43m=\u001B[39;49m\u001B[43mchunked\u001B[49m\u001B[43m,\u001B[49m\n\u001B[0;32m    711\u001B[0m \u001B[43m\u001B[49m\u001B[43m)\u001B[49m\n\u001B[0;32m    713\u001B[0m \u001B[38;5;66;03m# If we're going to release the connection in ``finally:``, then\u001B[39;00m\n\u001B[0;32m    714\u001B[0m \u001B[38;5;66;03m# the response doesn't need to know about the connection. Otherwise\u001B[39;00m\n\u001B[0;32m    715\u001B[0m \u001B[38;5;66;03m# it will also try to release it and we'll have a double-release\u001B[39;00m\n\u001B[0;32m    716\u001B[0m \u001B[38;5;66;03m# mess.\u001B[39;00m\n",
      "File \u001B[1;32m~\\anaconda3\\lib\\site-packages\\urllib3\\connectionpool.py:386\u001B[0m, in \u001B[0;36mHTTPConnectionPool._make_request\u001B[1;34m(self, conn, method, url, timeout, chunked, **httplib_request_kw)\u001B[0m\n\u001B[0;32m    385\u001B[0m \u001B[38;5;28;01mtry\u001B[39;00m:\n\u001B[1;32m--> 386\u001B[0m     \u001B[38;5;28;43mself\u001B[39;49m\u001B[38;5;241;43m.\u001B[39;49m\u001B[43m_validate_conn\u001B[49m\u001B[43m(\u001B[49m\u001B[43mconn\u001B[49m\u001B[43m)\u001B[49m\n\u001B[0;32m    387\u001B[0m \u001B[38;5;28;01mexcept\u001B[39;00m (SocketTimeout, BaseSSLError) \u001B[38;5;28;01mas\u001B[39;00m e:\n\u001B[0;32m    388\u001B[0m     \u001B[38;5;66;03m# Py2 raises this as a BaseSSLError, Py3 raises it as socket timeout.\u001B[39;00m\n",
      "File \u001B[1;32m~\\anaconda3\\lib\\site-packages\\urllib3\\connectionpool.py:1040\u001B[0m, in \u001B[0;36mHTTPSConnectionPool._validate_conn\u001B[1;34m(self, conn)\u001B[0m\n\u001B[0;32m   1039\u001B[0m \u001B[38;5;28;01mif\u001B[39;00m \u001B[38;5;129;01mnot\u001B[39;00m \u001B[38;5;28mgetattr\u001B[39m(conn, \u001B[38;5;124m\"\u001B[39m\u001B[38;5;124msock\u001B[39m\u001B[38;5;124m\"\u001B[39m, \u001B[38;5;28;01mNone\u001B[39;00m):  \u001B[38;5;66;03m# AppEngine might not have  `.sock`\u001B[39;00m\n\u001B[1;32m-> 1040\u001B[0m     \u001B[43mconn\u001B[49m\u001B[38;5;241;43m.\u001B[39;49m\u001B[43mconnect\u001B[49m\u001B[43m(\u001B[49m\u001B[43m)\u001B[49m\n\u001B[0;32m   1042\u001B[0m \u001B[38;5;28;01mif\u001B[39;00m \u001B[38;5;129;01mnot\u001B[39;00m conn\u001B[38;5;241m.\u001B[39mis_verified:\n",
      "File \u001B[1;32m~\\anaconda3\\lib\\site-packages\\urllib3\\connection.py:358\u001B[0m, in \u001B[0;36mHTTPSConnection.connect\u001B[1;34m(self)\u001B[0m\n\u001B[0;32m    356\u001B[0m \u001B[38;5;28;01mdef\u001B[39;00m \u001B[38;5;21mconnect\u001B[39m(\u001B[38;5;28mself\u001B[39m):\n\u001B[0;32m    357\u001B[0m     \u001B[38;5;66;03m# Add certificate verification\u001B[39;00m\n\u001B[1;32m--> 358\u001B[0m     \u001B[38;5;28mself\u001B[39m\u001B[38;5;241m.\u001B[39msock \u001B[38;5;241m=\u001B[39m conn \u001B[38;5;241m=\u001B[39m \u001B[38;5;28;43mself\u001B[39;49m\u001B[38;5;241;43m.\u001B[39;49m\u001B[43m_new_conn\u001B[49m\u001B[43m(\u001B[49m\u001B[43m)\u001B[49m\n\u001B[0;32m    359\u001B[0m     hostname \u001B[38;5;241m=\u001B[39m \u001B[38;5;28mself\u001B[39m\u001B[38;5;241m.\u001B[39mhost\n",
      "File \u001B[1;32m~\\anaconda3\\lib\\site-packages\\urllib3\\connection.py:186\u001B[0m, in \u001B[0;36mHTTPConnection._new_conn\u001B[1;34m(self)\u001B[0m\n\u001B[0;32m    185\u001B[0m \u001B[38;5;28;01mexcept\u001B[39;00m SocketError \u001B[38;5;28;01mas\u001B[39;00m e:\n\u001B[1;32m--> 186\u001B[0m     \u001B[38;5;28;01mraise\u001B[39;00m NewConnectionError(\n\u001B[0;32m    187\u001B[0m         \u001B[38;5;28mself\u001B[39m, \u001B[38;5;124m\"\u001B[39m\u001B[38;5;124mFailed to establish a new connection: \u001B[39m\u001B[38;5;132;01m%s\u001B[39;00m\u001B[38;5;124m\"\u001B[39m \u001B[38;5;241m%\u001B[39m e\n\u001B[0;32m    188\u001B[0m     )\n\u001B[0;32m    190\u001B[0m \u001B[38;5;28;01mreturn\u001B[39;00m conn\n",
      "\u001B[1;31mNewConnectionError\u001B[0m: <urllib3.connection.HTTPSConnection object at 0x000001A85443CE20>: Failed to establish a new connection: [WinError 10060] A connection attempt failed because the connected party did not properly respond after a period of time, or established connection failed because connected host has failed to respond",
      "\nDuring handling of the above exception, another exception occurred:\n",
      "\u001B[1;31mMaxRetryError\u001B[0m                             Traceback (most recent call last)",
      "File \u001B[1;32m~\\anaconda3\\lib\\site-packages\\requests\\adapters.py:440\u001B[0m, in \u001B[0;36mHTTPAdapter.send\u001B[1;34m(self, request, stream, timeout, verify, cert, proxies)\u001B[0m\n\u001B[0;32m    439\u001B[0m \u001B[38;5;28;01mif\u001B[39;00m \u001B[38;5;129;01mnot\u001B[39;00m chunked:\n\u001B[1;32m--> 440\u001B[0m     resp \u001B[38;5;241m=\u001B[39m \u001B[43mconn\u001B[49m\u001B[38;5;241;43m.\u001B[39;49m\u001B[43murlopen\u001B[49m\u001B[43m(\u001B[49m\n\u001B[0;32m    441\u001B[0m \u001B[43m        \u001B[49m\u001B[43mmethod\u001B[49m\u001B[38;5;241;43m=\u001B[39;49m\u001B[43mrequest\u001B[49m\u001B[38;5;241;43m.\u001B[39;49m\u001B[43mmethod\u001B[49m\u001B[43m,\u001B[49m\n\u001B[0;32m    442\u001B[0m \u001B[43m        \u001B[49m\u001B[43murl\u001B[49m\u001B[38;5;241;43m=\u001B[39;49m\u001B[43murl\u001B[49m\u001B[43m,\u001B[49m\n\u001B[0;32m    443\u001B[0m \u001B[43m        \u001B[49m\u001B[43mbody\u001B[49m\u001B[38;5;241;43m=\u001B[39;49m\u001B[43mrequest\u001B[49m\u001B[38;5;241;43m.\u001B[39;49m\u001B[43mbody\u001B[49m\u001B[43m,\u001B[49m\n\u001B[0;32m    444\u001B[0m \u001B[43m        \u001B[49m\u001B[43mheaders\u001B[49m\u001B[38;5;241;43m=\u001B[39;49m\u001B[43mrequest\u001B[49m\u001B[38;5;241;43m.\u001B[39;49m\u001B[43mheaders\u001B[49m\u001B[43m,\u001B[49m\n\u001B[0;32m    445\u001B[0m \u001B[43m        \u001B[49m\u001B[43mredirect\u001B[49m\u001B[38;5;241;43m=\u001B[39;49m\u001B[38;5;28;43;01mFalse\u001B[39;49;00m\u001B[43m,\u001B[49m\n\u001B[0;32m    446\u001B[0m \u001B[43m        \u001B[49m\u001B[43massert_same_host\u001B[49m\u001B[38;5;241;43m=\u001B[39;49m\u001B[38;5;28;43;01mFalse\u001B[39;49;00m\u001B[43m,\u001B[49m\n\u001B[0;32m    447\u001B[0m \u001B[43m        \u001B[49m\u001B[43mpreload_content\u001B[49m\u001B[38;5;241;43m=\u001B[39;49m\u001B[38;5;28;43;01mFalse\u001B[39;49;00m\u001B[43m,\u001B[49m\n\u001B[0;32m    448\u001B[0m \u001B[43m        \u001B[49m\u001B[43mdecode_content\u001B[49m\u001B[38;5;241;43m=\u001B[39;49m\u001B[38;5;28;43;01mFalse\u001B[39;49;00m\u001B[43m,\u001B[49m\n\u001B[0;32m    449\u001B[0m \u001B[43m        \u001B[49m\u001B[43mretries\u001B[49m\u001B[38;5;241;43m=\u001B[39;49m\u001B[38;5;28;43mself\u001B[39;49m\u001B[38;5;241;43m.\u001B[39;49m\u001B[43mmax_retries\u001B[49m\u001B[43m,\u001B[49m\n\u001B[0;32m    450\u001B[0m \u001B[43m        \u001B[49m\u001B[43mtimeout\u001B[49m\u001B[38;5;241;43m=\u001B[39;49m\u001B[43mtimeout\u001B[49m\n\u001B[0;32m    451\u001B[0m \u001B[43m    \u001B[49m\u001B[43m)\u001B[49m\n\u001B[0;32m    453\u001B[0m \u001B[38;5;66;03m# Send the request.\u001B[39;00m\n\u001B[0;32m    454\u001B[0m \u001B[38;5;28;01melse\u001B[39;00m:\n",
      "File \u001B[1;32m~\\anaconda3\\lib\\site-packages\\urllib3\\connectionpool.py:785\u001B[0m, in \u001B[0;36mHTTPConnectionPool.urlopen\u001B[1;34m(self, method, url, body, headers, retries, redirect, assert_same_host, timeout, pool_timeout, release_conn, chunked, body_pos, **response_kw)\u001B[0m\n\u001B[0;32m    783\u001B[0m     e \u001B[38;5;241m=\u001B[39m ProtocolError(\u001B[38;5;124m\"\u001B[39m\u001B[38;5;124mConnection aborted.\u001B[39m\u001B[38;5;124m\"\u001B[39m, e)\n\u001B[1;32m--> 785\u001B[0m retries \u001B[38;5;241m=\u001B[39m \u001B[43mretries\u001B[49m\u001B[38;5;241;43m.\u001B[39;49m\u001B[43mincrement\u001B[49m\u001B[43m(\u001B[49m\n\u001B[0;32m    786\u001B[0m \u001B[43m    \u001B[49m\u001B[43mmethod\u001B[49m\u001B[43m,\u001B[49m\u001B[43m \u001B[49m\u001B[43murl\u001B[49m\u001B[43m,\u001B[49m\u001B[43m \u001B[49m\u001B[43merror\u001B[49m\u001B[38;5;241;43m=\u001B[39;49m\u001B[43me\u001B[49m\u001B[43m,\u001B[49m\u001B[43m \u001B[49m\u001B[43m_pool\u001B[49m\u001B[38;5;241;43m=\u001B[39;49m\u001B[38;5;28;43mself\u001B[39;49m\u001B[43m,\u001B[49m\u001B[43m \u001B[49m\u001B[43m_stacktrace\u001B[49m\u001B[38;5;241;43m=\u001B[39;49m\u001B[43msys\u001B[49m\u001B[38;5;241;43m.\u001B[39;49m\u001B[43mexc_info\u001B[49m\u001B[43m(\u001B[49m\u001B[43m)\u001B[49m\u001B[43m[\u001B[49m\u001B[38;5;241;43m2\u001B[39;49m\u001B[43m]\u001B[49m\n\u001B[0;32m    787\u001B[0m \u001B[43m\u001B[49m\u001B[43m)\u001B[49m\n\u001B[0;32m    788\u001B[0m retries\u001B[38;5;241m.\u001B[39msleep()\n",
      "File \u001B[1;32m~\\anaconda3\\lib\\site-packages\\urllib3\\util\\retry.py:592\u001B[0m, in \u001B[0;36mRetry.increment\u001B[1;34m(self, method, url, response, error, _pool, _stacktrace)\u001B[0m\n\u001B[0;32m    591\u001B[0m \u001B[38;5;28;01mif\u001B[39;00m new_retry\u001B[38;5;241m.\u001B[39mis_exhausted():\n\u001B[1;32m--> 592\u001B[0m     \u001B[38;5;28;01mraise\u001B[39;00m MaxRetryError(_pool, url, error \u001B[38;5;129;01mor\u001B[39;00m ResponseError(cause))\n\u001B[0;32m    594\u001B[0m log\u001B[38;5;241m.\u001B[39mdebug(\u001B[38;5;124m\"\u001B[39m\u001B[38;5;124mIncremented Retry for (url=\u001B[39m\u001B[38;5;124m'\u001B[39m\u001B[38;5;132;01m%s\u001B[39;00m\u001B[38;5;124m'\u001B[39m\u001B[38;5;124m): \u001B[39m\u001B[38;5;132;01m%r\u001B[39;00m\u001B[38;5;124m\"\u001B[39m, url, new_retry)\n",
      "\u001B[1;31mMaxRetryError\u001B[0m: HTTPSConnectionPool(host='itd.rada.gov.ua', port=443): Max retries exceeded with url: /billInfo/Bills/pubFile/46993 (Caused by NewConnectionError('<urllib3.connection.HTTPSConnection object at 0x000001A85443CE20>: Failed to establish a new connection: [WinError 10060] A connection attempt failed because the connected party did not properly respond after a period of time, or established connection failed because connected host has failed to respond'))",
      "\nDuring handling of the above exception, another exception occurred:\n",
      "\u001B[1;31mConnectionError\u001B[0m                           Traceback (most recent call last)",
      "Input \u001B[1;32mIn [56]\u001B[0m, in \u001B[0;36m<cell line: 5>\u001B[1;34m()\u001B[0m\n\u001B[0;32m      1\u001B[0m \u001B[38;5;66;03m# якщо не pdf to docx\u001B[39;00m\n\u001B[0;32m      2\u001B[0m \n\u001B[0;32m      3\u001B[0m \u001B[38;5;66;03m#urls =  'https://itd.rada.gov.ua/billInfo/Bills/pubFile/140892',\u001B[39;00m\n\u001B[0;32m      5\u001B[0m \u001B[38;5;28;01mfor\u001B[39;00m url \u001B[38;5;129;01min\u001B[39;00m urls:\n\u001B[1;32m----> 6\u001B[0m     r \u001B[38;5;241m=\u001B[39m \u001B[43mrequests\u001B[49m\u001B[38;5;241;43m.\u001B[39;49m\u001B[43mget\u001B[49m\u001B[43m(\u001B[49m\u001B[43murl\u001B[49m\u001B[43m,\u001B[49m\u001B[43m \u001B[49m\u001B[43mallow_redirects\u001B[49m\u001B[38;5;241;43m=\u001B[39;49m\u001B[38;5;28;43;01mTrue\u001B[39;49;00m\u001B[43m)\u001B[49m\n\u001B[0;32m      7\u001B[0m     filename \u001B[38;5;241m=\u001B[39m url\u001B[38;5;241m.\u001B[39msplit(\u001B[38;5;124m'\u001B[39m\u001B[38;5;124m/\u001B[39m\u001B[38;5;124m'\u001B[39m)[\u001B[38;5;241m-\u001B[39m\u001B[38;5;241m1\u001B[39m]\n\u001B[0;32m      8\u001B[0m     file_type \u001B[38;5;241m=\u001B[39m magic\u001B[38;5;241m.\u001B[39mfrom_buffer(r\u001B[38;5;241m.\u001B[39mcontent, mime\u001B[38;5;241m=\u001B[39m\u001B[38;5;28;01mTrue\u001B[39;00m)\n",
      "File \u001B[1;32m~\\anaconda3\\lib\\site-packages\\requests\\api.py:75\u001B[0m, in \u001B[0;36mget\u001B[1;34m(url, params, **kwargs)\u001B[0m\n\u001B[0;32m     64\u001B[0m \u001B[38;5;28;01mdef\u001B[39;00m \u001B[38;5;21mget\u001B[39m(url, params\u001B[38;5;241m=\u001B[39m\u001B[38;5;28;01mNone\u001B[39;00m, \u001B[38;5;241m*\u001B[39m\u001B[38;5;241m*\u001B[39mkwargs):\n\u001B[0;32m     65\u001B[0m     \u001B[38;5;124mr\u001B[39m\u001B[38;5;124;03m\"\"\"Sends a GET request.\u001B[39;00m\n\u001B[0;32m     66\u001B[0m \n\u001B[0;32m     67\u001B[0m \u001B[38;5;124;03m    :param url: URL for the new :class:`Request` object.\u001B[39;00m\n\u001B[1;32m   (...)\u001B[0m\n\u001B[0;32m     72\u001B[0m \u001B[38;5;124;03m    :rtype: requests.Response\u001B[39;00m\n\u001B[0;32m     73\u001B[0m \u001B[38;5;124;03m    \"\"\"\u001B[39;00m\n\u001B[1;32m---> 75\u001B[0m     \u001B[38;5;28;01mreturn\u001B[39;00m request(\u001B[38;5;124m'\u001B[39m\u001B[38;5;124mget\u001B[39m\u001B[38;5;124m'\u001B[39m, url, params\u001B[38;5;241m=\u001B[39mparams, \u001B[38;5;241m*\u001B[39m\u001B[38;5;241m*\u001B[39mkwargs)\n",
      "File \u001B[1;32m~\\anaconda3\\lib\\site-packages\\requests\\api.py:61\u001B[0m, in \u001B[0;36mrequest\u001B[1;34m(method, url, **kwargs)\u001B[0m\n\u001B[0;32m     57\u001B[0m \u001B[38;5;66;03m# By using the 'with' statement we are sure the session is closed, thus we\u001B[39;00m\n\u001B[0;32m     58\u001B[0m \u001B[38;5;66;03m# avoid leaving sockets open which can trigger a ResourceWarning in some\u001B[39;00m\n\u001B[0;32m     59\u001B[0m \u001B[38;5;66;03m# cases, and look like a memory leak in others.\u001B[39;00m\n\u001B[0;32m     60\u001B[0m \u001B[38;5;28;01mwith\u001B[39;00m sessions\u001B[38;5;241m.\u001B[39mSession() \u001B[38;5;28;01mas\u001B[39;00m session:\n\u001B[1;32m---> 61\u001B[0m     \u001B[38;5;28;01mreturn\u001B[39;00m session\u001B[38;5;241m.\u001B[39mrequest(method\u001B[38;5;241m=\u001B[39mmethod, url\u001B[38;5;241m=\u001B[39murl, \u001B[38;5;241m*\u001B[39m\u001B[38;5;241m*\u001B[39mkwargs)\n",
      "File \u001B[1;32m~\\anaconda3\\lib\\site-packages\\requests\\sessions.py:529\u001B[0m, in \u001B[0;36mSession.request\u001B[1;34m(self, method, url, params, data, headers, cookies, files, auth, timeout, allow_redirects, proxies, hooks, stream, verify, cert, json)\u001B[0m\n\u001B[0;32m    524\u001B[0m send_kwargs \u001B[38;5;241m=\u001B[39m {\n\u001B[0;32m    525\u001B[0m     \u001B[38;5;124m'\u001B[39m\u001B[38;5;124mtimeout\u001B[39m\u001B[38;5;124m'\u001B[39m: timeout,\n\u001B[0;32m    526\u001B[0m     \u001B[38;5;124m'\u001B[39m\u001B[38;5;124mallow_redirects\u001B[39m\u001B[38;5;124m'\u001B[39m: allow_redirects,\n\u001B[0;32m    527\u001B[0m }\n\u001B[0;32m    528\u001B[0m send_kwargs\u001B[38;5;241m.\u001B[39mupdate(settings)\n\u001B[1;32m--> 529\u001B[0m resp \u001B[38;5;241m=\u001B[39m \u001B[38;5;28mself\u001B[39m\u001B[38;5;241m.\u001B[39msend(prep, \u001B[38;5;241m*\u001B[39m\u001B[38;5;241m*\u001B[39msend_kwargs)\n\u001B[0;32m    531\u001B[0m \u001B[38;5;28;01mreturn\u001B[39;00m resp\n",
      "File \u001B[1;32m~\\anaconda3\\lib\\site-packages\\requests\\sessions.py:645\u001B[0m, in \u001B[0;36mSession.send\u001B[1;34m(self, request, **kwargs)\u001B[0m\n\u001B[0;32m    642\u001B[0m start \u001B[38;5;241m=\u001B[39m preferred_clock()\n\u001B[0;32m    644\u001B[0m \u001B[38;5;66;03m# Send the request\u001B[39;00m\n\u001B[1;32m--> 645\u001B[0m r \u001B[38;5;241m=\u001B[39m adapter\u001B[38;5;241m.\u001B[39msend(request, \u001B[38;5;241m*\u001B[39m\u001B[38;5;241m*\u001B[39mkwargs)\n\u001B[0;32m    647\u001B[0m \u001B[38;5;66;03m# Total elapsed time of the request (approximately)\u001B[39;00m\n\u001B[0;32m    648\u001B[0m elapsed \u001B[38;5;241m=\u001B[39m preferred_clock() \u001B[38;5;241m-\u001B[39m start\n",
      "File \u001B[1;32m~\\anaconda3\\lib\\site-packages\\requests\\adapters.py:519\u001B[0m, in \u001B[0;36mHTTPAdapter.send\u001B[1;34m(self, request, stream, timeout, verify, cert, proxies)\u001B[0m\n\u001B[0;32m    515\u001B[0m     \u001B[38;5;28;01mif\u001B[39;00m \u001B[38;5;28misinstance\u001B[39m(e\u001B[38;5;241m.\u001B[39mreason, _SSLError):\n\u001B[0;32m    516\u001B[0m         \u001B[38;5;66;03m# This branch is for urllib3 v1.22 and later.\u001B[39;00m\n\u001B[0;32m    517\u001B[0m         \u001B[38;5;28;01mraise\u001B[39;00m SSLError(e, request\u001B[38;5;241m=\u001B[39mrequest)\n\u001B[1;32m--> 519\u001B[0m     \u001B[38;5;28;01mraise\u001B[39;00m \u001B[38;5;167;01mConnectionError\u001B[39;00m(e, request\u001B[38;5;241m=\u001B[39mrequest)\n\u001B[0;32m    521\u001B[0m \u001B[38;5;28;01mexcept\u001B[39;00m ClosedPoolError \u001B[38;5;28;01mas\u001B[39;00m e:\n\u001B[0;32m    522\u001B[0m     \u001B[38;5;28;01mraise\u001B[39;00m \u001B[38;5;167;01mConnectionError\u001B[39;00m(e, request\u001B[38;5;241m=\u001B[39mrequest)\n",
      "\u001B[1;31mConnectionError\u001B[0m: HTTPSConnectionPool(host='itd.rada.gov.ua', port=443): Max retries exceeded with url: /billInfo/Bills/pubFile/46993 (Caused by NewConnectionError('<urllib3.connection.HTTPSConnection object at 0x000001A85443CE20>: Failed to establish a new connection: [WinError 10060] A connection attempt failed because the connected party did not properly respond after a period of time, or established connection failed because connected host has failed to respond'))"
     ]
    }
   ],
   "source": [
    "# якщо не pdf to docx\n",
    "\n",
    "#urls =  'https://itd.rada.gov.ua/billInfo/Bills/pubFile/140892',\n",
    "\n",
    "for url in urls:\n",
    "    r = requests.get(url, allow_redirects=True)\n",
    "    filename = url.split('/')[-1]\n",
    "    file_type = magic.from_buffer(r.content, mime=True)\n",
    "    if file_type == 'application/pdf':\n",
    "        extension = 'pdf'\n",
    "    else:\n",
    "        extension = 'docx'\n",
    "    with open(f\"data/docs/first/{filename}.{extension}\", 'wb') as f:\n",
    "        f.write(r.content)"
   ],
   "metadata": {
    "collapsed": false
   }
  },
  {
   "cell_type": "code",
   "execution_count": 211,
   "outputs": [
    {
     "data": {
      "text/plain": "                                                      0     1     2     3  \\\n0                                                  None  None  None  None   \n1     {'id': 1166620, 'kindId': 63, 'kind': 'Проект ...  None  None  None   \n2     {'id': 1166436, 'kindId': 63, 'kind': 'Проект ...  None  None  None   \n3     {'id': 1165700, 'kindId': 63, 'kind': 'Проект ...  None  None  None   \n4     {'id': 1165511, 'kindId': 63, 'kind': 'Проект ...  None  None  None   \n...                                                 ...   ...   ...   ...   \n8672  {'id': 13994, 'kindId': 63, 'kind': 'Проект За...  None  None  None   \n8673  {'id': 13990, 'kindId': 63, 'kind': 'Проект За...  None  None  None   \n8674  {'id': 13961, 'kindId': 63, 'kind': 'Проект За...  None  None  None   \n8675  {'id': 13946, 'kindId': 63, 'kind': 'Проект За...  None  None  None   \n8676  {'id': 13800, 'kindId': 63, 'kind': 'Проект За...  None  None  None   \n\n         4  \n0     None  \n1     None  \n2     None  \n3     None  \n4     None  \n...    ...  \n8672  None  \n8673  None  \n8674  None  \n8675  None  \n8676  None  \n\n[8677 rows x 5 columns]",
      "text/html": "<div>\n<style scoped>\n    .dataframe tbody tr th:only-of-type {\n        vertical-align: middle;\n    }\n\n    .dataframe tbody tr th {\n        vertical-align: top;\n    }\n\n    .dataframe thead th {\n        text-align: right;\n    }\n</style>\n<table border=\"1\" class=\"dataframe\">\n  <thead>\n    <tr style=\"text-align: right;\">\n      <th></th>\n      <th>0</th>\n      <th>1</th>\n      <th>2</th>\n      <th>3</th>\n      <th>4</th>\n    </tr>\n  </thead>\n  <tbody>\n    <tr>\n      <th>0</th>\n      <td>None</td>\n      <td>None</td>\n      <td>None</td>\n      <td>None</td>\n      <td>None</td>\n    </tr>\n    <tr>\n      <th>1</th>\n      <td>{'id': 1166620, 'kindId': 63, 'kind': 'Проект ...</td>\n      <td>None</td>\n      <td>None</td>\n      <td>None</td>\n      <td>None</td>\n    </tr>\n    <tr>\n      <th>2</th>\n      <td>{'id': 1166436, 'kindId': 63, 'kind': 'Проект ...</td>\n      <td>None</td>\n      <td>None</td>\n      <td>None</td>\n      <td>None</td>\n    </tr>\n    <tr>\n      <th>3</th>\n      <td>{'id': 1165700, 'kindId': 63, 'kind': 'Проект ...</td>\n      <td>None</td>\n      <td>None</td>\n      <td>None</td>\n      <td>None</td>\n    </tr>\n    <tr>\n      <th>4</th>\n      <td>{'id': 1165511, 'kindId': 63, 'kind': 'Проект ...</td>\n      <td>None</td>\n      <td>None</td>\n      <td>None</td>\n      <td>None</td>\n    </tr>\n    <tr>\n      <th>...</th>\n      <td>...</td>\n      <td>...</td>\n      <td>...</td>\n      <td>...</td>\n      <td>...</td>\n    </tr>\n    <tr>\n      <th>8672</th>\n      <td>{'id': 13994, 'kindId': 63, 'kind': 'Проект За...</td>\n      <td>None</td>\n      <td>None</td>\n      <td>None</td>\n      <td>None</td>\n    </tr>\n    <tr>\n      <th>8673</th>\n      <td>{'id': 13990, 'kindId': 63, 'kind': 'Проект За...</td>\n      <td>None</td>\n      <td>None</td>\n      <td>None</td>\n      <td>None</td>\n    </tr>\n    <tr>\n      <th>8674</th>\n      <td>{'id': 13961, 'kindId': 63, 'kind': 'Проект За...</td>\n      <td>None</td>\n      <td>None</td>\n      <td>None</td>\n      <td>None</td>\n    </tr>\n    <tr>\n      <th>8675</th>\n      <td>{'id': 13946, 'kindId': 63, 'kind': 'Проект За...</td>\n      <td>None</td>\n      <td>None</td>\n      <td>None</td>\n      <td>None</td>\n    </tr>\n    <tr>\n      <th>8676</th>\n      <td>{'id': 13800, 'kindId': 63, 'kind': 'Проект За...</td>\n      <td>None</td>\n      <td>None</td>\n      <td>None</td>\n      <td>None</td>\n    </tr>\n  </tbody>\n</table>\n<p>8677 rows × 5 columns</p>\n</div>"
     },
     "execution_count": 211,
     "metadata": {},
     "output_type": "execute_result"
    }
   ],
   "source": [
    "docs = pd.json_normalize(data['documents'])\n",
    "dat = docs['source']\n",
    "dat = pd.json_normalize(dat)\n",
    "dat\n",
    "\n"
   ],
   "metadata": {
    "collapsed": false
   }
  },
  {
   "cell_type": "code",
   "execution_count": 261,
   "outputs": [],
   "source": [
    "\"\"\"зміна id в documents на docid\"\"\"\n",
    "\n",
    "for obj in data['documents']:\n",
    "    for key in list(obj.keys()):\n",
    "        for k in obj[key]:\n",
    "            for a in list(k.keys()):\n",
    "                if a == 'id':\n",
    "                    k['docid'] = k.pop(a)\n",
    "\n"
   ],
   "metadata": {
    "collapsed": false
   }
  },
  {
   "cell_type": "code",
   "execution_count": 248,
   "outputs": [
    {
     "data": {
      "text/plain": "0                          {'source': [], 'workflow': []}\n1       {'source': [{'kindId': 63, 'kind': 'Проект Зак...\n2       {'source': [{'kindId': 63, 'kind': 'Проект Зак...\n3       {'source': [{'kindId': 63, 'kind': 'Проект Зак...\n4       {'source': [{'kindId': 63, 'kind': 'Проект Зак...\n                              ...                        \n8672    {'source': [{'kindId': 63, 'kind': 'Проект Зак...\n8673    {'source': [{'kindId': 63, 'kind': 'Проект Зак...\n8674    {'source': [{'kindId': 63, 'kind': 'Проект Зак...\n8675    {'source': [{'kindId': 63, 'kind': 'Проект Зак...\n8676    {'source': [{'kindId': 63, 'kind': 'Проект Зак...\nName: documents, Length: 8677, dtype: object"
     },
     "execution_count": 248,
     "metadata": {},
     "output_type": "execute_result"
    }
   ],
   "source": [
    "data['documents']"
   ],
   "metadata": {
    "collapsed": false
   }
  },
  {
   "cell_type": "code",
   "execution_count": 33,
   "outputs": [
    {
     "data": {
      "text/plain": "      id       type                                               name  \\\n0  41797  Звичайний  Проект Закону про внесення змін до деяких зако...   \n\n                                                 url registrationNumber  \\\n0  https://itd.rada.gov.ua/billInfo/Bills/Card/41797               9219   \n\n      registrationDate registrationSession registrationConvocation redaction  \\\n0  2023-04-18T00:00:00             9 сесія            IX скликання  Основний   \n\n               rubric  ... mainExecutives executives  \\\n0  Галузевий розвиток  ...             []         []   \n\n                        documents  \\\n0  {'source': [], 'workflow': []}   \n\n                                        currentPhase  \\\n0  {'date': None, 'title': None, 'status': 'Одерж...   \n\n                                            passings agenda bind alternative  \\\n0  [{'date': '2023-04-18T17:50:27.597', 'title': ...     []   []          []   \n\n  isUrgent isEuro  \n0    False    0.0  \n\n[1 rows x 24 columns]",
      "text/html": "<div>\n<style scoped>\n    .dataframe tbody tr th:only-of-type {\n        vertical-align: middle;\n    }\n\n    .dataframe tbody tr th {\n        vertical-align: top;\n    }\n\n    .dataframe thead th {\n        text-align: right;\n    }\n</style>\n<table border=\"1\" class=\"dataframe\">\n  <thead>\n    <tr style=\"text-align: right;\">\n      <th></th>\n      <th>id</th>\n      <th>type</th>\n      <th>name</th>\n      <th>url</th>\n      <th>registrationNumber</th>\n      <th>registrationDate</th>\n      <th>registrationSession</th>\n      <th>registrationConvocation</th>\n      <th>redaction</th>\n      <th>rubric</th>\n      <th>...</th>\n      <th>mainExecutives</th>\n      <th>executives</th>\n      <th>documents</th>\n      <th>currentPhase</th>\n      <th>passings</th>\n      <th>agenda</th>\n      <th>bind</th>\n      <th>alternative</th>\n      <th>isUrgent</th>\n      <th>isEuro</th>\n    </tr>\n  </thead>\n  <tbody>\n    <tr>\n      <th>0</th>\n      <td>41797</td>\n      <td>Звичайний</td>\n      <td>Проект Закону про внесення змін до деяких зако...</td>\n      <td>https://itd.rada.gov.ua/billInfo/Bills/Card/41797</td>\n      <td>9219</td>\n      <td>2023-04-18T00:00:00</td>\n      <td>9 сесія</td>\n      <td>IX скликання</td>\n      <td>Основний</td>\n      <td>Галузевий розвиток</td>\n      <td>...</td>\n      <td>[]</td>\n      <td>[]</td>\n      <td>{'source': [], 'workflow': []}</td>\n      <td>{'date': None, 'title': None, 'status': 'Одерж...</td>\n      <td>[{'date': '2023-04-18T17:50:27.597', 'title': ...</td>\n      <td>[]</td>\n      <td>[]</td>\n      <td>[]</td>\n      <td>False</td>\n      <td>0.0</td>\n    </tr>\n  </tbody>\n</table>\n<p>1 rows × 24 columns</p>\n</div>"
     },
     "execution_count": 33,
     "metadata": {},
     "output_type": "execute_result"
    }
   ],
   "source": [
    "a1"
   ],
   "metadata": {
    "collapsed": false
   }
  },
  {
   "cell_type": "code",
   "execution_count": 43,
   "outputs": [],
   "source": [
    "docinfo = pd.read_csv('bills_documents-skl9 (1).csv')"
   ],
   "metadata": {
    "collapsed": false
   }
  },
  {
   "cell_type": "code",
   "execution_count": 44,
   "outputs": [
    {
     "data": {
      "text/plain": "       bill_id    type document_date                document_type  \\\n0        66759  source    2019-09-09                Проект Закону   \n1        66759  source    2019-09-09                      Подання   \n2        66759  source    2019-09-09         Пояснювальна записка   \n3        66759  source    2019-09-09  Текст міжнародного договору   \n4        66759  source    2019-09-09                      Додаток   \n...        ...     ...           ...                          ...   \n44084    76011  source    2023-04-26             Проект Постанови   \n44085    76013  source    2023-04-25                Проект Закону   \n44086    76014  source    2023-04-25                Проект Закону   \n44087    76015  source    2023-04-25                Проект Закону   \n44088    76016  source    2023-04-24                Проект Закону   \n\n                                            document_url  \n0      http://w1.c1.rada.gov.ua/pls/zweb2/webproc34?i...  \n1      http://w1.c1.rada.gov.ua/pls/zweb2/webproc34?i...  \n2      http://w1.c1.rada.gov.ua/pls/zweb2/webproc34?i...  \n3      http://w1.c1.rada.gov.ua/pls/zweb2/webproc34?i...  \n4      http://w1.c1.rada.gov.ua/pls/zweb2/webproc34?i...  \n...                                                  ...  \n44084                                                NaN  \n44085                                                NaN  \n44086                                                NaN  \n44087                                                NaN  \n44088                                                NaN  \n\n[44089 rows x 5 columns]",
      "text/html": "<div>\n<style scoped>\n    .dataframe tbody tr th:only-of-type {\n        vertical-align: middle;\n    }\n\n    .dataframe tbody tr th {\n        vertical-align: top;\n    }\n\n    .dataframe thead th {\n        text-align: right;\n    }\n</style>\n<table border=\"1\" class=\"dataframe\">\n  <thead>\n    <tr style=\"text-align: right;\">\n      <th></th>\n      <th>bill_id</th>\n      <th>type</th>\n      <th>document_date</th>\n      <th>document_type</th>\n      <th>document_url</th>\n    </tr>\n  </thead>\n  <tbody>\n    <tr>\n      <th>0</th>\n      <td>66759</td>\n      <td>source</td>\n      <td>2019-09-09</td>\n      <td>Проект Закону</td>\n      <td>http://w1.c1.rada.gov.ua/pls/zweb2/webproc34?i...</td>\n    </tr>\n    <tr>\n      <th>1</th>\n      <td>66759</td>\n      <td>source</td>\n      <td>2019-09-09</td>\n      <td>Подання</td>\n      <td>http://w1.c1.rada.gov.ua/pls/zweb2/webproc34?i...</td>\n    </tr>\n    <tr>\n      <th>2</th>\n      <td>66759</td>\n      <td>source</td>\n      <td>2019-09-09</td>\n      <td>Пояснювальна записка</td>\n      <td>http://w1.c1.rada.gov.ua/pls/zweb2/webproc34?i...</td>\n    </tr>\n    <tr>\n      <th>3</th>\n      <td>66759</td>\n      <td>source</td>\n      <td>2019-09-09</td>\n      <td>Текст міжнародного договору</td>\n      <td>http://w1.c1.rada.gov.ua/pls/zweb2/webproc34?i...</td>\n    </tr>\n    <tr>\n      <th>4</th>\n      <td>66759</td>\n      <td>source</td>\n      <td>2019-09-09</td>\n      <td>Додаток</td>\n      <td>http://w1.c1.rada.gov.ua/pls/zweb2/webproc34?i...</td>\n    </tr>\n    <tr>\n      <th>...</th>\n      <td>...</td>\n      <td>...</td>\n      <td>...</td>\n      <td>...</td>\n      <td>...</td>\n    </tr>\n    <tr>\n      <th>44084</th>\n      <td>76011</td>\n      <td>source</td>\n      <td>2023-04-26</td>\n      <td>Проект Постанови</td>\n      <td>NaN</td>\n    </tr>\n    <tr>\n      <th>44085</th>\n      <td>76013</td>\n      <td>source</td>\n      <td>2023-04-25</td>\n      <td>Проект Закону</td>\n      <td>NaN</td>\n    </tr>\n    <tr>\n      <th>44086</th>\n      <td>76014</td>\n      <td>source</td>\n      <td>2023-04-25</td>\n      <td>Проект Закону</td>\n      <td>NaN</td>\n    </tr>\n    <tr>\n      <th>44087</th>\n      <td>76015</td>\n      <td>source</td>\n      <td>2023-04-25</td>\n      <td>Проект Закону</td>\n      <td>NaN</td>\n    </tr>\n    <tr>\n      <th>44088</th>\n      <td>76016</td>\n      <td>source</td>\n      <td>2023-04-24</td>\n      <td>Проект Закону</td>\n      <td>NaN</td>\n    </tr>\n  </tbody>\n</table>\n<p>44089 rows × 5 columns</p>\n</div>"
     },
     "execution_count": 44,
     "metadata": {},
     "output_type": "execute_result"
    }
   ],
   "source": [
    "docinfo"
   ],
   "metadata": {
    "collapsed": false
   }
  },
  {
   "cell_type": "code",
   "execution_count": 49,
   "outputs": [
    {
     "data": {
      "text/plain": "Проект Закону                                                                 6044\nПодання                                                                       5808\nПояснювальна записка                                                          5633\nПорівняльна таблиця                                                           4667\nПроект Постанови                                                              3709\nВисновок Головного науково-експертного управління                             3031\nВисновок Комітету з питань бюджету                                            2987\nВисновок комітету                                                             2738\nВисновок Комітету з питань європейської інтеграції                            2034\nДодаток                                                                       1265\nВисновок щодо відповідності проекту вимогам антикорупційного законодавства     864\nПорівняльна таблиця до другого читання                                         860\nЗауваження Головного юридичного управління                                     750\nВисновок комітету до другого читання                                           669\nТекст законопроекту до другого читання                                         583\nВисновок комітету щодо включення до порядку денного                            474\nТекст, підписаний Головою Верховної Ради України                               298\nАвторський колектив                                                            280\nПроект Закону (доопрацьований)                                                 201\nТекст міжнародного договору                                                    149\nПорівняльна таблиця до другого читання (зміни)                                 136\nСупровідна записка                                                             123\nПроект Постанови (на заміну)                                                   102\nДовідка про погодження                                                          90\nФінансово-економічне обгрунтування                                              77\nВисновок щодо відповідності положенням Конституції України                      65\nТекст законопроекту до другого читання зі змінами                               63\nПроект Постанови (доопрацьований)                                               56\nПорівняльна таблиця до повторного другого читання                               55\nПропозиції Президента України до Закону                                         43\nВисновок комітету до повторного другого читання                                 41\nПорівняльна таблиця (з пропозиціями Президента України)                         37\nВисновок комітету до пропозицій Президента                                      37\nТекст законопроекту до повторного другого читання                               33\nПропозиції щодо усунення неузгодженостей у прийнятому законі                    22\nТекст статей законопроекту з пропозиціями Президента                            20\nДо проекту                                                                       6\nПорівняльна таблиця (на заміну)                                                  6\nПроект                                                                           5\nПорівняльна таблиця до повторного другого читання (додаткова)                    3\nПорівняльна таблиця до першого читання                                           3\nПроект (доопрацьований)                                                          3\nПодання комітету                                                                 3\nПропозиції                                                                       3\nПрограма                                                                         2\nТекст доопрацьованого Закону                                                     2\nЛист                                                                             2\nПропозиції Президента України до                                                 1\nЛист від Президента                                                              1\nПорівняльна таблиця до Закону України                                            1\nТекст законопроекту (доопрацьований)                                             1\nПроект Закону (на заміну)                                                        1\nПорівняльна таблиця (доопрацьована)                                              1\nПорівняльна таблиця (вето Президента України)                                    1\nName: document_type, dtype: int64"
     },
     "execution_count": 49,
     "metadata": {},
     "output_type": "execute_result"
    }
   ],
   "source": [
    "types = docinfo['document_type'].value_counts()\n",
    "types"
   ],
   "metadata": {
    "collapsed": false
   }
  },
  {
   "cell_type": "code",
   "execution_count": null,
   "outputs": [],
   "source": [],
   "metadata": {
    "collapsed": false
   }
  },
  {
   "cell_type": "code",
   "execution_count": 4,
   "outputs": [],
   "source": [
    "import requests\n",
    "import json"
   ],
   "metadata": {
    "collapsed": false
   }
  },
  {
   "cell_type": "code",
   "execution_count": 115,
   "outputs": [
    {
     "name": "stdout",
     "output_type": "stream",
     "text": [
      "Token: 638453fb-d813-4115-8db5-9fe05dbd4176\n"
     ]
    }
   ],
   "source": [
    "ip_address = \"91.123.150.107\"\n",
    "response = requests.get(\"https://data.rada.gov.ua/api/token?ip=\" + ip_address)\n",
    "\n",
    "if response.status_code == 200:\n",
    "    token = response.json()[\"token\"]\n",
    "    print(\"Token:\", token)\n",
    "    frame = pd.concat([frame, temp_df])\n",
    "\n",
    "else:\n",
    "    print(\"Error:\", response.status_code)\n"
   ],
   "metadata": {
    "collapsed": false
   }
  },
  {
   "cell_type": "code",
   "execution_count": 116,
   "outputs": [
    {
     "name": "stdout",
     "output_type": "stream",
     "text": [
      "ПОСТАНОВА\r\n",
      "Верховної Ради України\r\n",
      "Про прийняття за основу проекту Закону України про внесення змін до підрозділу 8 розділу XX Податкового кодексу України щодо заборони перебування грального бізнесу на спрощеній системі оподаткування\r\n",
      "Верховна Рада України постановляє:\r\n",
      "1. Прийняти за основу проект Закону України про внесення змін до підрозділу 8 розділу XX Податкового кодексу України щодо заборони перебування грального бізнесу на спрощеній системі оподаткування (реєстр. № 8079), поданий народним депутатом України Железняком Я.І. та іншими народними депутатами України.\r\n",
      "2. Комітету Верховної Ради України з питань фінансів, податкової та митної політики доопрацювати зазначений законопроект з урахуванням поправок і пропозицій суб'єктів права законодавчої ініціативи, скоротивши строк подання таких поправок і пропозицій наполовину, та внести його на розгляд Верховної Ради України у другому читанні.\r\n",
      "Голова Верховної Ради України\r\n",
      "Р. СТЕФАНЧУК\r\n",
      "м. Київ\r\n",
      "16 листопада 2022 року\r\n",
      "№ 2772-IX\r\n",
      "\n"
     ]
    }
   ],
   "source": [
    "url = \"https://data.rada.gov.ua/laws/show/2772-20.txt\"\n",
    "headers = {\"User-Agent\": token}\n",
    "\n",
    "response = requests.get(url, headers=headers)\n",
    "\n",
    "if response.status_code == 200:\n",
    "    api = response.text\n",
    "    temp_df = pd.DataFrame({'act_number': [id], 'text': [api]})\n",
    "\n",
    "    frame = pd.concat([frame, temp_df])\n",
    "\n",
    "    print(api)\n",
    "else:\n",
    "    print(\"Error:\", response.status_code)"
   ],
   "metadata": {
    "collapsed": false
   }
  },
  {
   "cell_type": "code",
   "execution_count": 59,
   "outputs": [],
   "source": [
    "zacon = pd.read_csv('data/bills_acts-skl9.csv')\n"
   ],
   "metadata": {
    "collapsed": false
   }
  },
  {
   "cell_type": "code",
   "execution_count": 60,
   "outputs": [],
   "source": [
    "zacon['act_number']= zacon['act_number'].apply(lambda x: x[:-2] + '20')\n",
    "\n"
   ],
   "metadata": {
    "collapsed": false
   }
  },
  {
   "cell_type": "code",
   "execution_count": 61,
   "outputs": [],
   "source": [
    "zacon = zacon.drop(['act_date','act_url'], axis = 1)\n"
   ],
   "metadata": {
    "collapsed": false
   }
  },
  {
   "cell_type": "code",
   "execution_count": 288,
   "outputs": [
    {
     "data": {
      "text/plain": "      bill_id act_number text\n0       66759     229-20  NaN\n1       66774     242-20  NaN\n2       66775     243-20  NaN\n3       66776     105-20  NaN\n4       66778     106-20  NaN\n...       ...        ...  ...\n2932    75948    3042-20  NaN\n2933    75940    3034-20  NaN\n2934    75890    3045-20  NaN\n2935    75930    3013-20  NaN\n2936    75946    3055-20  NaN\n\n[2937 rows x 3 columns]",
      "text/html": "<div>\n<style scoped>\n    .dataframe tbody tr th:only-of-type {\n        vertical-align: middle;\n    }\n\n    .dataframe tbody tr th {\n        vertical-align: top;\n    }\n\n    .dataframe thead th {\n        text-align: right;\n    }\n</style>\n<table border=\"1\" class=\"dataframe\">\n  <thead>\n    <tr style=\"text-align: right;\">\n      <th></th>\n      <th>bill_id</th>\n      <th>act_number</th>\n      <th>text</th>\n    </tr>\n  </thead>\n  <tbody>\n    <tr>\n      <th>0</th>\n      <td>66759</td>\n      <td>229-20</td>\n      <td>NaN</td>\n    </tr>\n    <tr>\n      <th>1</th>\n      <td>66774</td>\n      <td>242-20</td>\n      <td>NaN</td>\n    </tr>\n    <tr>\n      <th>2</th>\n      <td>66775</td>\n      <td>243-20</td>\n      <td>NaN</td>\n    </tr>\n    <tr>\n      <th>3</th>\n      <td>66776</td>\n      <td>105-20</td>\n      <td>NaN</td>\n    </tr>\n    <tr>\n      <th>4</th>\n      <td>66778</td>\n      <td>106-20</td>\n      <td>NaN</td>\n    </tr>\n    <tr>\n      <th>...</th>\n      <td>...</td>\n      <td>...</td>\n      <td>...</td>\n    </tr>\n    <tr>\n      <th>2932</th>\n      <td>75948</td>\n      <td>3042-20</td>\n      <td>NaN</td>\n    </tr>\n    <tr>\n      <th>2933</th>\n      <td>75940</td>\n      <td>3034-20</td>\n      <td>NaN</td>\n    </tr>\n    <tr>\n      <th>2934</th>\n      <td>75890</td>\n      <td>3045-20</td>\n      <td>NaN</td>\n    </tr>\n    <tr>\n      <th>2935</th>\n      <td>75930</td>\n      <td>3013-20</td>\n      <td>NaN</td>\n    </tr>\n    <tr>\n      <th>2936</th>\n      <td>75946</td>\n      <td>3055-20</td>\n      <td>NaN</td>\n    </tr>\n  </tbody>\n</table>\n<p>2937 rows × 3 columns</p>\n</div>"
     },
     "execution_count": 288,
     "metadata": {},
     "output_type": "execute_result"
    }
   ],
   "source": [
    "\n",
    "merged_df = pd.merge(merged_df, temp, on='act_number', how='left')\n",
    "\n",
    "merged_df"
   ],
   "metadata": {
    "collapsed": false
   }
  },
  {
   "cell_type": "code",
   "execution_count": 293,
   "outputs": [],
   "source": [
    "\n",
    "\n",
    "# Список номерів актів для запитів API\n",
    "\n",
    "# Ініціалізуємо DataFrame\n",
    "frame = pd.DataFrame(columns=['act_number', 'text'])\n"
   ],
   "metadata": {
    "collapsed": false
   }
  },
  {
   "cell_type": "code",
   "execution_count": 150,
   "outputs": [],
   "source": [
    "frame.to_csv('data/text_full.csv')\n"
   ],
   "metadata": {
    "collapsed": false
   }
  },
  {
   "cell_type": "code",
   "execution_count": 143,
   "outputs": [],
   "source": [
    "\n",
    "ids = zacon['act_number'][55:69]\n",
    "frame = frame.drop(frame.index[55:69])"
   ],
   "metadata": {
    "collapsed": false
   }
  },
  {
   "cell_type": "code",
   "execution_count": 66,
   "outputs": [
    {
     "data": {
      "text/plain": "Int64Index([2874], dtype='int64')"
     },
     "execution_count": 66,
     "metadata": {},
     "output_type": "execute_result"
    }
   ],
   "source": [
    "zacon.index[zacon['act_number']==\"3006-20\"]\n"
   ],
   "metadata": {
    "collapsed": false
   }
  },
  {
   "cell_type": "code",
   "execution_count": 138,
   "outputs": [
    {
     "name": "stdout",
     "output_type": "stream",
     "text": [
      "Act 1607-20 processed successfully.\n",
      "Act 1608-20 processed successfully.\n",
      "Act 1609-20 processed successfully.\n",
      "Act 1908-20 processed successfully.\n",
      "Act 1829-20 processed successfully.\n",
      "Act 1830-20 processed successfully.\n",
      "Act 2064-20 processed successfully.\n",
      "Act 1926-20 processed successfully.\n",
      "Act 1867-20 processed successfully.\n",
      "Act 2339-20 processed successfully.\n",
      "Act 1925-20 processed successfully.\n",
      "Act 2340-20 processed successfully.\n",
      "Act 2341-20 processed successfully.\n",
      "Act 2342-20 processed successfully.\n",
      "All done!\n"
     ]
    }
   ],
   "source": [
    "\n",
    "import requests\n",
    "import pandas as pd\n",
    "import time\n",
    "\n",
    "\n",
    "\n",
    "# Затримка між запитами API (в секундах)\n",
    "delay = 30\n",
    "\n",
    "# Робимо запити API\n",
    "for id in number:\n",
    "    # Робимо запит API\n",
    "    headers = {\"User-Agent\": \"my_token\"}\n",
    "    response = requests.get(f\"https://data.rada.gov.ua/laws/show/{id}.txt\", headers=headers)\n",
    "\n",
    "    # Перевіряємо статус запиту\n",
    "    if response.status_code == 200:\n",
    "        result = response.text\n",
    "\n",
    "        temp_df = pd.DataFrame({'act_number': [id], 'text': [result]})\n",
    "\n",
    "            # Додаємо цей DataFrame до основного DataFrame\n",
    "        frame = pd.concat([frame, temp_df])\n",
    "\n",
    "            # Виводимо повідомлення про успішно оброблений запит\n",
    "        print(f\"Act {id} processed successfully.\")\n",
    "\n",
    "            # Затримуємо програму на delay секунд\n",
    "        time.sleep(delay)\n",
    "\n",
    "    else:\n",
    "        # Виводимо повідомлення про помилку в запиті\n",
    "        print(f\"Act {id} returned {response.status_code} status code. Skipping...\")\n",
    "\n",
    "print(\"All done!\")\n"
   ],
   "metadata": {
    "collapsed": false
   }
  },
  {
   "cell_type": "code",
   "execution_count": 146,
   "outputs": [
    {
     "data": {
      "text/plain": "   act_number                                               text\n0      860-20  ЗАКОН УКРАЇНИ\\r\\nПро ратифікацію Договору між ...\n1      861-20  ЗАКОН УКРАЇНИ\\r\\nПро ратифікацію Договору між ...\n2      880-20  ЗАКОН УКРАЇНИ\\r\\nПро ратифікацію Протоколу, що...\n3     1035-20  ЗАКОН УКРАЇНИ\\r\\nПро ратифікацію Гарантійної у...\n4     1036-20  ЗАКОН УКРАЇНИ\\r\\nПро приєднання до Угоди про р...\n..        ...                                                ...\n0     2339-20  ЗАКОН УКРАЇНИ\\r\\nПро ратифікацію Протоколу про...\n0     1925-20  ЗАКОН УКРАЇНИ\\r\\nПро ратифікацію Протоколу до ...\n0     2340-20  ЗАКОН УКРАЇНИ\\r\\nПро ратифікацію Європейської ...\n0     2341-20  ЗАКОН УКРАЇНИ\\r\\nПро ратифікацію Угоди між Каб...\n0     2342-20  ЗАКОН УКРАЇНИ\\r\\nПро ратифікацію Конвенції про...\n\n[2937 rows x 2 columns]",
      "text/html": "<div>\n<style scoped>\n    .dataframe tbody tr th:only-of-type {\n        vertical-align: middle;\n    }\n\n    .dataframe tbody tr th {\n        vertical-align: top;\n    }\n\n    .dataframe thead th {\n        text-align: right;\n    }\n</style>\n<table border=\"1\" class=\"dataframe\">\n  <thead>\n    <tr style=\"text-align: right;\">\n      <th></th>\n      <th>act_number</th>\n      <th>text</th>\n    </tr>\n  </thead>\n  <tbody>\n    <tr>\n      <th>0</th>\n      <td>860-20</td>\n      <td>ЗАКОН УКРАЇНИ\\r\\nПро ратифікацію Договору між ...</td>\n    </tr>\n    <tr>\n      <th>1</th>\n      <td>861-20</td>\n      <td>ЗАКОН УКРАЇНИ\\r\\nПро ратифікацію Договору між ...</td>\n    </tr>\n    <tr>\n      <th>2</th>\n      <td>880-20</td>\n      <td>ЗАКОН УКРАЇНИ\\r\\nПро ратифікацію Протоколу, що...</td>\n    </tr>\n    <tr>\n      <th>3</th>\n      <td>1035-20</td>\n      <td>ЗАКОН УКРАЇНИ\\r\\nПро ратифікацію Гарантійної у...</td>\n    </tr>\n    <tr>\n      <th>4</th>\n      <td>1036-20</td>\n      <td>ЗАКОН УКРАЇНИ\\r\\nПро приєднання до Угоди про р...</td>\n    </tr>\n    <tr>\n      <th>...</th>\n      <td>...</td>\n      <td>...</td>\n    </tr>\n    <tr>\n      <th>0</th>\n      <td>2339-20</td>\n      <td>ЗАКОН УКРАЇНИ\\r\\nПро ратифікацію Протоколу про...</td>\n    </tr>\n    <tr>\n      <th>0</th>\n      <td>1925-20</td>\n      <td>ЗАКОН УКРАЇНИ\\r\\nПро ратифікацію Протоколу до ...</td>\n    </tr>\n    <tr>\n      <th>0</th>\n      <td>2340-20</td>\n      <td>ЗАКОН УКРАЇНИ\\r\\nПро ратифікацію Європейської ...</td>\n    </tr>\n    <tr>\n      <th>0</th>\n      <td>2341-20</td>\n      <td>ЗАКОН УКРАЇНИ\\r\\nПро ратифікацію Угоди між Каб...</td>\n    </tr>\n    <tr>\n      <th>0</th>\n      <td>2342-20</td>\n      <td>ЗАКОН УКРАЇНИ\\r\\nПро ратифікацію Конвенції про...</td>\n    </tr>\n  </tbody>\n</table>\n<p>2937 rows × 2 columns</p>\n</div>"
     },
     "execution_count": 146,
     "metadata": {},
     "output_type": "execute_result"
    }
   ],
   "source": [
    "frame\n"
   ],
   "metadata": {
    "collapsed": false
   }
  },
  {
   "cell_type": "code",
   "execution_count": 93,
   "outputs": [],
   "source": [
    "frame = pd.read_csv('data/text_full.csv')\n"
   ],
   "metadata": {
    "collapsed": false
   }
  },
  {
   "cell_type": "code",
   "execution_count": 145,
   "outputs": [],
   "source": [
    "frame = frame.drop_duplicates()\n"
   ],
   "metadata": {
    "collapsed": false
   }
  },
  {
   "cell_type": "code",
   "execution_count": 140,
   "outputs": [],
   "source": [
    "#frame = frame.filter(regex='^(?!Unnamed)')\n",
    "number = frame.iloc[55:69]\n",
    "number= number['act_number']"
   ],
   "metadata": {
    "collapsed": false
   }
  },
  {
   "cell_type": "code",
   "execution_count": 147,
   "outputs": [
    {
     "data": {
      "text/plain": "      bill_id act_number                                               text\n0       66759     229-20  ЗАКОН УКРАЇНИ\\r\\nПро ратифікацію Угоди між Уря...\n1       66774     242-20  ЗАКОН УКРАЇНИ\\r\\nПро ратифікацію Угоди між Уря...\n2       66775     243-20  ЗАКОН УКРАЇНИ\\r\\nПро ратифікацію Протоколу про...\n3       66776     105-20  ЗАКОН УКРАЇНИ\\r\\nПро ратифікацію Протоколу між...\n4       66778     106-20  ЗАКОН УКРАЇНИ\\r\\nПро ратифікацію Протоколу між...\n...       ...        ...                                                ...\n2932    75948    3042-20  ПОСТАНОВА\\r\\nВерховної Ради України\\r\\nПро при...\n2933    75940    3034-20  ПОСТАНОВА\\r\\nВерховної Ради України\\r\\nПро при...\n2934    75890    3045-20  ПОСТАНОВА\\r\\nВерховної Ради України\\r\\nПро зді...\n2935    75930    3013-20  ПОСТАНОВА\\r\\nВерховної Ради України\\r\\nПро Зве...\n2936    75946    3055-20  ПОСТАНОВА\\r\\nВерховної Ради України\\r\\nПро нап...\n\n[2937 rows x 3 columns]",
      "text/html": "<div>\n<style scoped>\n    .dataframe tbody tr th:only-of-type {\n        vertical-align: middle;\n    }\n\n    .dataframe tbody tr th {\n        vertical-align: top;\n    }\n\n    .dataframe thead th {\n        text-align: right;\n    }\n</style>\n<table border=\"1\" class=\"dataframe\">\n  <thead>\n    <tr style=\"text-align: right;\">\n      <th></th>\n      <th>bill_id</th>\n      <th>act_number</th>\n      <th>text</th>\n    </tr>\n  </thead>\n  <tbody>\n    <tr>\n      <th>0</th>\n      <td>66759</td>\n      <td>229-20</td>\n      <td>ЗАКОН УКРАЇНИ\\r\\nПро ратифікацію Угоди між Уря...</td>\n    </tr>\n    <tr>\n      <th>1</th>\n      <td>66774</td>\n      <td>242-20</td>\n      <td>ЗАКОН УКРАЇНИ\\r\\nПро ратифікацію Угоди між Уря...</td>\n    </tr>\n    <tr>\n      <th>2</th>\n      <td>66775</td>\n      <td>243-20</td>\n      <td>ЗАКОН УКРАЇНИ\\r\\nПро ратифікацію Протоколу про...</td>\n    </tr>\n    <tr>\n      <th>3</th>\n      <td>66776</td>\n      <td>105-20</td>\n      <td>ЗАКОН УКРАЇНИ\\r\\nПро ратифікацію Протоколу між...</td>\n    </tr>\n    <tr>\n      <th>4</th>\n      <td>66778</td>\n      <td>106-20</td>\n      <td>ЗАКОН УКРАЇНИ\\r\\nПро ратифікацію Протоколу між...</td>\n    </tr>\n    <tr>\n      <th>...</th>\n      <td>...</td>\n      <td>...</td>\n      <td>...</td>\n    </tr>\n    <tr>\n      <th>2932</th>\n      <td>75948</td>\n      <td>3042-20</td>\n      <td>ПОСТАНОВА\\r\\nВерховної Ради України\\r\\nПро при...</td>\n    </tr>\n    <tr>\n      <th>2933</th>\n      <td>75940</td>\n      <td>3034-20</td>\n      <td>ПОСТАНОВА\\r\\nВерховної Ради України\\r\\nПро при...</td>\n    </tr>\n    <tr>\n      <th>2934</th>\n      <td>75890</td>\n      <td>3045-20</td>\n      <td>ПОСТАНОВА\\r\\nВерховної Ради України\\r\\nПро зді...</td>\n    </tr>\n    <tr>\n      <th>2935</th>\n      <td>75930</td>\n      <td>3013-20</td>\n      <td>ПОСТАНОВА\\r\\nВерховної Ради України\\r\\nПро Зве...</td>\n    </tr>\n    <tr>\n      <th>2936</th>\n      <td>75946</td>\n      <td>3055-20</td>\n      <td>ПОСТАНОВА\\r\\nВерховної Ради України\\r\\nПро нап...</td>\n    </tr>\n  </tbody>\n</table>\n<p>2937 rows × 3 columns</p>\n</div>"
     },
     "execution_count": 147,
     "metadata": {},
     "output_type": "execute_result"
    }
   ],
   "source": [
    "merged_df = pd.merge(zacon, frame, on='act_number', how='left')\n",
    "merged_df"
   ],
   "metadata": {
    "collapsed": false
   }
  },
  {
   "cell_type": "code",
   "execution_count": 148,
   "outputs": [
    {
     "name": "stdout",
     "output_type": "stream",
     "text": [
      "Empty DataFrame\n",
      "Columns: [bill_id, act_number, text]\n",
      "Index: []\n"
     ]
    }
   ],
   "source": [
    "df_filtered = merged_df[~merged_df['text'].str.match('^[А-Яа-я]')]\n",
    "df_empty =merged_df[merged_df['text'].str.startswith('\\n')]\n",
    "# print the filtered DataFrame\n",
    "print(df_filtered)"
   ],
   "metadata": {
    "collapsed": false
   }
  },
  {
   "cell_type": "code",
   "execution_count": 149,
   "outputs": [
    {
     "data": {
      "text/plain": "Empty DataFrame\nColumns: [bill_id, act_number, text]\nIndex: []",
      "text/html": "<div>\n<style scoped>\n    .dataframe tbody tr th:only-of-type {\n        vertical-align: middle;\n    }\n\n    .dataframe tbody tr th {\n        vertical-align: top;\n    }\n\n    .dataframe thead th {\n        text-align: right;\n    }\n</style>\n<table border=\"1\" class=\"dataframe\">\n  <thead>\n    <tr style=\"text-align: right;\">\n      <th></th>\n      <th>bill_id</th>\n      <th>act_number</th>\n      <th>text</th>\n    </tr>\n  </thead>\n  <tbody>\n  </tbody>\n</table>\n</div>"
     },
     "execution_count": 149,
     "metadata": {},
     "output_type": "execute_result"
    }
   ],
   "source": [
    "mask = merged_df.isna().any(axis=1)\n",
    "\n",
    "# filter the DataFrame using the mask\n",
    "rows_with_nan = merged_df[mask]\n",
    "rows_with_nan"
   ],
   "metadata": {
    "collapsed": false
   }
  },
  {
   "cell_type": "code",
   "execution_count": 107,
   "outputs": [],
   "source": [
    "number = number.tolist()"
   ],
   "metadata": {
    "collapsed": false
   }
  },
  {
   "cell_type": "code",
   "execution_count": 108,
   "outputs": [],
   "source": [
    "zacon.to_csv('zacon.csv', index=False)\n"
   ],
   "metadata": {
    "collapsed": false
   }
  },
  {
   "cell_type": "code",
   "execution_count": 98,
   "outputs": [],
   "source": [
    "headers = {\"User-Agent\": token}\n",
    "response = requests.get(url = f\"https://data.rada.gov.ua/laws/show/449-20.txt\", headers=headers)\n",
    "# Отримуємо результат запиту\n",
    "result = response.text\n",
    "    # Створюємо DataFrame з номером і результатом запиту\n",
    "temp_df = pd.DataFrame({'act_number': ['244-20'], 'text': [str(result)]})\n",
    "\n",
    "    # Додаємо цей DataFrame до основного DataFrame\n",
    "#zacon = pd.concat([zacon, temp_df])"
   ],
   "metadata": {
    "collapsed": false
   }
  },
  {
   "cell_type": "code",
   "execution_count": 64,
   "outputs": [],
   "source": [
    "frame = pd.read_csv('data/text2832')"
   ],
   "metadata": {
    "collapsed": false
   }
  },
  {
   "cell_type": "code",
   "execution_count": 282,
   "outputs": [],
   "source": [
    "zacon_full = zacon"
   ],
   "metadata": {
    "collapsed": false
   }
  },
  {
   "cell_type": "code",
   "execution_count": 14,
   "outputs": [
    {
     "data": {
      "text/plain": "     act_number                                               text\n0        860-20  ЗАКОН УКРАЇНИ\\r\\nПро ратифікацію Договору між ...\n1        861-20  ЗАКОН УКРАЇНИ\\r\\nПро ратифікацію Договору між ...\n2        880-20  ЗАКОН УКРАЇНИ\\r\\nПро ратифікацію Протоколу, що...\n3       1035-20  ЗАКОН УКРАЇНИ\\r\\nПро ратифікацію Гарантійної у...\n4       1036-20  ЗАКОН УКРАЇНИ\\r\\nПро приєднання до Угоди про р...\n...         ...                                                ...\n1937    2507-20  ПОСТАНОВА\\r\\nВерховної Ради України\\r\\nПро при...\n1938    2806-20  ЗАКОН УКРАЇНИ\\r\\nПро внесення змін до Кодексу ...\n1939    2577-20  ПОСТАНОВА\\r\\nВерховної Ради України\\r\\nПро при...\n1940    1642-20  ПОСТАНОВА\\r\\nВерховної Ради України\\r\\nПро зві...\n1941    1654-20  ПОСТАНОВА\\r\\nВерховної Ради України\\r\\nПро вне...\n\n[1942 rows x 2 columns]",
      "text/html": "<div>\n<style scoped>\n    .dataframe tbody tr th:only-of-type {\n        vertical-align: middle;\n    }\n\n    .dataframe tbody tr th {\n        vertical-align: top;\n    }\n\n    .dataframe thead th {\n        text-align: right;\n    }\n</style>\n<table border=\"1\" class=\"dataframe\">\n  <thead>\n    <tr style=\"text-align: right;\">\n      <th></th>\n      <th>act_number</th>\n      <th>text</th>\n    </tr>\n  </thead>\n  <tbody>\n    <tr>\n      <th>0</th>\n      <td>860-20</td>\n      <td>ЗАКОН УКРАЇНИ\\r\\nПро ратифікацію Договору між ...</td>\n    </tr>\n    <tr>\n      <th>1</th>\n      <td>861-20</td>\n      <td>ЗАКОН УКРАЇНИ\\r\\nПро ратифікацію Договору між ...</td>\n    </tr>\n    <tr>\n      <th>2</th>\n      <td>880-20</td>\n      <td>ЗАКОН УКРАЇНИ\\r\\nПро ратифікацію Протоколу, що...</td>\n    </tr>\n    <tr>\n      <th>3</th>\n      <td>1035-20</td>\n      <td>ЗАКОН УКРАЇНИ\\r\\nПро ратифікацію Гарантійної у...</td>\n    </tr>\n    <tr>\n      <th>4</th>\n      <td>1036-20</td>\n      <td>ЗАКОН УКРАЇНИ\\r\\nПро приєднання до Угоди про р...</td>\n    </tr>\n    <tr>\n      <th>...</th>\n      <td>...</td>\n      <td>...</td>\n    </tr>\n    <tr>\n      <th>1937</th>\n      <td>2507-20</td>\n      <td>ПОСТАНОВА\\r\\nВерховної Ради України\\r\\nПро при...</td>\n    </tr>\n    <tr>\n      <th>1938</th>\n      <td>2806-20</td>\n      <td>ЗАКОН УКРАЇНИ\\r\\nПро внесення змін до Кодексу ...</td>\n    </tr>\n    <tr>\n      <th>1939</th>\n      <td>2577-20</td>\n      <td>ПОСТАНОВА\\r\\nВерховної Ради України\\r\\nПро при...</td>\n    </tr>\n    <tr>\n      <th>1940</th>\n      <td>1642-20</td>\n      <td>ПОСТАНОВА\\r\\nВерховної Ради України\\r\\nПро зві...</td>\n    </tr>\n    <tr>\n      <th>1941</th>\n      <td>1654-20</td>\n      <td>ПОСТАНОВА\\r\\nВерховної Ради України\\r\\nПро вне...</td>\n    </tr>\n  </tbody>\n</table>\n<p>1942 rows × 2 columns</p>\n</div>"
     },
     "execution_count": 14,
     "metadata": {},
     "output_type": "execute_result"
    }
   ],
   "source": [
    "frame"
   ],
   "metadata": {
    "collapsed": false
   }
  },
  {
   "cell_type": "code",
   "execution_count": null,
   "outputs": [],
   "source": [],
   "metadata": {
    "collapsed": false
   }
  }
 ],
 "metadata": {
  "kernelspec": {
   "display_name": "Python 3",
   "language": "python",
   "name": "python3"
  },
  "language_info": {
   "codemirror_mode": {
    "name": "ipython",
    "version": 2
   },
   "file_extension": ".py",
   "mimetype": "text/x-python",
   "name": "python",
   "nbconvert_exporter": "python",
   "pygments_lexer": "ipython2",
   "version": "2.7.6"
  }
 },
 "nbformat": 4,
 "nbformat_minor": 0
}
