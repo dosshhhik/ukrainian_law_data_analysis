import os
import json
from IPython.display import display


import pandas as pd
data = pd.read_json("billinfo-skl9.json")
data