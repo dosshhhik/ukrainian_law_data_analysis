{
 "cells": [
  {
   "cell_type": "markdown",
   "source": [
    "# NLP"
   ],
   "metadata": {
    "collapsed": false
   }
  },
  {
   "cell_type": "code",
   "execution_count": 2,
   "outputs": [],
   "source": [
    "from collections import Counter\n",
    "\n",
    "import os\n",
    "import string\n",
    "\n",
    "import copy\n",
    "import pandas as pd\n",
    "import pickle\n",
    "import nltk\n",
    "from nltk.tokenize import word_tokenize\n",
    "\n",
    "import math\n",
    "\n",
    "from sklearn.feature_extraction.text import CountVectorizer, TfidfVectorizer \n",
    "from sklearn.feature_extraction.text import TfidfTransformer\n",
    "from sklearn.decomposition import LatentDirichletAllocation\n",
    "\n",
    "\n",
    "\n",
    "from utils import tf_idf\n",
    "from utils import tree_stem as stem\n",
    "from utils import text_processing as tp\n",
    "from bs4 import BeautifulSoup\n",
    "\n",
    "\n",
    "from sklearn.cluster import KMeans\n",
    "from sklearn.metrics import silhouette_score\n",
    "import numpy as np\n",
    "import matplotlib.pyplot as plt"
   ],
   "metadata": {
    "collapsed": false
   }
  },
  {
   "cell_type": "code",
   "execution_count": 17,
   "outputs": [],
   "source": [
    "INPUT_DATA_FOLDER = \"data\"\n",
    "DATA_FILE = \"names.csv\"\n",
    "\n",
    "OUTPUT_FOLDER = \"data/preprocessed\"\n",
    "OUTPUT_DATA_FILE = \"names_parsed.csv\"\n",
    "\n",
    "tfidf_transformer_model = \"tfidf_transformer\"\n",
    "count_vectorizer_model = \"count_vectorizer\"\n",
    "\n",
    "tfidf_transformer_version = \"bigram\"\n",
    "count_vectorizer_version = \"bigram\"\n",
    "\n",
    "MODEL_FOLDER = \"model\""
   ],
   "metadata": {
    "collapsed": false
   }
  },
  {
   "cell_type": "code",
   "execution_count": 3,
   "outputs": [],
   "source": [
    "df = pd.read_csv(f\"{INPUT_DATA_FOLDER}/{DATA_FILE}\")"
   ],
   "metadata": {
    "collapsed": false
   }
  },
  {
   "cell_type": "code",
   "execution_count": 283,
   "outputs": [],
   "source": [
    "df = pd.read_csv(f\"{OUTPUT_FOLDER}/{OUTPUT_DATA_FILE}\", sep=';')\n"
   ],
   "metadata": {
    "collapsed": false
   }
  },
  {
   "cell_type": "code",
   "execution_count": null,
   "outputs": [],
   "source": [
    "\n",
    "#df['main_text'] = df['main_html_v2'].apply(lambda x: BeautifulSoup(str(x)).text)"
   ],
   "metadata": {
    "collapsed": false
   }
  },
  {
   "cell_type": "markdown",
   "source": [
    "## 0. Check the data"
   ],
   "metadata": {
    "collapsed": false
   }
  },
  {
   "cell_type": "code",
   "execution_count": null,
   "outputs": [],
   "source": [
    "df.head(5)"
   ],
   "metadata": {
    "collapsed": false
   }
  },
  {
   "cell_type": "markdown",
   "source": [
    "## 1. Preprocess text"
   ],
   "metadata": {
    "collapsed": false
   }
  },
  {
   "cell_type": "code",
   "execution_count": null,
   "outputs": [],
   "source": [
    "df = df.rename(columns={'name': 'text'})"
   ],
   "metadata": {
    "collapsed": false
   }
  },
  {
   "cell_type": "code",
   "execution_count": null,
   "outputs": [],
   "source": [
    "df"
   ],
   "metadata": {
    "collapsed": false
   }
  },
  {
   "cell_type": "code",
   "execution_count": null,
   "outputs": [],
   "source": [
    "df['text_preprocessed'] = df['text'].apply(lambda x: tp.preprocess_first(x))"
   ],
   "metadata": {
    "collapsed": false
   }
  },
  {
   "cell_type": "code",
   "execution_count": null,
   "outputs": [],
   "source": [
    "#df['text_preprocessed_lemm'] = df['text'].apply(lambda x: tp.preprocess_second(x,\"lemm\"))"
   ],
   "metadata": {
    "collapsed": false
   }
  },
  {
   "cell_type": "code",
   "execution_count": null,
   "outputs": [],
   "source": [
    "df['text_preprocessed_stemm'] = df['text_preprocessed'].apply(lambda x: tp.preprocess_second(x,\"stemm\"))"
   ],
   "metadata": {
    "collapsed": false
   }
  },
  {
   "cell_type": "code",
   "execution_count": 4,
   "outputs": [],
   "source": [
    "df['text_preprocessed_stemm'] = df['text_preprocessed_stemm'].apply(lambda x: tp.remove_stop_words_second(x))"
   ],
   "metadata": {
    "collapsed": false
   }
  },
  {
   "cell_type": "code",
   "execution_count": null,
   "outputs": [],
   "source": [
    "# mask = df['text_preprocessed'].str.contains('[a-zA-Z]')\n",
    "#\n",
    "# # filter the DataFrame using the mask\n",
    "# nonenglish_rows = df[~mask]\n",
    "# nonenglish_rows"
   ],
   "metadata": {
    "collapsed": false
   }
  },
  {
   "cell_type": "code",
   "execution_count": 5,
   "outputs": [
    {
     "data": {
      "text/plain": "      Unnamed: 0     id                                               text  \\\n0              0  41797  Проект Закону про внесення змін до деяких зако...   \n1              1  41791  Проект Закону про внесення змін до деяких зако...   \n2              2  41790  Проект Закону про внесення зміни до Кримінальн...   \n3              3  41787  Проект Закону про внесення змін до деяких зако...   \n4              4  41786  Проект Закону про внесення змін до Закону Укра...   \n...          ...    ...                                                ...   \n8672        8672      5  Проект Закону про внесення змін до деяких зако...   \n8673        8673      4  Проект Закону про внесення змін до деяких зако...   \n8674        8674      3  Проект Закону про внесення змін до розділу X \"...   \n8675        8675      2  Проект Закону громадянами України - засновника...   \n8676        8676      1  Проект Закону про внесення змін до деяких зако...   \n\n     registrationNumber                                  text_preprocessed  \\\n0                  9219   проект закону внесення змін законодавчих акті...   \n1                  9217   проект закону внесення змін законодавчих акті...   \n2                  9215   проект закону внесення зміни кримінального ко...   \n3                  9213   проект закону внесення змін законів україни в...   \n4                  9214   проект закону внесення змін закону україни за...   \n...                 ...                                                ...   \n8672               2071   проект закону внесення змін законодавчих акті...   \n8673               2067   проект закону внесення змін законодавчих акті...   \n8674               1101   проект закону внесення змін розділу перехідні...   \n8675               2065   проект закону громадянами україни засновникам...   \n8676               2064   проект закону внесення змін законодавчих акті...   \n\n                                text_preprocessed_stemm  \n0      законодавч акт розмежуванн повноваж центральн...  \n1      законодавч акт удосконаленн використанн земел...  \n2      кримінальн кодекс встановленн відповідальн пе...  \n3      відновленн енергетичн безпе зелен трансформац...  \n4      загальнообов язков державн соціальн страхуван...  \n...                                                 ...  \n8672      законодавч акт державн підтрим сільськ розвит  \n8673   законодавч акт успадкуванн прав постійн корис...  \n8674   розділ перехідн положенн `` земельн кодекс за...  \n8675   громадян засновник фермерськ господарств прав...  \n8676    законодавч акт стимулюванн розвит виноградарств  \n\n[8677 rows x 6 columns]",
      "text/html": "<div>\n<style scoped>\n    .dataframe tbody tr th:only-of-type {\n        vertical-align: middle;\n    }\n\n    .dataframe tbody tr th {\n        vertical-align: top;\n    }\n\n    .dataframe thead th {\n        text-align: right;\n    }\n</style>\n<table border=\"1\" class=\"dataframe\">\n  <thead>\n    <tr style=\"text-align: right;\">\n      <th></th>\n      <th>Unnamed: 0</th>\n      <th>id</th>\n      <th>text</th>\n      <th>registrationNumber</th>\n      <th>text_preprocessed</th>\n      <th>text_preprocessed_stemm</th>\n    </tr>\n  </thead>\n  <tbody>\n    <tr>\n      <th>0</th>\n      <td>0</td>\n      <td>41797</td>\n      <td>Проект Закону про внесення змін до деяких зако...</td>\n      <td>9219</td>\n      <td>проект закону внесення змін законодавчих акті...</td>\n      <td>законодавч акт розмежуванн повноваж центральн...</td>\n    </tr>\n    <tr>\n      <th>1</th>\n      <td>1</td>\n      <td>41791</td>\n      <td>Проект Закону про внесення змін до деяких зако...</td>\n      <td>9217</td>\n      <td>проект закону внесення змін законодавчих акті...</td>\n      <td>законодавч акт удосконаленн використанн земел...</td>\n    </tr>\n    <tr>\n      <th>2</th>\n      <td>2</td>\n      <td>41790</td>\n      <td>Проект Закону про внесення зміни до Кримінальн...</td>\n      <td>9215</td>\n      <td>проект закону внесення зміни кримінального ко...</td>\n      <td>кримінальн кодекс встановленн відповідальн пе...</td>\n    </tr>\n    <tr>\n      <th>3</th>\n      <td>3</td>\n      <td>41787</td>\n      <td>Проект Закону про внесення змін до деяких зако...</td>\n      <td>9213</td>\n      <td>проект закону внесення змін законів україни в...</td>\n      <td>відновленн енергетичн безпе зелен трансформац...</td>\n    </tr>\n    <tr>\n      <th>4</th>\n      <td>4</td>\n      <td>41786</td>\n      <td>Проект Закону про внесення змін до Закону Укра...</td>\n      <td>9214</td>\n      <td>проект закону внесення змін закону україни за...</td>\n      <td>загальнообов язков державн соціальн страхуван...</td>\n    </tr>\n    <tr>\n      <th>...</th>\n      <td>...</td>\n      <td>...</td>\n      <td>...</td>\n      <td>...</td>\n      <td>...</td>\n      <td>...</td>\n    </tr>\n    <tr>\n      <th>8672</th>\n      <td>8672</td>\n      <td>5</td>\n      <td>Проект Закону про внесення змін до деяких зако...</td>\n      <td>2071</td>\n      <td>проект закону внесення змін законодавчих акті...</td>\n      <td>законодавч акт державн підтрим сільськ розвит</td>\n    </tr>\n    <tr>\n      <th>8673</th>\n      <td>8673</td>\n      <td>4</td>\n      <td>Проект Закону про внесення змін до деяких зако...</td>\n      <td>2067</td>\n      <td>проект закону внесення змін законодавчих акті...</td>\n      <td>законодавч акт успадкуванн прав постійн корис...</td>\n    </tr>\n    <tr>\n      <th>8674</th>\n      <td>8674</td>\n      <td>3</td>\n      <td>Проект Закону про внесення змін до розділу X \"...</td>\n      <td>1101</td>\n      <td>проект закону внесення змін розділу перехідні...</td>\n      <td>розділ перехідн положенн `` земельн кодекс за...</td>\n    </tr>\n    <tr>\n      <th>8675</th>\n      <td>8675</td>\n      <td>2</td>\n      <td>Проект Закону громадянами України - засновника...</td>\n      <td>2065</td>\n      <td>проект закону громадянами україни засновникам...</td>\n      <td>громадян засновник фермерськ господарств прав...</td>\n    </tr>\n    <tr>\n      <th>8676</th>\n      <td>8676</td>\n      <td>1</td>\n      <td>Проект Закону про внесення змін до деяких зако...</td>\n      <td>2064</td>\n      <td>проект закону внесення змін законодавчих акті...</td>\n      <td>законодавч акт стимулюванн розвит виноградарств</td>\n    </tr>\n  </tbody>\n</table>\n<p>8677 rows × 6 columns</p>\n</div>"
     },
     "execution_count": 5,
     "metadata": {},
     "output_type": "execute_result"
    }
   ],
   "source": [
    "df"
   ],
   "metadata": {
    "collapsed": false
   }
  },
  {
   "cell_type": "code",
   "execution_count": null,
   "outputs": [],
   "source": [
    "# def stemming(data):\n",
    "#     stemmer= stem\n",
    "#     tokens = word_tokenize(str(data))\n",
    "#     new_text = \"\"\n",
    "#     for w in tokens:\n",
    "#         new_text = new_text + \" \" + stemmer.stem_word(w)\n",
    "#         print(stemmer.stem_word(w))\n",
    "#     return new_text"
   ],
   "metadata": {
    "collapsed": false
   }
  },
  {
   "cell_type": "code",
   "execution_count": null,
   "outputs": [],
   "source": [
    "df.to_csv(f\"{OUTPUT_FOLDER}/{OUTPUT_DATA_FILE}\", sep=\";\", index=False)"
   ],
   "metadata": {
    "collapsed": false
   }
  },
  {
   "cell_type": "code",
   "execution_count": null,
   "outputs": [],
   "source": [
    "df.to_csv(f\"{OUTPUT_FOLDER}/{OUTPUT_DATA_FILE}\", sep=\";\", index=False)\n"
   ],
   "metadata": {
    "collapsed": false
   }
  },
  {
   "cell_type": "markdown",
   "source": [
    "\n",
    "## 2. Merge docs"
   ],
   "metadata": {
    "collapsed": false
   }
  },
  {
   "cell_type": "code",
   "execution_count": 4,
   "outputs": [],
   "source": [
    "df = pd.read_csv(f\"{OUTPUT_FOLDER}/{OUTPUT_DATA_FILE}\", sep=\";\")"
   ],
   "metadata": {
    "collapsed": false
   }
  },
  {
   "cell_type": "code",
   "execution_count": 5,
   "outputs": [],
   "source": [
    "#get the text column \n",
    "docs = df['text_preprocessed_stemm'].tolist()"
   ],
   "metadata": {
    "collapsed": false
   }
  },
  {
   "cell_type": "code",
   "execution_count": 6,
   "outputs": [
    {
     "data": {
      "text/plain": "8677"
     },
     "execution_count": 6,
     "metadata": {},
     "output_type": "execute_result"
    }
   ],
   "source": [
    "len(docs)"
   ],
   "metadata": {
    "collapsed": false
   }
  },
  {
   "cell_type": "markdown",
   "source": [
    "### CountVectorizer"
   ],
   "metadata": {
    "collapsed": false
   }
  },
  {
   "cell_type": "code",
   "execution_count": 7,
   "outputs": [
    {
     "data": {
      "text/plain": "(8677, 35481)"
     },
     "execution_count": 7,
     "metadata": {},
     "output_type": "execute_result"
    }
   ],
   "source": [
    "cv = CountVectorizer(ngram_range = (3,3))\n",
    "word_count_vector = cv.fit_transform(docs)\n",
    "\n",
    "word_count_vector.shape"
   ],
   "metadata": {
    "collapsed": false
   }
  },
  {
   "cell_type": "code",
   "execution_count": 8,
   "outputs": [
    {
     "data": {
      "text/plain": "<8677x35481 sparse matrix of type '<class 'numpy.int64'>'\n\twith 133220 stored elements in Compressed Sparse Row format>"
     },
     "execution_count": 8,
     "metadata": {},
     "output_type": "execute_result"
    }
   ],
   "source": [
    "word_count_vector"
   ],
   "metadata": {
    "collapsed": false
   }
  },
  {
   "cell_type": "code",
   "execution_count": 53,
   "outputs": [],
   "source": [
    "#store the content\n",
    "with open(f\"{MODEL_FOLDER}/{count_vectorizer_model}_{count_vectorizer_version}.pkl\", 'wb') as handle:\n",
    "                    pickle.dump(cv, handle)"
   ],
   "metadata": {
    "collapsed": false
   }
  },
  {
   "cell_type": "markdown",
   "source": [
    "### TF-IDF"
   ],
   "metadata": {
    "collapsed": false
   }
  },
  {
   "cell_type": "code",
   "execution_count": 54,
   "outputs": [
    {
     "data": {
      "text/plain": "TfidfTransformer()"
     },
     "execution_count": 54,
     "metadata": {},
     "output_type": "execute_result"
    }
   ],
   "source": [
    "\n",
    "tfidf_transformer=TfidfTransformer(smooth_idf=True,use_idf=True,)\n",
    "tfidf_transformer.fit(word_count_vector)"
   ],
   "metadata": {
    "collapsed": false
   }
  },
  {
   "cell_type": "code",
   "execution_count": 55,
   "outputs": [],
   "source": [
    "\n",
    "\n",
    "#store the content\n",
    "with open(f\"{MODEL_FOLDER}/{tfidf_transformer_model}_{tfidf_transformer_version}.pkl\", 'wb') as handle:\n",
    "                    pickle.dump(tfidf_transformer, handle)"
   ],
   "metadata": {
    "collapsed": false
   }
  },
  {
   "cell_type": "code",
   "execution_count": 56,
   "outputs": [],
   "source": [
    "# model_file = f\"{MODEL_FOLDER}/{tfidf_transformer_model}_{tfidf_transformer_version}.pkl\"\n",
    "# with open(model_file, \"rb\") as f:\n",
    "#     tfidf_transformer = pickle.load(f)\n"
   ],
   "metadata": {
    "collapsed": false
   }
  },
  {
   "cell_type": "code",
   "execution_count": 57,
   "outputs": [
    {
     "data": {
      "text/plain": "                                     idf_weights\nкодекс адміністративн правопорушенн     4.023541\nкримінальн процесуальн кодекс           4.648011\nверховн дев ят                          4.760279\nдев ят скликанн                         4.760279\nоснов законодавч акт                    4.811051\n...                                          ...\nмельник президент увіковіченн           9.375399\nмейданович кримінальн провадженн        9.375399\nмежу російськ федераці                  9.375399\nмайно втрачен пошкоджен                 9.375399\nобласн онкологічн диспансер             9.375399\n\n[34258 rows x 1 columns]",
      "text/html": "<div>\n<style scoped>\n    .dataframe tbody tr th:only-of-type {\n        vertical-align: middle;\n    }\n\n    .dataframe tbody tr th {\n        vertical-align: top;\n    }\n\n    .dataframe thead th {\n        text-align: right;\n    }\n</style>\n<table border=\"1\" class=\"dataframe\">\n  <thead>\n    <tr style=\"text-align: right;\">\n      <th></th>\n      <th>idf_weights</th>\n    </tr>\n  </thead>\n  <tbody>\n    <tr>\n      <th>кодекс адміністративн правопорушенн</th>\n      <td>4.023541</td>\n    </tr>\n    <tr>\n      <th>кримінальн процесуальн кодекс</th>\n      <td>4.648011</td>\n    </tr>\n    <tr>\n      <th>верховн дев ят</th>\n      <td>4.760279</td>\n    </tr>\n    <tr>\n      <th>дев ят скликанн</th>\n      <td>4.760279</td>\n    </tr>\n    <tr>\n      <th>основ законодавч акт</th>\n      <td>4.811051</td>\n    </tr>\n    <tr>\n      <th>...</th>\n      <td>...</td>\n    </tr>\n    <tr>\n      <th>мельник президент увіковіченн</th>\n      <td>9.375399</td>\n    </tr>\n    <tr>\n      <th>мейданович кримінальн провадженн</th>\n      <td>9.375399</td>\n    </tr>\n    <tr>\n      <th>межу російськ федераці</th>\n      <td>9.375399</td>\n    </tr>\n    <tr>\n      <th>майно втрачен пошкоджен</th>\n      <td>9.375399</td>\n    </tr>\n    <tr>\n      <th>обласн онкологічн диспансер</th>\n      <td>9.375399</td>\n    </tr>\n  </tbody>\n</table>\n<p>34258 rows × 1 columns</p>\n</div>"
     },
     "execution_count": 57,
     "metadata": {},
     "output_type": "execute_result"
    }
   ],
   "source": [
    "\n",
    "# print idf values\n",
    "df_idf = pd.DataFrame(tfidf_transformer.idf_, index=cv.get_feature_names_out(),columns=[\"idf_weights\"]) \n",
    "# sort ascending \n",
    "df_idf.sort_values(by=['idf_weights'])"
   ],
   "metadata": {
    "collapsed": false
   }
  },
  {
   "cell_type": "code",
   "execution_count": 58,
   "outputs": [],
   "source": [
    "tf_idf_vector = tfidf_transformer.transform(word_count_vector)"
   ],
   "metadata": {
    "collapsed": false
   }
  },
  {
   "cell_type": "code",
   "execution_count": 301,
   "outputs": [
    {
     "data": {
      "text/plain": "<8677x3272 sparse matrix of type '<class 'numpy.float64'>'\n\twith 124386 stored elements in Compressed Sparse Row format>"
     },
     "execution_count": 301,
     "metadata": {},
     "output_type": "execute_result"
    }
   ],
   "source": [],
   "metadata": {
    "collapsed": false
   }
  },
  {
   "cell_type": "code",
   "execution_count": null,
   "outputs": [],
   "source": [
    "# feature_names = cv.get_feature_names_out()\n",
    "# # #get tfidf vector for first document\n",
    "#\n",
    "# first_document_vector=tf_idf_vector[0]\n",
    "# #print the scores\n",
    "# df = pd.DataFrame(first_document_vector.T.todense(), index=feature_names, columns=[\"tfidf\"])\n",
    "# df.sort_values(by=[\"tfidf\"],ascending=False)"
   ],
   "metadata": {
    "collapsed": false
   }
  },
  {
   "cell_type": "markdown",
   "source": [
    "### Test transformtion with fitted models"
   ],
   "metadata": {
    "collapsed": false
   }
  },
  {
   "cell_type": "code",
   "execution_count": 18,
   "outputs": [],
   "source": [
    "#load the content\n",
    "tfidf = pickle.load(open(f\"{MODEL_FOLDER}/{tfidf_transformer_model}_{tfidf_transformer_version}.pkl\", \"rb\"))\n",
    "cv = pickle.load(open(f\"{MODEL_FOLDER}/{count_vectorizer_model}_{count_vectorizer_version}.pkl\", \"rb\"))"
   ],
   "metadata": {
    "collapsed": false
   }
  },
  {
   "cell_type": "code",
   "execution_count": 19,
   "outputs": [],
   "source": [
    "# you only needs to do this once, this is a mapping of index to \n",
    "feature_names=cv.get_feature_names_out()"
   ],
   "metadata": {
    "collapsed": false
   }
  },
  {
   "cell_type": "code",
   "execution_count": 20,
   "outputs": [
    {
     "data": {
      "text/plain": "TfidfTransformer()"
     },
     "execution_count": 20,
     "metadata": {},
     "output_type": "execute_result"
    }
   ],
   "source": [
    "tfidf"
   ],
   "metadata": {
    "collapsed": false
   }
  },
  {
   "cell_type": "code",
   "execution_count": 21,
   "outputs": [],
   "source": [
    "df['keywords_Treegrams'] = df['text_preprocessed_stemm'].apply(lambda x: tf_idf.conver_doc_to_vector(x,cv,tfidf))"
   ],
   "metadata": {
    "collapsed": false
   }
  },
  {
   "cell_type": "code",
   "execution_count": 22,
   "outputs": [
    {
     "data": {
      "text/plain": "0    {'здійсненн державн': 0.335, 'сфер промислов':...\n1    {'удосконаленн використанн': 0.597, 'земел обо...\n2    {'державн фінансов': 0.406, 'відповідальн пере...\n3    {'трансформаці енергетичн': 0.427, 'зелен тран...\n4    {'трудов каліцтв': 0.298, 'потерпіл трудов': 0...\nName: keywords_Treegrams, dtype: object"
     },
     "execution_count": 22,
     "metadata": {},
     "output_type": "execute_result"
    }
   ],
   "source": [
    "df['keywords_Treegrams'].head(5)"
   ],
   "metadata": {
    "collapsed": false
   }
  },
  {
   "cell_type": "code",
   "execution_count": null,
   "outputs": [],
   "source": [
    "# test_row = df[df[\"date\"]==\"2022-02-27\"].iloc[0]\n",
    "# main_text = test_row[\"main_text\"]\n",
    "# text_preprocessed = test_row[\"text_preprocessed\"]\n",
    "\n",
    "# print(page_html_text)\n",
    "# display(HTML(str(page_html_text)))"
   ],
   "metadata": {
    "collapsed": false
   }
  },
  {
   "cell_type": "code",
   "execution_count": null,
   "outputs": [],
   "source": [
    "# Завантаження tf-idf векторів\n",
    "tfidf_vectors = tf_idf_vector\n",
    "\n",
    "# Створення списку для збереження значень показника кращості кластеризації\n",
    "silhouette_scores = []\n",
    "n = 15\n",
    "# Перебір кількості кластерів від 2 до 20\n",
    "for n_clusters in range(2, n):\n",
    "    # Створення об'єкту KMeans з поточною кількістю кластерів\n",
    "    kmeans = KMeans(n_clusters=n_clusters, random_state=42)\n",
    "    # Кластеризація tf-idf векторів\n",
    "    clusters = kmeans.fit_predict(tfidf_vectors)\n",
    "    # Розрахунок показника кращості кластеризації (silhouette score)\n",
    "    silhouette_avg = silhouette_score(tfidf_vectors, clusters)\n",
    "    silhouette_scores.append(silhouette_avg)\n",
    "\n",
    "# Візуалізація показників кращості кластеризації\n",
    "plt.plot(range(2, n), silhouette_scores)\n",
    "plt.xlabel('Number of clusters')\n",
    "plt.ylabel('Silhouette score')\n",
    "plt.show()\n",
    "\n",
    "# Вибір кількості кластерів, яка відповідає точці згину на графіку (метод ліктя)\n",
    "best_n_clusters = np.argmin(np.diff(silhouette_scores)) + 2\n",
    "print(f'Best number of clusters: {best_n_clusters}')\n",
    "\n",
    "\n"
   ],
   "metadata": {
    "collapsed": false
   }
  },
  {
   "cell_type": "code",
   "execution_count": null,
   "outputs": [],
   "source": [],
   "metadata": {
    "collapsed": false
   }
  },
  {
   "cell_type": "code",
   "execution_count": 39,
   "outputs": [],
   "source": [
    "best_n_clusters = 10"
   ],
   "metadata": {
    "collapsed": false
   }
  },
  {
   "cell_type": "code",
   "execution_count": null,
   "outputs": [],
   "source": [
    "def sse_scaler_(k_rng , tfidf_matrix):\n",
    "    sse_scaler  = []\n",
    "    for k in k_rng:\n",
    "        km = KMeans(n_clusters=k)\n",
    "        km.fit(tfidf_matrix)\n",
    "        km.predict(tfidf_matrix)\n",
    "        sse_scaler.append(km.inertia_)\n",
    "    #plot\n",
    "    plt.plot(k_rng,sse_scaler)\n",
    "    plt.xlabel(\"k\")\n",
    "    plt.ylabel(\"Sum of squared error\")\n",
    "    plt.show()\n",
    "    plt.close()"
   ],
   "metadata": {
    "collapsed": false
   }
  },
  {
   "cell_type": "code",
   "execution_count": null,
   "outputs": [],
   "source": [
    "sse_scaler_(np.arange(2, 17) , tfidf_vectors)"
   ],
   "metadata": {
    "collapsed": false
   }
  },
  {
   "cell_type": "code",
   "execution_count": 31,
   "outputs": [
    {
     "data": {
      "text/plain": "array([[0.01213709, 0.01213709, 0.09549742, ..., 0.01213865, 0.69185755,\n        0.01213709],\n       [0.02469932, 0.02469932, 0.02469933, ..., 0.4458278 , 0.02469935,\n        0.02469929],\n       [0.19806274, 0.01944115, 0.01944106, ..., 0.01944182, 0.51431811,\n        0.01944106],\n       ...,\n       [0.01484556, 0.06101023, 0.62762299, ..., 0.01484556, 0.1200012 ,\n        0.01484556],\n       [0.0179324 , 0.01793241, 0.59634444, ..., 0.14850582, 0.0179324 ,\n        0.0179324 ],\n       [0.02664148, 0.02664147, 0.0266415 , ..., 0.02664149, 0.20327817,\n        0.02664146]])"
     },
     "execution_count": 31,
     "metadata": {},
     "output_type": "execute_result"
    }
   ],
   "source": [
    "lda = LatentDirichletAllocation(n_components=best_n_clusters, max_iter=50, learning_method='online')\n",
    "topic_word_distribution = lda.fit_transform(tf_idf_vector)\n",
    "topic_word_distribution\n"
   ],
   "metadata": {
    "collapsed": false
   }
  },
  {
   "cell_type": "code",
   "execution_count": 32,
   "outputs": [
    {
     "name": "stdout",
     "output_type": "stream",
     "text": [
      "Тема 0: ['податков кодекс', 'бюджетн кодекс', 'кримінальн кодекс', 'кримінальн процесуальн', 'процесуальн кодекс', 'прийнятт основ', 'статт кримінальн', 'державн комунальн', 'вищ осві', 'статт бюджетн']\n",
      "Найпопулярніші документи: ['9203', '9209', '9216', '9218', '9213', '9215', '9214', '9217']\n",
      "\n",
      "Тема 10: ['загальнообов язков', 'язков державн', 'державн соціальн', 'соціальн страхуванн', 'соціальн захист', 'підвищенн розмір', 'ос інвалідн', 'прийнятт основ', 'державн пенсійн', 'пенсійн страхуванн']\n",
      "Найпопулярніші документи: ['9203', '9210', '9216', '9218', '9213', '9215', '9214', '9217']\n",
      "\n",
      "Тема 11: ['кодекс адміністративн', 'адміністративн правопорушенн', 'податков кодекс', 'законодавч акт', 'посиленн відповідальн', 'правопорушенн кримінальн', 'акт забезпеченн', 'кодекс законодавч', 'поверненн доопрацюванн', 'кримінальн кодекс']\n",
      "Найпопулярніші документи: ['9203', '9213', '0200', '9205', '9216', '9218', '9215', '9214']\n",
      "\n",
      "Тема 9: ['державн бюджет', 'розділ прикін', 'перехідн положенн', 'прикін перехідн', 'статус судд', 'судоустр статус', 'коронавірусн хвороб', 'поширенн коронавірусн', 'окрем питан', 'статт державн']\n",
      "Найпопулярніші документи: ['9217', '9210', '9214', '0200', '9213', '9156-1', '9205', '9203']\n",
      "\n",
      "Тема 8: ['законодавч акт', 'прийнятт основ', 'природн газ', 'державн підтрим', 'військов служб', 'статт кодекс', 'захист пра', 'акт посиленн', 'державн служб', 'зах спрямован']\n",
      "Найпопулярніші документи: ['9217', '9156-1', '9214', '9210', '9216', '9218', '9213', '9215']\n",
      "\n",
      "Тема 7: ['рішенн верховн', 'скасуванн рішенн', 'законодавч акт', 'зв яз', 'верховн прийнятт', 'друг читанн', 'прийнятт друг', 'читанн ціл', 'місцев самоврядуванн', 'прийнятт основ']\n",
      "Найпопулярніші документи: ['9203', '9216', '9218', '9213', '9215', '9214', '9217', '9209']\n",
      "\n",
      "Тема 5: ['законодавч акт', 'публічн закупівл', 'європейськ союз', 'регламент верховн', 'прийнятт основ', 'досудов розслідуванн', 'кримінальн процесуальн', 'процесуальн кодекс', 'окрем положен', 'корупційн злочин']\n",
      "Найпопулярніші документи: ['9203', '9216', '9218', '9213', '9215', '9214', '9217', '9209']\n",
      "\n",
      "Тема 1: ['народн депутат', 'депутатськ запит', 'направленн депутатськ', 'об єкт', 'запит народн', 'достроков припиненн', 'припиненн повноваж', 'повноваж народн', 'податков кодекс', 'митн кодекс']\n",
      "Найпопулярніші документи: ['9209', '9216', '9218', '9213', '9215', '9214', '9217', '9156-1']\n",
      "\n"
     ]
    }
   ],
   "source": [
    "import numpy as np\n",
    "\n",
    "# Отримання матриці розподілу тем на слова\n",
    "topic_word_distribution = lda.components_\n",
    "\n",
    "# Отримання найпопулярніших слів для кожної теми\n",
    "n_top_words = 10\n",
    "top_words = []\n",
    "for topic_words in topic_word_distribution:\n",
    "    top_words_indices = topic_words.argsort()[:-n_top_words-1:-1]\n",
    "    top_words.append([feature_names[i] for i in top_words_indices])\n",
    "\n",
    "# Виведення найпопулярніших тем і відповідних документів\n",
    "n_top_topics =8\n",
    "top_topics_indices = np.argsort(topic_word_distribution.sum(axis=1))[:-n_top_topics-1:-1]\n",
    "for topic_index in top_topics_indices:\n",
    "    top_documents_indices = topic_word_distribution[:, topic_index].argsort()[:-n_top_topics-1:-1]\n",
    "    top_documents = [df.registrationNumber[i] for i in top_documents_indices]\n",
    "    print(\"Тема {}: {}\".format(topic_index, top_words[topic_index]))\n",
    "    print(\"Найпопулярніші документи: {}\".format(top_documents))\n",
    "    print()\n",
    "\n"
   ],
   "metadata": {
    "collapsed": false
   }
  },
  {
   "cell_type": "code",
   "execution_count": null,
   "outputs": [],
   "source": [
    "lda = LatentDirichletAllocation(n_components=3, max_iter=50, learning_method='online')\n",
    "for i in range(best_n_clusters):\n",
    "    cluster_docs = tfidf_vectors[kmeans.labels_ == i]\n",
    "    most_representative_doc = np.argmax(cluster_docs.sum(axis=1))\n",
    "    #print( i, most_representative_doc)\n",
    "    cluster_tfidf = cluster_docs[most_representative_doc]\n",
    "    lda.fit(cluster_tfidf)\n",
    "    topic_weights = lda.components_\n",
    "    top_topics = topic_weights.argsort()[::-1][:3]\n",
    "    print(f\"Cluster {i} top topics: {feature_names[top_topics]}\")"
   ],
   "metadata": {
    "collapsed": false
   }
  },
  {
   "cell_type": "code",
   "execution_count": 29,
   "outputs": [],
   "source": [
    "#c-tf-idf\n",
    "\n",
    "import numpy as np\n",
    "import pandas as pd\n",
    "import scipy.sparse as sp\n",
    "\n",
    "from sklearn.preprocessing import normalize\n",
    "from sklearn.feature_extraction.text import TfidfTransformer, CountVectorizer\n",
    "\n",
    "\n",
    "class CTFIDFVectorizer(TfidfTransformer):\n",
    "    def __init__(self, *args, **kwargs):\n",
    "        super(CTFIDFVectorizer, self).__init__(*args, **kwargs)\n",
    "\n",
    "    def fit(self, X: sp.csr_matrix, n_samples: int):\n",
    "        \"\"\"Learn the idf vector (global term weights) \"\"\"\n",
    "        _, n_features = X.shape\n",
    "        df = np.squeeze(np.asarray(X.sum(axis=0)))\n",
    "        idf = np.log(n_samples / df)\n",
    "        self._idf_diag = sp.diags(idf, offsets=0,\n",
    "                                  shape=(n_features, n_features),\n",
    "                                  format='csr',\n",
    "                                  dtype=np.float64)\n",
    "        return self\n",
    "\n",
    "    def transform(self, X: sp.csr_matrix) -> sp.csr_matrix:\n",
    "        \"\"\"Transform a count-based matrix to c-TF-IDF \"\"\"\n",
    "        X = X * self._idf_diag\n",
    "        X = normalize(X, axis=1, norm='l1', copy=False)\n",
    "        return X\n",
    "\n"
   ],
   "metadata": {
    "collapsed": false
   }
  },
  {
   "cell_type": "code",
   "execution_count": 47,
   "outputs": [
    {
     "name": "stdout",
     "output_type": "stream",
     "text": [
      "Cluster 0: вклад депозит | депозит фізичн | банківськ вклад | оподаткуванн банківськ | акт особлив | особлив оподаткуванн | фізичн ос | кодекс законодавч | податков кодекс\n",
      "Cluster 1: вчиненн майнов | майнов правопорушен | правопорушен умов | відповідальн вчиненн | кодекс кодекс | воєнн надзвичайн | надзвичайн стан | правопорушенн посиленн | умов воєнн\n",
      "Cluster 2: основ подоланн | подоланн туберкульоз | прийнятт основ | ґрунт ненавист | здійсню досудов | здійсненн іноземн | здійсню викид | здійсню виробництв | здійсню волонтерськ\n",
      "Cluster 3: пр цифров | трансформаці федоров | відстав віц | цифров трансформаці | віц пр | здійсню державн | здійсненн транзит | здійсненн функці | здійсненн іноземн\n",
      "Cluster 4: кори неприбутков | стимулюванн наданн | допомог кори | наданн благодійн | неприбутков організаці | благодійн допомог | кодекс стимулюванн | положенн податков | розділ перехідн\n",
      "Cluster 5: правопорушенн визначенн | зарядн інфраструктур | єкт зарядн | засоб єкт | визначенн електричн | електричн транспортн | відхиленн кодекс | транспортн засоб | адміністративн правопорушенн\n",
      "Cluster 6: обмежен додатков | додатков відповідальн | відповідальн забезпеченн | товариств обмежен | прогалин правов | функціонуванн товарист | безперешкодн функціонуванн | відповідальн усуненн | забезпеченн безперешкодн\n",
      "Cluster 7: безперервн проживанн | громадянств здійсню | здійсню захист | необхідн прийнятт | підстав територі | законн підстав | проживанн законн | захист суверенітет | строк безперервн\n",
      "Cluster 8: джерел удосконаленн | енерг відновлюван | виробництв енерг | обіг гарант | механізм обіг | відновлюван джерел | гарант походженн | розвит виробництв | стимулюванн розвит\n",
      "Cluster 9: заборон тимчасов | паркуванн ді | засоб інспектор | тимчасов затриманн | затриманн транспортн | правопорушенн заборон | інспектор паркуванн | ді правов | режим воєнн\n"
     ]
    }
   ],
   "source": [
    "#### ПРАЦЮЮЧИЙ КОООД - знаходження найбільш вагомого документу в кластері\n",
    "\n",
    "representative_docs = []\n",
    "for i in range(best_n_clusters):\n",
    "    cluster_docs = tf_idf_vector[kmeans.labels_ == i]\n",
    "    most_representative_doc = np.array(cluster_docs.mean(axis=1)).flatten().argmax()\n",
    "    representative_docs.append(most_representative_doc)\n",
    "\n",
    "# Extract TF-IDF vectors of representative documents\n",
    "representative_vectors = tf_idf_vector[representative_docs]\n",
    "\n",
    "# Get top words for each cluster based on TF-IDF weights\n",
    "top_words_per_cluster = []\n",
    "for vector in representative_vectors:\n",
    "    top_indices = vector.toarray()[0].argsort()[:-10:-1]\n",
    "    top_words = [feature_names[index] for index in top_indices]\n",
    "    top_words_per_cluster.append(top_words)\n",
    "\n",
    "# Print the most relevant themes for each cluster\n",
    "for i, top_words in enumerate(top_words_per_cluster):\n",
    "    print(f\"Cluster {i}: {' | '.join(top_words)}\")\n",
    "\n",
    "\n",
    "\n",
    "\n",
    "\n",
    "\n"
   ],
   "metadata": {
    "collapsed": false
   }
  },
  {
   "cell_type": "code",
   "execution_count": 40,
   "outputs": [
    {
     "name": "stdout",
     "output_type": "stream",
     "text": [
      "Cluster 0:\n"
     ]
    },
    {
     "ename": "KeyError",
     "evalue": "'act_number'",
     "output_type": "error",
     "traceback": [
      "\u001B[1;31m---------------------------------------------------------------------------\u001B[0m",
      "\u001B[1;31mKeyError\u001B[0m                                  Traceback (most recent call last)",
      "File \u001B[1;32m~\\anaconda3\\lib\\site-packages\\pandas\\core\\indexes\\base.py:3621\u001B[0m, in \u001B[0;36mIndex.get_loc\u001B[1;34m(self, key, method, tolerance)\u001B[0m\n\u001B[0;32m   3620\u001B[0m \u001B[38;5;28;01mtry\u001B[39;00m:\n\u001B[1;32m-> 3621\u001B[0m     \u001B[38;5;28;01mreturn\u001B[39;00m \u001B[38;5;28;43mself\u001B[39;49m\u001B[38;5;241;43m.\u001B[39;49m\u001B[43m_engine\u001B[49m\u001B[38;5;241;43m.\u001B[39;49m\u001B[43mget_loc\u001B[49m\u001B[43m(\u001B[49m\u001B[43mcasted_key\u001B[49m\u001B[43m)\u001B[49m\n\u001B[0;32m   3622\u001B[0m \u001B[38;5;28;01mexcept\u001B[39;00m \u001B[38;5;167;01mKeyError\u001B[39;00m \u001B[38;5;28;01mas\u001B[39;00m err:\n",
      "File \u001B[1;32m~\\anaconda3\\lib\\site-packages\\pandas\\_libs\\index.pyx:136\u001B[0m, in \u001B[0;36mpandas._libs.index.IndexEngine.get_loc\u001B[1;34m()\u001B[0m\n",
      "File \u001B[1;32m~\\anaconda3\\lib\\site-packages\\pandas\\_libs\\index.pyx:163\u001B[0m, in \u001B[0;36mpandas._libs.index.IndexEngine.get_loc\u001B[1;34m()\u001B[0m\n",
      "File \u001B[1;32mpandas\\_libs\\hashtable_class_helper.pxi:5198\u001B[0m, in \u001B[0;36mpandas._libs.hashtable.PyObjectHashTable.get_item\u001B[1;34m()\u001B[0m\n",
      "File \u001B[1;32mpandas\\_libs\\hashtable_class_helper.pxi:5206\u001B[0m, in \u001B[0;36mpandas._libs.hashtable.PyObjectHashTable.get_item\u001B[1;34m()\u001B[0m\n",
      "\u001B[1;31mKeyError\u001B[0m: 'act_number'",
      "\nThe above exception was the direct cause of the following exception:\n",
      "\u001B[1;31mKeyError\u001B[0m                                  Traceback (most recent call last)",
      "Input \u001B[1;32mIn [40]\u001B[0m, in \u001B[0;36m<cell line: 6>\u001B[1;34m()\u001B[0m\n\u001B[0;32m      6\u001B[0m \u001B[38;5;28;01mfor\u001B[39;00m i \u001B[38;5;129;01min\u001B[39;00m \u001B[38;5;28mrange\u001B[39m(best_n_clusters):\n\u001B[0;32m      7\u001B[0m     \u001B[38;5;28mprint\u001B[39m(\u001B[38;5;124mf\u001B[39m\u001B[38;5;124m'\u001B[39m\u001B[38;5;124mCluster \u001B[39m\u001B[38;5;132;01m{\u001B[39;00mi\u001B[38;5;132;01m}\u001B[39;00m\u001B[38;5;124m:\u001B[39m\u001B[38;5;124m'\u001B[39m)\n\u001B[1;32m----> 8\u001B[0m     \u001B[38;5;28mprint\u001B[39m(\u001B[43mdf\u001B[49m\u001B[43m[\u001B[49m\u001B[38;5;124;43m'\u001B[39;49m\u001B[38;5;124;43mact_number\u001B[39;49m\u001B[38;5;124;43m'\u001B[39;49m\u001B[43m]\u001B[49m[clusters \u001B[38;5;241m==\u001B[39m i]\u001B[38;5;241m.\u001B[39mtolist())\n",
      "File \u001B[1;32m~\\anaconda3\\lib\\site-packages\\pandas\\core\\frame.py:3505\u001B[0m, in \u001B[0;36mDataFrame.__getitem__\u001B[1;34m(self, key)\u001B[0m\n\u001B[0;32m   3503\u001B[0m \u001B[38;5;28;01mif\u001B[39;00m \u001B[38;5;28mself\u001B[39m\u001B[38;5;241m.\u001B[39mcolumns\u001B[38;5;241m.\u001B[39mnlevels \u001B[38;5;241m>\u001B[39m \u001B[38;5;241m1\u001B[39m:\n\u001B[0;32m   3504\u001B[0m     \u001B[38;5;28;01mreturn\u001B[39;00m \u001B[38;5;28mself\u001B[39m\u001B[38;5;241m.\u001B[39m_getitem_multilevel(key)\n\u001B[1;32m-> 3505\u001B[0m indexer \u001B[38;5;241m=\u001B[39m \u001B[38;5;28;43mself\u001B[39;49m\u001B[38;5;241;43m.\u001B[39;49m\u001B[43mcolumns\u001B[49m\u001B[38;5;241;43m.\u001B[39;49m\u001B[43mget_loc\u001B[49m\u001B[43m(\u001B[49m\u001B[43mkey\u001B[49m\u001B[43m)\u001B[49m\n\u001B[0;32m   3506\u001B[0m \u001B[38;5;28;01mif\u001B[39;00m is_integer(indexer):\n\u001B[0;32m   3507\u001B[0m     indexer \u001B[38;5;241m=\u001B[39m [indexer]\n",
      "File \u001B[1;32m~\\anaconda3\\lib\\site-packages\\pandas\\core\\indexes\\base.py:3623\u001B[0m, in \u001B[0;36mIndex.get_loc\u001B[1;34m(self, key, method, tolerance)\u001B[0m\n\u001B[0;32m   3621\u001B[0m     \u001B[38;5;28;01mreturn\u001B[39;00m \u001B[38;5;28mself\u001B[39m\u001B[38;5;241m.\u001B[39m_engine\u001B[38;5;241m.\u001B[39mget_loc(casted_key)\n\u001B[0;32m   3622\u001B[0m \u001B[38;5;28;01mexcept\u001B[39;00m \u001B[38;5;167;01mKeyError\u001B[39;00m \u001B[38;5;28;01mas\u001B[39;00m err:\n\u001B[1;32m-> 3623\u001B[0m     \u001B[38;5;28;01mraise\u001B[39;00m \u001B[38;5;167;01mKeyError\u001B[39;00m(key) \u001B[38;5;28;01mfrom\u001B[39;00m \u001B[38;5;21;01merr\u001B[39;00m\n\u001B[0;32m   3624\u001B[0m \u001B[38;5;28;01mexcept\u001B[39;00m \u001B[38;5;167;01mTypeError\u001B[39;00m:\n\u001B[0;32m   3625\u001B[0m     \u001B[38;5;66;03m# If we have a listlike key, _check_indexing_error will raise\u001B[39;00m\n\u001B[0;32m   3626\u001B[0m     \u001B[38;5;66;03m#  InvalidIndexError. Otherwise we fall through and re-raise\u001B[39;00m\n\u001B[0;32m   3627\u001B[0m     \u001B[38;5;66;03m#  the TypeError.\u001B[39;00m\n\u001B[0;32m   3628\u001B[0m     \u001B[38;5;28mself\u001B[39m\u001B[38;5;241m.\u001B[39m_check_indexing_error(key)\n",
      "\u001B[1;31mKeyError\u001B[0m: 'act_number'"
     ]
    }
   ],
   "source": [
    "# Кластеризація з обраною кількістю кластерів\n",
    "kmeans = KMeans(n_clusters=best_n_clusters, random_state=42)\n",
    "clusters = kmeans.fit_predict(tf_idf_vector)\n",
    "\n",
    "# Виведення списку документів для кожного кластеру\n",
    "for i in range(best_n_clusters):\n",
    "    print(f'Cluster {i}:')\n",
    "    print(df[\"name\"][clusters == i].tolist())"
   ],
   "metadata": {
    "collapsed": false
   }
  },
  {
   "cell_type": "code",
   "execution_count": 41,
   "outputs": [],
   "source": [
    "cl_labels = np.unique(clusters)"
   ],
   "metadata": {
    "collapsed": false
   }
  },
  {
   "cell_type": "code",
   "execution_count": 296,
   "outputs": [
    {
     "data": {
      "text/plain": "      Unnamed: 0 act_number  \\\n0              0     860-20   \n1              1     861-20   \n2              2     880-20   \n3              3    1035-20   \n4              4    1036-20   \n...          ...        ...   \n2932           0    2339-20   \n2933           0    1925-20   \n2934           0    2340-20   \n2935           0    2341-20   \n2936           0    2342-20   \n\n                                                   text  \\\n0     ЗАКОН УКРАЇНИ\\r\\nПро ратифікацію Договору між ...   \n1     ЗАКОН УКРАЇНИ\\r\\nПро ратифікацію Договору між ...   \n2     ЗАКОН УКРАЇНИ\\r\\nПро ратифікацію Протоколу, що...   \n3     ЗАКОН УКРАЇНИ\\r\\nПро ратифікацію Гарантійної у...   \n4     ЗАКОН УКРАЇНИ\\r\\nПро приєднання до Угоди про р...   \n...                                                 ...   \n2932  ЗАКОН УКРАЇНИ\\r\\nПро ратифікацію Протоколу про...   \n2933  ЗАКОН УКРАЇНИ\\r\\nПро ратифікацію Протоколу до ...   \n2934  ЗАКОН УКРАЇНИ\\r\\nПро ратифікацію Європейської ...   \n2935  ЗАКОН УКРАЇНИ\\r\\nПро ратифікацію Угоди між Каб...   \n2936  ЗАКОН УКРАЇНИ\\r\\nПро ратифікацію Конвенції про...   \n\n                                      text_preprocessed  \\\n0      закон україни ратифікацію договору україною й...   \n1      закон україни ратифікацію договору україною й...   \n2      закон україни ратифікацію протоколу вносить з...   \n3      закон україни ратифікацію гарантійної угоди у...   \n4      закон україни приєднання угоди розвиток мульт...   \n...                                                 ...   \n2932   закон україни ратифікацію протоколу право зас...   \n2933   закон україни ратифікацію протоколу угоди уря...   \n2934   закон україни ратифікацію європейської конвен...   \n2935   закон україни ратифікацію угоди кабінетом мін...   \n2936   закон україни ратифікацію конвенції визнання ...   \n\n                                text_preprocessed_stemm  \\\n0      закон україн ратифікаці договор україн йордан...   \n1      закон україн ратифікаці договор україн йордан...   \n2      закон україн ратифікаці протокол вно змін дод...   \n3      закон україн ратифікаці гарантійн угод україн...   \n4      закон україн приєднанн угод розвит мультимода...   \n...                                                 ...   \n2932   закон україн ратифікаці протокол прав застосо...   \n2933   закон україн ратифікаці протокол угод уряд уг...   \n2934   закон україн ратифікаці європейськ конвенці с...   \n2935   закон україн ратифікаці угод кабінет міністр ...   \n2936   закон україн ратифікаці конвенці визнанн вико...   \n\n                                               keywords  \n0     {'хашимітськ': 0.447, 'йорданськ': 0.447, 'пра...  \n1     {'хашимітськ': 0.45, 'йорданськ': 0.45, 'корол...  \n2     {'протокол': 0.727, 'засуджен': 0.296, 'конвен...  \n3     {'підстанці': 0.447, 'надійн': 0.344, 'гаранті...  \n4     {'мультимодальн': 0.501, 'перевезен': 0.394, '...  \n...                                                 ...  \n2932  {'утриманн': 0.333, 'протокол': 0.316, 'гааз':...  \n2933  {'уряд': 0.493, 'румун': 0.325, 'словацьк': 0....  \n2934  {'консульськ': 0.33, 'агент': 0.32, 'легалізац...  \n2935  {'угод': 0.345, 'взаємн': 0.326, 'уряд': 0.261...  \n2936  {'конвенці': 0.462, 'комерційн': 0.337, 'гааз'...  \n\n[2937 rows x 6 columns]",
      "text/html": "<div>\n<style scoped>\n    .dataframe tbody tr th:only-of-type {\n        vertical-align: middle;\n    }\n\n    .dataframe tbody tr th {\n        vertical-align: top;\n    }\n\n    .dataframe thead th {\n        text-align: right;\n    }\n</style>\n<table border=\"1\" class=\"dataframe\">\n  <thead>\n    <tr style=\"text-align: right;\">\n      <th></th>\n      <th>Unnamed: 0</th>\n      <th>act_number</th>\n      <th>text</th>\n      <th>text_preprocessed</th>\n      <th>text_preprocessed_stemm</th>\n      <th>keywords</th>\n    </tr>\n  </thead>\n  <tbody>\n    <tr>\n      <th>0</th>\n      <td>0</td>\n      <td>860-20</td>\n      <td>ЗАКОН УКРАЇНИ\\r\\nПро ратифікацію Договору між ...</td>\n      <td>закон україни ратифікацію договору україною й...</td>\n      <td>закон україн ратифікаці договор україн йордан...</td>\n      <td>{'хашимітськ': 0.447, 'йорданськ': 0.447, 'пра...</td>\n    </tr>\n    <tr>\n      <th>1</th>\n      <td>1</td>\n      <td>861-20</td>\n      <td>ЗАКОН УКРАЇНИ\\r\\nПро ратифікацію Договору між ...</td>\n      <td>закон україни ратифікацію договору україною й...</td>\n      <td>закон україн ратифікаці договор україн йордан...</td>\n      <td>{'хашимітськ': 0.45, 'йорданськ': 0.45, 'корол...</td>\n    </tr>\n    <tr>\n      <th>2</th>\n      <td>2</td>\n      <td>880-20</td>\n      <td>ЗАКОН УКРАЇНИ\\r\\nПро ратифікацію Протоколу, що...</td>\n      <td>закон україни ратифікацію протоколу вносить з...</td>\n      <td>закон україн ратифікаці протокол вно змін дод...</td>\n      <td>{'протокол': 0.727, 'засуджен': 0.296, 'конвен...</td>\n    </tr>\n    <tr>\n      <th>3</th>\n      <td>3</td>\n      <td>1035-20</td>\n      <td>ЗАКОН УКРАЇНИ\\r\\nПро ратифікацію Гарантійної у...</td>\n      <td>закон україни ратифікацію гарантійної угоди у...</td>\n      <td>закон україн ратифікаці гарантійн угод україн...</td>\n      <td>{'підстанці': 0.447, 'надійн': 0.344, 'гаранті...</td>\n    </tr>\n    <tr>\n      <th>4</th>\n      <td>4</td>\n      <td>1036-20</td>\n      <td>ЗАКОН УКРАЇНИ\\r\\nПро приєднання до Угоди про р...</td>\n      <td>закон україни приєднання угоди розвиток мульт...</td>\n      <td>закон україн приєднанн угод розвит мультимода...</td>\n      <td>{'мультимодальн': 0.501, 'перевезен': 0.394, '...</td>\n    </tr>\n    <tr>\n      <th>...</th>\n      <td>...</td>\n      <td>...</td>\n      <td>...</td>\n      <td>...</td>\n      <td>...</td>\n      <td>...</td>\n    </tr>\n    <tr>\n      <th>2932</th>\n      <td>0</td>\n      <td>2339-20</td>\n      <td>ЗАКОН УКРАЇНИ\\r\\nПро ратифікацію Протоколу про...</td>\n      <td>закон україни ратифікацію протоколу право зас...</td>\n      <td>закон україн ратифікаці протокол прав застосо...</td>\n      <td>{'утриманн': 0.333, 'протокол': 0.316, 'гааз':...</td>\n    </tr>\n    <tr>\n      <th>2933</th>\n      <td>0</td>\n      <td>1925-20</td>\n      <td>ЗАКОН УКРАЇНИ\\r\\nПро ратифікацію Протоколу до ...</td>\n      <td>закон україни ратифікацію протоколу угоди уря...</td>\n      <td>закон україн ратифікаці протокол угод уряд уг...</td>\n      <td>{'уряд': 0.493, 'румун': 0.325, 'словацьк': 0....</td>\n    </tr>\n    <tr>\n      <th>2934</th>\n      <td>0</td>\n      <td>2340-20</td>\n      <td>ЗАКОН УКРАЇНИ\\r\\nПро ратифікацію Європейської ...</td>\n      <td>закон україни ратифікацію європейської конвен...</td>\n      <td>закон україн ратифікаці європейськ конвенці с...</td>\n      <td>{'консульськ': 0.33, 'агент': 0.32, 'легалізац...</td>\n    </tr>\n    <tr>\n      <th>2935</th>\n      <td>0</td>\n      <td>2341-20</td>\n      <td>ЗАКОН УКРАЇНИ\\r\\nПро ратифікацію Угоди між Каб...</td>\n      <td>закон україни ратифікацію угоди кабінетом мін...</td>\n      <td>закон україн ратифікаці угод кабінет міністр ...</td>\n      <td>{'угод': 0.345, 'взаємн': 0.326, 'уряд': 0.261...</td>\n    </tr>\n    <tr>\n      <th>2936</th>\n      <td>0</td>\n      <td>2342-20</td>\n      <td>ЗАКОН УКРАЇНИ\\r\\nПро ратифікацію Конвенції про...</td>\n      <td>закон україни ратифікацію конвенції визнання ...</td>\n      <td>закон україн ратифікаці конвенці визнанн вико...</td>\n      <td>{'конвенці': 0.462, 'комерційн': 0.337, 'гааз'...</td>\n    </tr>\n  </tbody>\n</table>\n<p>2937 rows × 6 columns</p>\n</div>"
     },
     "execution_count": 296,
     "metadata": {},
     "output_type": "execute_result"
    }
   ],
   "source": [
    "df"
   ],
   "metadata": {
    "collapsed": false
   }
  },
  {
   "cell_type": "code",
   "execution_count": 42,
   "outputs": [],
   "source": [
    "docs_clusters = pd.DataFrame({'Document': df['text_preprocessed_stemm'], 'Class': clusters})\n",
    "docs_per_class = docs_clusters.groupby(['Class'], as_index=False).agg({'Document': ' '.join})\n",
    "\n",
    "# Create c-TF-IDF\n",
    "count = CountVectorizer().fit_transform(docs_per_class.Document)\n",
    "ctfidf = CTFIDFVectorizer().fit_transform(count, n_samples=len(docs_clusters))"
   ],
   "metadata": {
    "collapsed": false
   }
  },
  {
   "cell_type": "markdown",
   "source": [],
   "metadata": {
    "collapsed": false
   }
  },
  {
   "cell_type": "code",
   "execution_count": 43,
   "outputs": [],
   "source": [
    "count_vectorizer = CountVectorizer(ngram_range=(2,2)).fit(docs_per_class.Document)\n",
    "count = count_vectorizer.transform(docs_per_class.Document)\n",
    "words = count_vectorizer.get_feature_names_out()\n",
    "cl_labels = np.arange(docs_clusters.Class.nunique())\n",
    "# Extract top 10 words per class\n",
    "ctfidf = CTFIDFVectorizer().fit_transform(count, n_samples=len(docs_clusters)).toarray()\n",
    "words_per_class = {cl_labels[label]: [words[index] for index in ctfidf[label].argsort()[-10:]]\n",
    "                   for label in docs_per_class.Class}"
   ],
   "metadata": {
    "collapsed": false
   }
  },
  {
   "cell_type": "code",
   "execution_count": 280,
   "outputs": [
    {
     "data": {
      "text/plain": "[(0,\n  ['статус',\n   'військовослужбов',\n   'чорнобильськ',\n   'ветеран',\n   'гарант',\n   'сім',\n   'війн',\n   'діт',\n   'захист',\n   'соціальн']),\n (1,\n  ['скасуванн',\n   'пра',\n   'діяльн',\n   'ціл',\n   'орган',\n   'читанн',\n   'удосконаленн',\n   'сфер',\n   'акт',\n   'законодавч']),\n (2,\n  ['національн',\n   'пенсі',\n   'соціальн',\n   'державн',\n   'антикорупційн',\n   'бюр',\n   'пенсійн',\n   'загальнообов',\n   'язков',\n   'страхуванн']),\n (3,\n  ['засоб',\n   'вимог',\n   'сфер',\n   'кримінальн',\n   'посиленн',\n   'порушенн',\n   'кодекс',\n   'відповідальн',\n   'правопорушенн',\n   'адміністративн']),\n (4,\n  ['внесенн',\n   'бюджетн',\n   'ос',\n   'забезпеченн',\n   'бюджет',\n   'діяльн',\n   'кодекс',\n   'статт',\n   'податков',\n   'державн']),\n (5,\n  ['питан',\n   'федераці',\n   'слідч',\n   'російськ',\n   'комісі',\n   'район',\n   'тимчасов',\n   'област',\n   'постанов',\n   'верховн']),\n (6,\n  ['правопорушенн',\n   'адміністративн',\n   'стан',\n   'досудов',\n   'посиленн',\n   'злочин',\n   'відповідальн',\n   'кодекс',\n   'процесуальн',\n   'кримінальн']),\n (7,\n  ['постанов',\n   'заступник',\n   'гол',\n   'поряд',\n   'верховн',\n   'денн',\n   'сесі',\n   'скликанн',\n   'дев',\n   'ят']),\n (8,\n  ['постанов',\n   'груп',\n   'припиненн',\n   'достроков',\n   'направленн',\n   'президент',\n   'запит',\n   'депутатськ',\n   'депутат',\n   'народн']),\n (9,\n  ['закупівл',\n   'підрозділ',\n   'митн',\n   'кодекс',\n   'податков',\n   'пункт',\n   'прикін',\n   'перехідн',\n   'розділ',\n   'положенн']),\n (10,\n  ['карантин',\n   'зах',\n   'респіраторн',\n   'коронавірус',\n   'гостр',\n   'спричинен',\n   'запобіганн',\n   'коронавірусн',\n   'поширенн',\n   'хвороб']),\n (11,\n  ['парламент',\n   'асамбле',\n   'держа',\n   'зверненн',\n   'європейськ',\n   'кабінет',\n   'ратифікаці',\n   'угод',\n   'уряд',\n   'міністр']),\n (12,\n  ['удосконаленн',\n   'сфер',\n   'забезпеченн',\n   'діяльн',\n   'державн',\n   'законодавч',\n   'акт',\n   'постанов',\n   'прийнятт',\n   'основ'])]"
     },
     "execution_count": 280,
     "metadata": {},
     "output_type": "execute_result"
    }
   ],
   "source": [
    "word = list(words_per_class.items())\n",
    "word"
   ],
   "metadata": {
    "collapsed": false
   }
  },
  {
   "cell_type": "code",
   "execution_count": 320,
   "outputs": [],
   "source": [
    " words = list(words_per_class.items())"
   ],
   "metadata": {
    "collapsed": false
   }
  },
  {
   "cell_type": "code",
   "execution_count": 45,
   "outputs": [
    {
     "data": {
      "text/plain": "{0: 'зверненн верховн| направленн депутатськ| депутатськ запит| воєнн стан| соціальн захист| російськ федераці| бюджетн кодекс| народн депутат| державн бюджет| податков кодекс',\n 1: 'кодекс встановленн| посиленн відповідальн| кримінальн відповідальн| адміністративн правопорушенн| кодекс адміністративн| статт кримінальн| кодекс кримінальн| кодекс посиленн| правопорушенн кримінальн| кримінальн кодекс',\n 2: 'забезпеченн збалансован| кодекс законодавч| реєстр скасуванн| ціл податков| верховн прийнятт| друг читанн| читанн ціл| прийнятт друг| скасуванн рішенн| рішенн верховн',\n 3: 'гол секретар| скликанн верховн| обранн гол| секретар член| скликанн поряд| поряд денн| сесі верховн| верховн дев| ят скликанн| дев ят',\n 4: 'підрозділ розділ| основ розділ| положенн бюджетн| податков кодекс| пункт розділ| розділ перехідн| положенн податков| розділ прикін| прикін перехідн| перехідн положенн',\n 5: 'правопорушенн відповідальн| встановленн відповідальн| правопорушенн встановленн| основ кодекс| посиленн відповідальн| відповідальн порушенн| статт кодекс| правопорушенн посиленн| кодекс адміністративн| адміністративн правопорушенн',\n 6: 'страхов стаж| статт загальнообов| внес загальнообов| єдин внес| державн соціальн| соціальн страхуванн| пенсійн страхуванн| державн пенсійн| загальнообов язков| язков державн',\n 7: 'податков кодекс| воєнн стан| кримінальн кримінальн| стан прийнятт| основ податков| основ державн| основ статт| кримінальн процесуальн| процесуальн кодекс| прийнятт основ',\n 8: 'комісі верховн| пра учасник| захист пра| верховн питан| публічн закупівел| статт публічн| доопрацюванн статт| доопрацюванн законодавч| публічн закупівл| поверненн доопрацюванн',\n 9: 'акт спрощенн| акт забезпеченн| акт посиленн| акт вдосконаленн| акт удосконаленн| відхиленн законодавч| кодекс законодавч| прийнятт основ| основ законодавч| законодавч акт'}"
     },
     "execution_count": 45,
     "metadata": {},
     "output_type": "execute_result"
    }
   ],
   "source": [
    "joined_dict = {key: '| '.join(value) for key, value in words_per_class.items()}\n",
    "joined_dict"
   ],
   "metadata": {
    "collapsed": false
   }
  },
  {
   "cell_type": "code",
   "execution_count": null,
   "outputs": [],
   "source": [
    "#Getting the Centroids\n",
    "centroids = kmeans.cluster_centers_\n",
    "u_labels = cl_labels\n",
    "\n",
    "#plotting the results:\n",
    "\n",
    "for i in u_labels:\n",
    "    plt.scatter(docs_clusters.loc[docs_clusters['Class'] == i, 0] , docs_clusters['Class' == i , 1] , label = i)\n",
    "plt.scatter(centroids[:,0] , centroids[:,1] , s = 80, color = 'k')\n",
    "plt.legend()\n",
    "plt.show()\n"
   ],
   "metadata": {
    "collapsed": false
   }
  },
  {
   "cell_type": "code",
   "execution_count": null,
   "outputs": [],
   "source": [],
   "metadata": {
    "collapsed": false
   }
  }
 ],
 "metadata": {
  "kernelspec": {
   "display_name": "Python 3 (ipykernel)",
   "language": "python",
   "name": "python3"
  },
  "language_info": {
   "codemirror_mode": {
    "name": "ipython",
    "version": 3
   },
   "file_extension": ".py",
   "mimetype": "text/x-python",
   "name": "python",
   "nbconvert_exporter": "python",
   "pygments_lexer": "ipython3",
   "version": "3.8.13"
  }
 },
 "nbformat": 4,
 "nbformat_minor": 5
}
